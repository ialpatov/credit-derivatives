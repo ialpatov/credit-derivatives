{
  "cells": [
    {
      "cell_type": "markdown",
      "metadata": {
        "id": "view-in-github",
        "colab_type": "text"
      },
      "source": [
        "<a href=\"https://colab.research.google.com/github/ialpatov/credit-derivatives/blob/main/credit_derivatives_PCA_final_v1_0.ipynb\" target=\"_parent\"><img src=\"https://colab.research.google.com/assets/colab-badge.svg\" alt=\"Open In Colab\"/></a>"
      ]
    },
    {
      "cell_type": "markdown",
      "metadata": {
        "id": "oN9rNLbn3O4L"
      },
      "source": [
        "$\\Huge Version  1.0$"
      ]
    },
    {
      "cell_type": "markdown",
      "metadata": {
        "id": "xH4Ql9vP2xP5"
      },
      "source": [
        "# Credit Derivatives Indices and ETFS vs Stock index \n",
        "# PCA Trading Strategy\n",
        "\n",
        "\n",
        "\n",
        "- Стратегия основывается на статье \"Statistical Arbitrage in the U.S. Equities Market\", Avellaneda, Lee (2008) \n",
        "\n",
        "- PC = principal components\n",
        "\n",
        "- В статье рекомендуется при использовании PCA брать столько главных компонент, чтобы они объясняли примерно 55% дисперсии. Большее или меньшее количество PCA в исследовании давало более плохие результаты. \n",
        "\n",
        "- В стратегии берется окно из предыдущих regression_period дней для того, чтобы получить returns для торгуемого инструмента (в нашем случае это индекс или ETF) и разложить его по факторам, в качестве которых берутся либо сами ETF, либо их главные компоненты. Затем по res_estimation_period окну (в статье и в нашей стратегии используется 60 дней) формируется остаток от разложения торгуемого инструмента по факторам. Вектор остатков приближается процессом Орнштейна-Уленбека. Затем на основании остатка в текущий момент времени  вычисляется критерий s-score, от значения которого непосредственно зависит trading signal. Далее непосредственно происходит открытие или закрытие позиции с весами, зависящими от коэффициентов разложения по факторам.\n",
        "\n",
        "- В данном ноутбуке базово происходит торговля stock индекса (далее SX) против кредитных индексов и ETF (далее CD), принимая во внимание валюту в которой торгуются индексы, т.е. например SPX торгуется против CDX, HYG, LQD, VIX (последний не является кредитным индексом, однако тоже включен в стратегию). SX5E торгуется против ITRAXX (IG и Xover), IHYG, IEAC.\n",
        "\n",
        "- Поскольку хотелось посмотреть, зависит ли результат стратегии от того, что по чему мы раскладываем, то есть возможность в параметрах стратегии указать, используем ли мы PCA (параметр use_pca) и раскладываем ли мы SX по CD (параметр stock_decomposed) или наоборот. Таким образом, получается 4 разных варианта: раскладываем CD по SX, CD по SX и PC of CD, SX по CD, SX по PC of CD.\n",
        "\n",
        "- Чтобы понять, какое количество компонент брать (очевидно, что имеет смысл брать не более 3, так как в каждом случае у нас 4 CD), мы прошлись окном по данным CD и выяснили, что в подавляющем большинстве случаев (>90%) достаточно брать 1 PC для того, чтобы объяснить минимум 55% дисперсии CD. В любом случае, количество компонент можно задать как параметр n_components стратегии (при 0 < n_components < 1 этот параметр будет означать долю дисперсии, которую необходимо минимально объяснить с помощью PC, и в этом случае количество компонент будет вычислено автоматически)\n",
        "\n",
        "\n",
        "\n"
      ]
    },
    {
      "cell_type": "markdown",
      "metadata": {
        "id": "FwpmPVN-MZcI"
      },
      "source": [
        "Отличия от статьи:\n",
        "- при scaling с помощью StandardScaler используется np.std(ddof=0), т.е. дисперсия считается с делителем M, а не M-1. В документации StandardScaler пишется, что это не особо должно влиять.\n",
        "- матрица корреляций считается по regression_period, который меньше, чем 252 дня"
      ]
    },
    {
      "cell_type": "markdown",
      "metadata": {
        "id": "DKMrkUID7FrO"
      },
      "source": [
        "Как можно попытаться улучшить стратегию:\n",
        "- использовать вместо обычной регрессии matching pursuit algorithm (p. 11 в статье)\n",
        "- variable number of PCs\n",
        "- trading time approach (p. 37 в статье). Учитывать модифицированные с помощью объемов returns. В статье говорится что улучшает показатели PNL и Sharpe дляя ETF подхода.\n",
        "- поподбирать размер окна с учетом цикличности данных в области крредитных деривативов\n",
        "\n",
        "- объяснить настолько сильно отличающийся по масштабу по сравнению со статьей s-score, и поподбирать более подходящие пороги thresholds для s-score, при пересечении которых изменяется позиция.\n",
        "\n",
        "- для первых 2 стратегий попробовать использовать adjusted means для s_score"
      ]
    },
    {
      "cell_type": "markdown",
      "metadata": {
        "id": "e0Pjz17nDjHY"
      },
      "source": [
        "Please set a version of simulator that you require, it is very advisable to use the latest version with tag \"latest\" since it includes all latest features."
      ]
    },
    {
      "cell_type": "code",
      "execution_count": null,
      "metadata": {
        "id": "PJEI6IUUAwAn"
      },
      "outputs": [],
      "source": [
        "VERSION =  \"latest\" #@param {type:\"string\"}"
      ]
    },
    {
      "cell_type": "code",
      "execution_count": null,
      "metadata": {
        "colab": {
          "base_uri": "https://localhost:8080/"
        },
        "id": "YkzDBvij2kZS",
        "outputId": "187bbe4e-e993-4c66-cbe6-0cb4c8fdbd95"
      },
      "outputs": [
        {
          "output_type": "stream",
          "name": "stdout",
          "text": [
            "\u001b[K     |████████████████████████████████| 1.9 MB 5.2 MB/s \n",
            "\u001b[K     |████████████████████████████████| 168 kB 48.6 MB/s \n",
            "\u001b[K     |████████████████████████████████| 182 kB 49.3 MB/s \n",
            "\u001b[K     |████████████████████████████████| 62 kB 260 kB/s \n",
            "\u001b[K     |████████████████████████████████| 168 kB 26.6 MB/s \n",
            "\u001b[K     |████████████████████████████████| 166 kB 27.5 MB/s \n",
            "\u001b[K     |████████████████████████████████| 166 kB 48.6 MB/s \n",
            "\u001b[K     |████████████████████████████████| 162 kB 30.9 MB/s \n",
            "\u001b[K     |████████████████████████████████| 162 kB 54.5 MB/s \n",
            "\u001b[K     |████████████████████████████████| 158 kB 25.5 MB/s \n",
            "\u001b[K     |████████████████████████████████| 157 kB 52.5 MB/s \n",
            "\u001b[K     |████████████████████████████████| 157 kB 47.3 MB/s \n",
            "\u001b[K     |████████████████████████████████| 157 kB 59.9 MB/s \n",
            "\u001b[K     |████████████████████████████████| 157 kB 4.7 MB/s \n",
            "\u001b[K     |████████████████████████████████| 157 kB 9.2 MB/s \n",
            "\u001b[K     |████████████████████████████████| 157 kB 35.1 MB/s \n",
            "\u001b[K     |████████████████████████████████| 157 kB 46.2 MB/s \n",
            "\u001b[K     |████████████████████████████████| 156 kB 25.3 MB/s \n",
            "\u001b[?25h  Building wheel for pathtools (setup.py) ... \u001b[?25l\u001b[?25hdone\n",
            "Cloning into 'CreditDerivativesSimulator'...\n",
            "remote: Enumerating objects: 366, done.\u001b[K\n",
            "remote: Counting objects: 100% (111/111), done.\u001b[K\n",
            "remote: Compressing objects: 100% (68/68), done.\u001b[K\n",
            "remote: Total 366 (delta 86), reused 50 (delta 43), pack-reused 255\u001b[K\n",
            "Receiving objects: 100% (366/366), 81.70 KiB | 1.90 MiB/s, done.\n",
            "Resolving deltas: 100% (221/221), done.\n",
            "/content/CreditDerivativesSimulator\n"
          ]
        }
      ],
      "source": [
        "#@title [RUN] Install required python libraries and clone the repo\n",
        "\n",
        "# Assert for correct version\n",
        "assert VERSION in ['v1.0', 'v1.1', 'v1.2', 'latest'], 'Specify correct version!' + \\\n",
        "                            'Available versions are \"v1.0\", \"v1.1\" , \"v1.2\" and \"latest\".'\n",
        "\n",
        "!pip install wandb -q\n",
        "if VERSION == \"latest\":\n",
        "    !git clone https://github.com/vladargunov/CreditDerivativesSimulator.git\n",
        "else:\n",
        "    !git clone -b $VERSION https://github.com/vladargunov/CreditDerivativesSimulator.git\n",
        "\n",
        "# Import necessary classses\n",
        "%cd CreditDerivativesSimulator\n",
        "from src.base_strategy import BaseStrategy\n",
        "from src.simulator import Simulator"
      ]
    },
    {
      "cell_type": "code",
      "execution_count": null,
      "metadata": {
        "id": "6tKisthaBlbN"
      },
      "outputs": [],
      "source": [
        "import numpy as np\n",
        "import pandas as pd\n",
        "from sklearn.decomposition import PCA\n",
        "from sklearn.preprocessing import StandardScaler\n",
        "# from sklearn.linear_model import Ridge\n",
        "from sklearn.linear_model import LinearRegression\n",
        "from statsmodels.tsa.arima.model import ARIMA\n",
        "from scipy.optimize.nonlin import maxnorm\n",
        "from statsmodels.tsa.stattools import adfuller\n",
        "import seaborn as sns\n",
        "from matplotlib import pyplot as plt\n",
        "from functools import reduce\n",
        "import itertools\n",
        "import warnings\n",
        "warnings.filterwarnings('ignore')"
      ]
    },
    {
      "cell_type": "markdown",
      "metadata": {
        "id": "ZtNp5jkiDVr8"
      },
      "source": [
        "# Migration from previous version\n",
        "\n",
        "As in previous versions, all you need to do is to copy your strategy in the next cell."
      ]
    },
    {
      "cell_type": "code",
      "execution_count": null,
      "metadata": {
        "id": "bR9YNlZmA26V"
      },
      "outputs": [],
      "source": [
        "class PCA_strategy(BaseStrategy):\n",
        "\n",
        "    \"\"\"\n",
        "    PCA Strategy\n",
        "    \"\"\"\n",
        "    def __init__(self, regression_period = 60, res_estimation_period = 60, \n",
        "                 use_pca = True, n_components=1, stock_decomposed = True, currency = 'usd',\n",
        "                 scale_factor=10):\n",
        "        \"\"\" \n",
        "        PC - principal components\n",
        "        Attributes:\n",
        "        regression_period - window length for calculating PC of data series\n",
        "        res_estimation_period - window length for residual calculation\n",
        "        use_pca - if we use PCA method or not\n",
        "        n_components - number of components for PCA method\n",
        "        stock_decomposed - True if we decompose stock index by credit indices, False otherwise\n",
        "        currency - determines group of stock and credit derivatives indices by their currency\n",
        "        \"\"\" \n",
        "        self.res_estimation_period = res_estimation_period\n",
        "        self.regression_period = regression_period\n",
        "        self.n_components = n_components\n",
        "        self.use_pca = use_pca\n",
        "        self.stock_decomposed = stock_decomposed\n",
        "        self.scale_factor = scale_factor\n",
        "\n",
        "        self.all_traded_tickers = ['er_cdx_ig_long', 'hyg', 'lqd', 'vix', \\\n",
        "                                   'er_itraxx_main_long', 'er_itraxx_xover_long', 'ihyg', 'ieac',\n",
        "                                   'spx', 'sx5e']\n",
        "\n",
        "        # thresholds for s-score\n",
        "        self.thresholds = [-3.55, -1.4, 1.15, 3.44]\n",
        "        \n",
        "        stock_ticker_usd = 'spx'\n",
        "        stock_ticker_eur = 'sx5e'\n",
        "        credit_tickers_usd = ['er_cdx_ig_long', 'hyg', 'lqd', 'vix']\n",
        "        credit_tickers_eur = ['er_itraxx_main_long', 'er_itraxx_xover_long', 'ihyg', 'ieac']\n",
        "        \n",
        "        pairs = {'usd': {'stock': stock_ticker_usd, 'credit': credit_tickers_usd},\n",
        "                      'eur': {'stock': stock_ticker_eur, 'credit': credit_tickers_eur}}\n",
        "        self.current_pair = pairs[currency]\n",
        "\n",
        "        self.arr = [self.current_pair['stock'], *self.current_pair['credit']]\n",
        "        self.portfolio = dict(zip(self.arr, [0 for x in self.arr]))\n",
        "        self.etf_dec_portfolio = [dict(zip(self.arr, [0 for x in self.arr])) for i in self.arr[1:]]\n",
        "        self.position_opened = None if self.stock_decomposed == True else [None for x in self.arr[1:]]\n",
        "        \n",
        "\n",
        "        self.lookback_freq = 1\n",
        "        self.trade_cnt = 0\n",
        "\n",
        "    def train_model(self, train_data):\n",
        "        \"\"\"\n",
        "        Set train data\n",
        "        \"\"\"\n",
        "        # Get lookback data\n",
        "        self.lookback_data = train_data.iloc[-self.regression_period:]\n",
        "        \n",
        "       \n",
        "    def trade(self, daily_data : dict) -> dict:\n",
        "        \"\"\"\n",
        "        Trade based on lookback data and using PCA\n",
        "        \"\"\"\n",
        "        # Place a recent date into self.lookback_data\n",
        "        self.lookback_data = \\\n",
        "                    self.lookback_data.append(daily_data, ignore_index=True)\n",
        "\n",
        "        # Fill infinite values with nan values to interpolate\n",
        "        self.lookback_data = self.lookback_data.replace([np.inf, -np.inf], np.nan)\n",
        "\n",
        "        # Check for any nan values resulted from missing data and interpolate them\n",
        "        if self.lookback_data.isnull().values.any():\n",
        "            for asset in self.lookback_data.columns:\n",
        "              try:\n",
        "                self.lookback_data[asset] = self.lookback_data[asset] \\\n",
        "                                        .interpolate(method='polynomial', order=1)\n",
        "              except ValueError:\n",
        "                continue\n",
        "        self.lookback_data = self.lookback_data.ffill()\n",
        "        # Get returns for current lookback_data\n",
        "        current_returns = self.lookback_data.pct_change()\n",
        "\n",
        "        # Drop first row with nan values which resulted from pct_change()\n",
        "        # from current data\n",
        "        self.lookback_data = self.lookback_data.iloc[1:]\n",
        "        # update daily_data so that there would be no nans there\n",
        "        daily_data = self.lookback_data.iloc[-1].to_dict()\n",
        "\n",
        "        # Drop first row with nan values from current_lookback_data\n",
        "        current_returns = current_returns.iloc[1:]\n",
        "\n",
        "        # Get current etfs and stocks\n",
        "        etfs = current_returns[self.current_pair['credit']]\n",
        "        stock = current_returns[self.current_pair['stock']]\n",
        "\n",
        "        factors, components, sigmas = self.get_factors(etfs, stock)\n",
        "        \n",
        "        # here we could use Ridge but it can perform badly\n",
        "        if self.stock_decomposed == True:\n",
        "          X, beta_0, betas = self.regression(factors, stock)\n",
        "        else:\n",
        "          X, beta_0, betas = self.regression(factors, etfs)\n",
        "\n",
        "        if self.stock_decomposed == True:\n",
        "          s_score = self.calc_s_score(list(X), beta_0)\n",
        "        else:\n",
        "          s_score = []\n",
        "          for index, etf_name in enumerate(X):\n",
        "            s_score.append(self.calc_s_score(list(X[etf_name]), beta_0[index]))\n",
        "\n",
        "\n",
        "        # ЗДЕСЬ ПРОИСХОДИТ РАБОТА С ПОРТФОЛИО\n",
        "        # self.etf_dec_portfolio нужен если stock_decomposed == False \n",
        "        # в этом случае self.portfolio представляет собой массив словарей ! \n",
        "        # (просто открываем позиции отдельно для каждого credit индекса)\n",
        "        self.portfolio = self.portfolio if self.stock_decomposed == True else self.etf_dec_portfolio\n",
        "        self.position_opened, new_portfolio = self.update_portfolio(s_score, components, sigmas, betas, daily_data)\n",
        "        self.portfolio = new_portfolio if self.stock_decomposed == True else reduce(self.sum_dicts, new_portfolio)\n",
        "        self.etf_dec_portfolio = self.etf_dec_portfolio if self.stock_decomposed == True else new_portfolio\n",
        "        # здесь возвращается уже портфолио в формате словаря\n",
        "\n",
        "        # ADDITIONS OF VLADARGUNOV\n",
        "        # Check portfolio for existence of nan values and replace them to zeros\n",
        "        self.portfolio = self.replace_nans(self.portfolio)\n",
        "\n",
        "        # Scale portfolio by multiplying all values by a constant\n",
        "        return_portfolio = self.scale_portfolio(portfolio=self.portfolio.copy(),\n",
        "                                              scale_factor=self.scale_factor)\n",
        "\n",
        "        return return_portfolio\n",
        "\n",
        "    \n",
        "    def get_factors(self, etfs, stock):\n",
        "      \"\"\"\n",
        "      Calculates factors for regression and performs PCA if necessary\n",
        "      \"\"\"\n",
        "\n",
        "      factors = pd.DataFrame()\n",
        "      # scaled data for PCA\n",
        "      if self.use_pca == True:\n",
        "        scaler = StandardScaler()\n",
        "        Y = scaler.fit_transform(etfs)\n",
        "        sigmas = scaler.scale_\n",
        "        # Compute PCA\n",
        "        pca = PCA(n_components=self.n_components)\n",
        "        pca.fit(Y)\n",
        "        \n",
        "        if self.stock_decomposed == False:\n",
        "          factors['stock'] = stock\n",
        "        for index, eigenvector in enumerate(pca.components_):\n",
        "          factors[f'{index}'] = (np.dot(etfs, eigenvector / sigmas))\n",
        "        return factors, pca.components_, sigmas\n",
        "      elif self.stock_decomposed == True: \n",
        "        factors = etfs\n",
        "      else:\n",
        "        factors['stock'] = stock\n",
        "      return factors, None, None\n",
        "        \n",
        "\n",
        "    def regression(self, factors, y):\n",
        "      \"\"\"\n",
        "      Performs regression of index by factors\n",
        "\n",
        "      Attributes:\n",
        "      factors - regressors\n",
        "      y - vector to regress\n",
        "\n",
        "      Returns residual ndarray and regression coefficients (betas)\n",
        "      \"\"\"\n",
        "\n",
        "      clf = LinearRegression()\n",
        "      clf.fit(factors, y)\n",
        "      beta_0 = clf.intercept_\n",
        "      betas = clf.coef_\n",
        "      eps = y - clf.predict(factors)\n",
        "\n",
        "      X = eps[-self.res_estimation_period:].cumsum(axis=0)\n",
        "      return X, beta_0, betas\n",
        "\n",
        "    def calc_s_score(self, X, beta_0):\n",
        "      \"\"\"\n",
        "      Performs autoregression of residuals and calculates s-score\n",
        "\n",
        "      Attributes:\n",
        "      X - residual vector\n",
        "      beta_0 - regression coef\n",
        "      \"\"\"\n",
        "\n",
        "      adfuller_test = adfuller(X)\n",
        "      if adfuller_test[0] < adfuller_test[4]['5%']:\n",
        "        mod = ARIMA(X, order=(1, 0, 0)).fit()\n",
        "        a, b, sigma2 = mod.params\n",
        "\n",
        "        k = -np.log(b)*252\n",
        "        if k < 252*2/self.res_estimation_period - 0.1:\n",
        "          return np.nan\n",
        "        s_score = (X[-1] - a/(1-b))*np.sqrt(1 - b**2)/(np.sqrt(sigma2))\n",
        "        s_modified = s_score - beta_0*np.sqrt(1 - b**2)/(-np.log(b)*np.sqrt(sigma2)) \n",
        "        return s_score\n",
        "      else:\n",
        "        return np.nan\n",
        "    \n",
        "    def update_portfolio(self, s_score, components, sigmas, betas, daily_data):\n",
        "      \"\"\"\n",
        "      Updates portfolio based on the s-score for all indices\n",
        "\n",
        "      Attributes:\n",
        "      s_score - s-score, float if stock_decomposed == True or List[float] otherwise\n",
        "      components - eigenvectors of PCA\n",
        "      sigmas - standard deviations of etfs\n",
        "      betas - regression coefs\n",
        "      daily_data - current prices in dict format\n",
        "\n",
        "      This function provides new values of position_opened and portfolio in \n",
        "      unified format applicable for all cases\n",
        "      \"\"\"\n",
        "\n",
        "      if self.stock_decomposed == True:\n",
        "        signal = self.trading_signal(s_score, self.position_opened)\n",
        "        new_position_opened, new_portfolio = self.interpret_signal(signal, self.portfolio, \n",
        "                                                              components, sigmas, betas, \n",
        "                                                              self.position_opened, 'stock', daily_data)\n",
        "      elif self.stock_decomposed == False:\n",
        "        new_position_opened = []\n",
        "        new_portfolio = []\n",
        "        for i, etf_name in enumerate(self.arr[1:]):\n",
        "          signal = self.trading_signal(s_score[i], self.position_opened[i])\n",
        "          pos_i, port_i = self.interpret_signal(signal, self.portfolio[i], components, sigmas, \n",
        "                                          betas[i], self.position_opened[i],\n",
        "                                          etf_name, daily_data)\n",
        "          new_position_opened.append(pos_i)\n",
        "          new_portfolio.append(port_i)\n",
        "\n",
        "      return new_position_opened, new_portfolio\n",
        "\n",
        "    \n",
        "    def trading_signal(self, s_score, position_opened):\n",
        "      \"\"\"\n",
        "      Calculates trading signal based on s-score\n",
        "\n",
        "      Attributes:\n",
        "      s_score - s-score value for index\n",
        "      position_opened - previous value of position_opened for this index\n",
        "      \"\"\"\n",
        "\n",
        "      if np.isnan(s_score):\n",
        "        return None\n",
        "      s_open_long, s_close_short, s_close_long, s_open_short = self.thresholds\n",
        "      if position_opened is None:\n",
        "        if s_open_long < s_score < s_open_short:\n",
        "          return None\n",
        "        elif s_score <= s_open_long:\n",
        "          return 'open_long'\n",
        "        elif s_score >= s_open_short:\n",
        "          return 'open_short'\n",
        "      elif position_opened == 'short':\n",
        "        if s_score > s_close_short:\n",
        "          return None\n",
        "        elif  s_open_long < s_score <= s_close_short:\n",
        "          return 'close_short'\n",
        "        elif s_score <= s_open_long:\n",
        "          return 'close_short_open_long'\n",
        "      elif position_opened == 'long':\n",
        "        if s_score < s_close_long:\n",
        "          return None\n",
        "        elif  s_close_long <= s_score < s_open_short:\n",
        "          return 'close_long'\n",
        "        elif s_score >= s_open_short:\n",
        "          return 'close_long_open_short'\n",
        "\n",
        "\n",
        "    def interpret_signal(self, signal, portfolio, components, sigmas, betas, position_opened, index_name, daily_data):\n",
        "      \"\"\"\n",
        "      Interprets signal obtained from trading_signal func\n",
        "\n",
        "      Attributes:\n",
        "      signal - trading signal (output of trading_signal func)\n",
        "      portfolio - previous portfolio\n",
        "      components - eigenvectors of PCA\n",
        "      sigmas - standard deviations of etfs\n",
        "      betas - regression coefs\n",
        "      position_opened - previous value of position_opened for this index\n",
        "      index_name - name of the index to open position in (not necessary if it is stock index)\n",
        "      daily_data - current prices in dict format\n",
        "\n",
        "      This function forms new values for position_opened and portfolio for\n",
        "      only 1 (!!!) index\n",
        "      \"\"\"\n",
        "      zero_portfolio = dict(zip(self.arr, [0 for x in self.arr]))\n",
        "      if signal is None:\n",
        "        return position_opened, portfolio\n",
        "      elif signal == 'open_long' or signal == 'close_short_open_long':\n",
        "        new_portfolio = self.open_position(components, sigmas, betas, index_name, 'long')\n",
        "\n",
        "        # ЗДЕСЬ ПРОИСХОДИТ СКЕЙЛИНГ ЗНАЧЕНИЙ ПОРТФОЛИО ИЗ ДОЛЛАРОВ В ШТУКИ ИНДЕКСОВ\n",
        "        # (ПРОСТО ПРОИСХОДИТ ДЕЛЕНИЕ ВЛОЖЕННЫХ ДОЛЛАРОВ НА ЦЕНЫ)\n",
        "        new_portfolio = self.divide_dicts(new_portfolio, daily_data)\n",
        "        return 'long', new_portfolio\n",
        "      elif signal == 'open_short' or signal == 'close_long_open_short':\n",
        "        new_portfolio = self.open_position(components, sigmas, betas, index_name, 'short')\n",
        "\n",
        "        # ЗДЕСЬ ПРОИСХОДИТ СКЕЙЛИНГ ЗНАЧЕНИЙ ПОРТФОЛИО ИЗ ДОЛЛАРОВ В ШТУКИ ИНДЕКСОВ\n",
        "        # (ПРОСТО ПРОИСХОДИТ ДЕЛЕНИЕ ВЛОЖЕННЫХ ДОЛЛАРОВ НА ЦЕНЫ)\n",
        "        new_portfolio = self.divide_dicts(new_portfolio, daily_data)\n",
        "        return 'short', new_portfolio\n",
        "      elif signal == 'close_long' or signal == 'close_short':\n",
        "        return None, zero_portfolio\n",
        "\n",
        "\n",
        "    def open_position(self, components, sigmas, betas, index_name, pos):\n",
        "      \"\"\"\n",
        "      Opens position in 1 index in absolute values (in units of currency)\n",
        "\n",
        "      Attributes:\n",
        "      components - eigenvectors of PCA\n",
        "      sigmas - standard deviations of etfs\n",
        "      betas - regression coefs\n",
        "      index_name - name of the index to open position in (not necessary if it is stock index)\n",
        "      pos - position type, either 'long' or 'short'\n",
        "      \"\"\"\n",
        "\n",
        "      portfolio = dict(zip(self.arr, [0 for x in self.arr]))\n",
        "      exponent = 0 if pos == 'long' else 1\n",
        "\n",
        "      if self.stock_decomposed == True:\n",
        "        if self.use_pca == False:\n",
        "            for index, name in enumerate(self.arr[1:]):\n",
        "              portfolio[name] = ((-1)**(1 - exponent))*betas[index]\n",
        "        else:\n",
        "          for index, component in enumerate(components):\n",
        "            portfolio = self.sum_dicts(portfolio, \n",
        "                                    dict(zip(self.arr, [0, *((-1)**(1 - exponent))*betas[index]*(component/sigmas)]))\n",
        "                                    )\n",
        "        portfolio[self.arr[0]] = (-1)**exponent\n",
        "      elif self.stock_decomposed == False:\n",
        "        portfolio[index_name] = (-1)**exponent\n",
        "        portfolio[self.arr[0]] = (-1)**(1 - exponent)*betas[0]\n",
        "        if self.use_pca == True:\n",
        "          for index, component in enumerate(components):\n",
        "            portfolio = self.sum_dicts(portfolio, dict(zip(self.arr, [0, *((-1)**(1 - exponent))*betas[1:][index]*(component/sigmas)])))\n",
        "\n",
        "      # ЗДЕСЬ ВОЗВРАЩАЕТСЯ ПОРТФОЛИО СО ЗНАЧЕНИЯМИ В ДОЛЛАРАХ, ВЛОЖЕННЫХ\n",
        "      # В СООТВЕТСТВУЮШИЙ АКТИВ\n",
        "      return portfolio\n",
        "\n",
        "\n",
        "    def scale_portfolio(self, portfolio, scale_factor=100):\n",
        "        \"\"\"\n",
        "        Scale the portfolio by scale_factor is it is possible\n",
        "        and to sum up to 1 otherwise\n",
        "        \"\"\"\n",
        "        total_weights = sum([abs(value) for value in portfolio.values()])\n",
        "\n",
        "        if total_weights * scale_factor >= 1:\n",
        "          scale_factor = 1 / (total_weights + 0.001)\n",
        "        for key, value in portfolio.items():\n",
        "          portfolio[key] = scale_factor * value\n",
        "\n",
        "        return portfolio\n",
        "\n",
        "    def sum_dicts(self, dict1, dict2):\n",
        "      return {x: dict1[x] + dict2[x] for x in dict1}\n",
        "\n",
        "    def divide_dicts(self, dict1, dict2):\n",
        "      return {x: dict1[x] / dict2[x] for x in dict1}\n",
        "\n",
        "    def replace_nans(self, portfolio):\n",
        "      for key, value in portfolio.items():\n",
        "        if np.isnan(value):\n",
        "          print('Nan value detected')\n",
        "          portfolio[key] = 0\n",
        "      return portfolio"
      ]
    },
    {
      "cell_type": "markdown",
      "metadata": {
        "id": "j5GXsuDtGDLv"
      },
      "source": [
        "# Run your strategy"
      ]
    },
    {
      "cell_type": "code",
      "source": [
        "import os\n",
        "os.environ[\"WANDB_API_KEY\"] = '83beec4fb1120eacd57892b10281fdedc7202f5d'"
      ],
      "metadata": {
        "id": "542XepzuXu1a"
      },
      "execution_count": null,
      "outputs": []
    },
    {
      "cell_type": "code",
      "execution_count": null,
      "metadata": {
        "colab": {
          "base_uri": "https://localhost:8080/",
          "height": 1000,
          "referenced_widgets": [
            "9d2bfb0f6696497d997201b5973b44ff",
            "2d1a0a6b2f224f0bb4a7b55eec1d4723",
            "0591b978e8aa4b81873b162f61a1e352",
            "598f7df750754483b3bc46b7ad56538b",
            "658faefdd8de436fb50d2fad2b9286fb",
            "97a0056b80414e17a9875edd6171f06d",
            "681ac97813f84281a40efae62eae2927",
            "bcd2e9bc5e9141ceac82ebe85a608fd6",
            "1af6857bdd27453ea387c4e6275416cf",
            "b296aef644de4dedadc04ac7c67eb93f",
            "559a9e4cec49403eb421a6aa2d3fe5df",
            "6c41f553e2cf4d01bf02b9c9158c4510",
            "e6479d7fe2ab4a4f90d9d3320b10d92d",
            "4a6eae92014c4834b71580ef8a407a79",
            "5616b614e2a34e399b5d17c8087af422",
            "caef7ff6b02441d0acef8326d825d920",
            "ec47915c119048ffbd195b91265cf779",
            "a224374a38b84662a942ff60a8c3392e",
            "83f87f97daa74210b807cd07f7d2d358",
            "b7b3a98ac9bd4110b60da6dbb6ad0d32",
            "a435e6dd964341e19651a8cbdb11ec86",
            "41b1436de0154c49b4f815a7d3257910",
            "236c1af8beeb495389b3dcd939b2e181",
            "5d7c295a0a254a41ab623add5a0cbd80",
            "855e41d3c2424e50a2ec17847fa2dd8e",
            "7f14fd47ad9e47ce83fb0df41aa03b90",
            "365aba158c2c4a97849fd8d154979f1e",
            "41ffa8deb9d64491be4d9f13fc80e025",
            "91050da017f340b4a7ab2b6b62f083b0",
            "017885c77a2c400ab9d778521521a0b0",
            "79b13bf780c347a38fe610c46afe88b0",
            "329e0b2f8205443d9a1b78417d365b55",
            "32badf1d3e39425ea32c0152de5fbf00",
            "73850751b69446f4bc314db3e460da13",
            "2a11138586c24fb1a26020c5f453f557",
            "2c1728f8ed5c46f9a3ff72ba8195f67d",
            "5ca47b33cf9f4d2c9428d751a5e7145f",
            "603caa6232b145309bd58c559d640456",
            "f75382ab4348482fae7620f7a8241e1c",
            "936a822fac6c4a2792ff7ffc4f46ff71",
            "144304ec06a744ca89c28b80a98d78f3",
            "5f3a84d9f9394ab7b8e68fe3716cae6c",
            "9e904893028240cabe21a06cd7d1d29d",
            "586e4002b79b40d396ce7360eff3cc3c",
            "2779833cee394e5188065a1dfd0a2d15",
            "787963d69386484faff62d5b449d5f29",
            "392516f51351446495592afed188201e",
            "3bd6e39a236a4fd8b74d3bff69e0afca",
            "ec5cdbe09f0b43f89f3f4aa1e1d1b06d",
            "4e8e270fedd14d549d11d8fa7e768fda",
            "7aab126661bc407b81af37326159209f",
            "6e4909a7793e427e9080bd93971afb09",
            "56fa460784b64c0ab64f56875ba04bf4",
            "b3f7178a3ec244eab7d4a4b657b96cff",
            "af581573d83a4bbba98e405a62776e4c",
            "a2ea2f237c6749859ad0a624e41dd656"
          ]
        },
        "id": "WrC96jvOGFey",
        "outputId": "289f1336-f065-4c36-9a80-859eea8f0fba"
      },
      "outputs": [
        {
          "output_type": "stream",
          "name": "stdout",
          "text": [
            "For project \"Final\" the train_test_split_time is set at 2019-01-02 and transaction costs are set at 0.5%. If you wish to set another date or costs, use \"Test\" project\n"
          ]
        },
        {
          "output_type": "display_data",
          "data": {
            "text/plain": [
              "<IPython.core.display.HTML object>"
            ],
            "text/html": [
              "Finishing last run (ID:w5s2fhak) before initializing another..."
            ]
          },
          "metadata": {}
        },
        {
          "output_type": "display_data",
          "data": {
            "text/plain": [
              "<IPython.core.display.HTML object>"
            ],
            "text/html": [
              "Waiting for W&B process to finish... <strong style=\"color:green\">(success).</strong>"
            ]
          },
          "metadata": {}
        },
        {
          "output_type": "display_data",
          "data": {
            "text/plain": [
              "VBox(children=(Label(value='0.001 MB of 0.001 MB uploaded (0.000 MB deduped)\\r'), FloatProgress(value=1.0, max…"
            ],
            "application/vnd.jupyter.widget-view+json": {
              "version_major": 2,
              "version_minor": 0,
              "model_id": "9d2bfb0f6696497d997201b5973b44ff"
            }
          },
          "metadata": {}
        },
        {
          "output_type": "display_data",
          "data": {
            "text/plain": [
              "<IPython.core.display.HTML object>"
            ],
            "text/html": [
              "Synced <strong style=\"color:#cdcd00\">PCA_Strategy_pca_SD_usd</strong>: <a href=\"https://wandb.ai/cmf-credit-derivatives/Final_v1-2/runs/w5s2fhak\" target=\"_blank\">https://wandb.ai/cmf-credit-derivatives/Final_v1-2/runs/w5s2fhak</a><br/>Synced 5 W&B file(s), 0 media file(s), 0 artifact file(s) and 0 other file(s)"
            ]
          },
          "metadata": {}
        },
        {
          "output_type": "display_data",
          "data": {
            "text/plain": [
              "<IPython.core.display.HTML object>"
            ],
            "text/html": [
              "Find logs at: <code>./wandb/run-20221204_192304-w5s2fhak/logs</code>"
            ]
          },
          "metadata": {}
        },
        {
          "output_type": "display_data",
          "data": {
            "text/plain": [
              "<IPython.core.display.HTML object>"
            ],
            "text/html": [
              "Successfully finished last run (ID:w5s2fhak). Initializing new run:<br/>"
            ]
          },
          "metadata": {}
        },
        {
          "output_type": "display_data",
          "data": {
            "text/plain": [
              "<IPython.core.display.HTML object>"
            ],
            "text/html": [
              "Tracking run with wandb version 0.13.5"
            ]
          },
          "metadata": {}
        },
        {
          "output_type": "display_data",
          "data": {
            "text/plain": [
              "<IPython.core.display.HTML object>"
            ],
            "text/html": [
              "Run data is saved locally in <code>/content/CreditDerivativesSimulator/wandb/run-20221204_192448-22jhdva1</code>"
            ]
          },
          "metadata": {}
        },
        {
          "output_type": "display_data",
          "data": {
            "text/plain": [
              "<IPython.core.display.HTML object>"
            ],
            "text/html": [
              "Syncing run <strong><a href=\"https://wandb.ai/cmf-credit-derivatives/Final_v1-2/runs/22jhdva1\" target=\"_blank\">PCA_Strategy_pca_SD_usd</a></strong> to <a href=\"https://wandb.ai/cmf-credit-derivatives/Final_v1-2\" target=\"_blank\">Weights & Biases</a> (<a href=\"https://wandb.me/run\" target=\"_blank\">docs</a>)<br/>"
            ]
          },
          "metadata": {}
        },
        {
          "output_type": "stream",
          "name": "stderr",
          "text": [
            "100%|██████████| 957/957 [00:39<00:00, 24.20it/s]"
          ]
        },
        {
          "output_type": "stream",
          "name": "stdout",
          "text": [
            "\n",
            "Final value of portfolio 0.9951608766247615\n",
            "Logging completed!\n"
          ]
        },
        {
          "output_type": "stream",
          "name": "stderr",
          "text": [
            "\n"
          ]
        },
        {
          "output_type": "display_data",
          "data": {
            "text/plain": [
              "<IPython.core.display.HTML object>"
            ],
            "text/html": [
              "Waiting for W&B process to finish... <strong style=\"color:green\">(success).</strong>"
            ]
          },
          "metadata": {}
        },
        {
          "output_type": "display_data",
          "data": {
            "text/plain": [
              "VBox(children=(Label(value='0.001 MB of 0.001 MB uploaded (0.000 MB deduped)\\r'), FloatProgress(value=1.0, max…"
            ],
            "application/vnd.jupyter.widget-view+json": {
              "version_major": 2,
              "version_minor": 0,
              "model_id": "1af6857bdd27453ea387c4e6275416cf"
            }
          },
          "metadata": {}
        },
        {
          "output_type": "display_data",
          "data": {
            "text/plain": [
              "<IPython.core.display.HTML object>"
            ],
            "text/html": [
              "<style>\n",
              "    table.wandb td:nth-child(1) { padding: 0 10px; text-align: left ; width: auto;} td:nth-child(2) {text-align: left ; width: 100%}\n",
              "    .wandb-row { display: flex; flex-direction: row; flex-wrap: wrap; justify-content: flex-start; width: 100% }\n",
              "    .wandb-col { display: flex; flex-direction: column; flex-basis: 100%; flex: 1; padding: 10px; }\n",
              "    </style>\n",
              "<div class=\"wandb-row\"><div class=\"wandb-col\"><h3>Run history:</h3><br/><table class=\"wandb\"><tr><td>1Y drawdown</td><td>██▆▆▆▆▆▆▆▆▆▆▆▂▂▂▂▂▂▂▂▂▂▅▅▅▅▆▆▅▇▅▅▄▃▃▃▃▃▁</td></tr><tr><td>1Y drawdown (clean)</td><td>██▆▆▆▆▆▆▆▆▆▆▆▂▂▂▂▂▂▂▂▂▂▅▅▅▅▆▆▆▆▅▅▄▃▃▃▄▄▁</td></tr><tr><td>1Y return</td><td>▄▄▁█▇▆▆▆▆▅▅▅▆▆▅▆▆▅▄▄▆▆▆█▄▃▃▄▄▄▄▄▆▇▇▅▄▅▄▁</td></tr><tr><td>1Y return (clean)</td><td>▄▄▁█▇▇▆▆▆▆▅▅▇▆▅▆▆▆▅▄▆▆▆█▄▃▂▄▄▅▄▄▆▇█▆▄▅▄▁</td></tr><tr><td>1Y sharpe</td><td>  ▁▆▆▅▅▅▄▄▄▄▆▅▅▆▆▅▅▅▆▆▆█▅▄▃▅▅▆▅▅▇▇█▆▅▅▅▃</td></tr><tr><td>1Y sharpe (clean)</td><td>  ▁▆▆▅▅▄▄▄▄▄▆▅▅▆▆▆▅▅▆▆▆█▅▃▃▅▅▆▅▅▇▇█▆▅▆▅▃</td></tr><tr><td>accumulated transaction costs (clean)</td><td>▁▁▁▂▂▂▂▂▂▂▂▂▂▃▃▃▃▄▄▄▄▄▄▅▆▆▇▇▇▇▇▇▇▇▇▇████</td></tr><tr><td>annualised return</td><td>▄▄▁█▇▆▆▆▆▅▅▅▅▆▅▆▆▅▅▄▅▅▅▅▅▅▅▅▅▅▅▅▅▅▆▅▅▅▄▄</td></tr><tr><td>annualised return (clean)</td><td>▄▄▁█▇▇▆▆▆▆▅▅▅▇▆▆▆▆▅▅▆▆▆▅▅▅▅▅▅▅▅▅▆▆▆▅▅▅▅▄</td></tr><tr><td>cdx_ig_generic</td><td>▁▁▁▁▁▁▁▁▁▁▁▁▁▁▁▁▁▁▁▁▁▁▁▁▁▁▁▁▁▁▁▁▁▁▁▁▁▁▁▁</td></tr><tr><td>daily return</td><td>▃▃▃▃▃▃▃▃▃▃▃▃▃█▃▃▃▂▃▃▃▃▃▂▃▃▂▃▃▃▃▂▂▁▂▃▃▃▂▁</td></tr><tr><td>daily return (clean)</td><td>▃▃▃▃▃▃▃▃▃▃▃▃▃█▃▃▃▂▃▃▃▃▃▂▃▃▂▃▃▃▃▂▂▁▂▃▂▃▂▁</td></tr><tr><td>drawdown</td><td>██▇▆▆▆▆▆▆▆▆▆▆▄▄▃▃▃▃▃▃▃▃▃▃▃▃▃▃▃▃▃▂▂▁▁▁▁▁▁</td></tr><tr><td>drawdown (clean)</td><td>██▇▆▆▆▆▆▆▆▆▆▆▃▃▃▃▃▃▃▃▃▃▃▃▃▃▃▃▃▃▃▂▂▁▁▁▁▁▁</td></tr><tr><td>er_cdx_ig_long</td><td>▄▄▇▄▄▄▄▄▄▄▄▄▄▆▆▄▂▆▆▆▆▄▄▇▄▄▁▁▁▁▁▁▁███▄▄▆▆</td></tr><tr><td>er_cdx_ig_short</td><td>▁▁▁▁▁▁▁▁▁▁▁▁▁▁▁▁▁▁▁▁▁▁▁▁▁▁▁▁▁▁▁▁▁▁▁▁▁▁▁▁</td></tr><tr><td>er_itraxx_main_long</td><td>▁▁▁▁▁▁▁▁▁▁▁▁▁▁▁▁▁▁▁▁▁▁▁▁▁▁▁▁▁▁▁▁▁▁▁▁▁▁▁▁</td></tr><tr><td>er_itraxx_main_short</td><td>▁▁▁▁▁▁▁▁▁▁▁▁▁▁▁▁▁▁▁▁▁▁▁▁▁▁▁▁▁▁▁▁▁▁▁▁▁▁▁▁</td></tr><tr><td>er_itraxx_xover_long</td><td>▁▁▁▁▁▁▁▁▁▁▁▁▁▁▁▁▁▁▁▁▁▁▁▁▁▁▁▁▁▁▁▁▁▁▁▁▁▁▁▁</td></tr><tr><td>er_itraxx_xover_short</td><td>▁▁▁▁▁▁▁▁▁▁▁▁▁▁▁▁▁▁▁▁▁▁▁▁▁▁▁▁▁▁▁▁▁▁▁▁▁▁▁▁</td></tr><tr><td>hyg</td><td>▄▄█▄▄▄▄▄▄▄▄▄▄██▄▂▆▆▆▆▄▄█▄▄▁▁▁▁▁▁▁███▄▄▆▆</td></tr><tr><td>ieac</td><td>▁▁▁▁▁▁▁▁▁▁▁▁▁▁▁▁▁▁▁▁▁▁▁▁▁▁▁▁▁▁▁▁▁▁▁▁▁▁▁▁</td></tr><tr><td>ihyg</td><td>▁▁▁▁▁▁▁▁▁▁▁▁▁▁▁▁▁▁▁▁▁▁▁▁▁▁▁▁▁▁▁▁▁▁▁▁▁▁▁▁</td></tr><tr><td>itraxx_main_generic</td><td>▁▁▁▁▁▁▁▁▁▁▁▁▁▁▁▁▁▁▁▁▁▁▁▁▁▁▁▁▁▁▁▁▁▁▁▁▁▁▁▁</td></tr><tr><td>itraxx_xover_generic</td><td>▁▁▁▁▁▁▁▁▁▁▁▁▁▁▁▁▁▁▁▁▁▁▁▁▁▁▁▁▁▁▁▁▁▁▁▁▁▁▁▁</td></tr><tr><td>lqd</td><td>▄▄█▄▄▄▄▄▄▄▄▄▄▅▅▄▁▆▆▆▆▄▄▅▄▄▂▂▂▂▂▂▂▄▄▄▄▄▅▅</td></tr><tr><td>portfolio value</td><td>▂▂▁▃▃▃▃▃▃▃▃▃▃▅▄▅▅▅▄▃▅▅▅▅▄▄▄▄▄▄▅▅▇▇█▆▅▅▄▂</td></tr><tr><td>portfolio value (clean)</td><td>▂▂▁▃▃▃▃▃▃▃▃▃▃▆▄▆▆▅▄▃▅▅▅▅▄▄▃▄▄▄▄▅▇▇█▆▄▄▄▁</td></tr><tr><td>sharpe</td><td>  ▁█▇▇▆▆▅▅▅▅▄▇▆▇▇▇▆▆▇▇▇▆▆▆▆▆▆▆▆▇▇▇▇▇▆▆▆▆</td></tr><tr><td>sharpe (clean)</td><td>  ▁█▇▇▆▆▅▅▅▅▅▇▇▇▇▇▆▆▇▇▇▇▆▆▆▇▇▇▇▇▇▇█▇▇▇▆▆</td></tr><tr><td>spx</td><td>▅▅▁▅▅▅▅▅▅▅▅▅▅▁▁▅█▂▂▂▂▅▅▂▅▅▇▇▇▇▇▇▇▂▂▂▅▅▂▂</td></tr><tr><td>sx5e</td><td>▁▁▁▁▁▁▁▁▁▁▁▁▁▁▁▁▁▁▁▁▁▁▁▁▁▁▁▁▁▁▁▁▁▁▁▁▁▁▁▁</td></tr><tr><td>transaction costs (clean)</td><td>▁▁▁▁▁▁▁▁▁▁▁▁▁▁▁▁▁▁▁▁▁▁▁▁▁▁▁▁▁▁▁▁▁▁▁▁█▁▁▁</td></tr><tr><td>vix</td><td>▆▆▁▆▆▆▆▆▆▆▆▆▆▅▅▆█▄▄▄▄▆▆▅▆▆███████▄▄▄▆▆▂▂</td></tr></table><br/></div><div class=\"wandb-col\"><h3>Run summary:</h3><br/><table class=\"wandb\"><tr><td>1Y drawdown</td><td>-0.04771</td></tr><tr><td>1Y drawdown (clean)</td><td>-0.04822</td></tr><tr><td>1Y return</td><td>-0.02048</td></tr><tr><td>1Y return (clean)</td><td>-0.02159</td></tr><tr><td>1Y sharpe</td><td>-0.79271</td></tr><tr><td>1Y sharpe (clean)</td><td>-0.82673</td></tr><tr><td>accumulated transaction costs (clean)</td><td>0.0055</td></tr><tr><td>annualised return</td><td>-0.00128</td></tr><tr><td>annualised return (clean)</td><td>-0.00271</td></tr><tr><td>cdx_ig_generic</td><td>0.0</td></tr><tr><td>daily return</td><td>0.00015</td></tr><tr><td>daily return (clean)</td><td>0.00015</td></tr><tr><td>date</td><td>2022-10-12</td></tr><tr><td>date (clean)</td><td>2022-10-12</td></tr><tr><td>drawdown</td><td>-0.06081</td></tr><tr><td>drawdown (clean)</td><td>-0.05749</td></tr><tr><td>er_cdx_ig_long</td><td>0.28747</td></tr><tr><td>er_cdx_ig_short</td><td>0.0</td></tr><tr><td>er_itraxx_main_long</td><td>0.0</td></tr><tr><td>er_itraxx_main_short</td><td>0.0</td></tr><tr><td>er_itraxx_xover_long</td><td>0.0</td></tr><tr><td>er_itraxx_xover_short</td><td>0.0</td></tr><tr><td>hyg</td><td>0.06229</td></tr><tr><td>ieac</td><td>0.0</td></tr><tr><td>ihyg</td><td>0.0</td></tr><tr><td>itraxx_main_generic</td><td>0.0</td></tr><tr><td>itraxx_xover_generic</td><td>0.0</td></tr><tr><td>lqd</td><td>0.0388</td></tr><tr><td>portfolio value</td><td>0.99516</td></tr><tr><td>portfolio value (clean)</td><td>0.98977</td></tr><tr><td>sharpe</td><td>-0.26026</td></tr><tr><td>sharpe (clean)</td><td>-0.31282</td></tr><tr><td>spx</td><td>-0.00243</td></tr><tr><td>sx5e</td><td>0.0</td></tr><tr><td>transaction costs (clean)</td><td>0.0</td></tr><tr><td>vix</td><td>-0.02894</td></tr></table><br/></div></div>"
            ]
          },
          "metadata": {}
        },
        {
          "output_type": "display_data",
          "data": {
            "text/plain": [
              "<IPython.core.display.HTML object>"
            ],
            "text/html": [
              "Synced <strong style=\"color:#cdcd00\">PCA_Strategy_pca_SD_usd</strong>: <a href=\"https://wandb.ai/cmf-credit-derivatives/Final_v1-2/runs/22jhdva1\" target=\"_blank\">https://wandb.ai/cmf-credit-derivatives/Final_v1-2/runs/22jhdva1</a><br/>Synced 5 W&B file(s), 0 media file(s), 0 artifact file(s) and 0 other file(s)"
            ]
          },
          "metadata": {}
        },
        {
          "output_type": "display_data",
          "data": {
            "text/plain": [
              "<IPython.core.display.HTML object>"
            ],
            "text/html": [
              "Find logs at: <code>./wandb/run-20221204_192448-22jhdva1/logs</code>"
            ]
          },
          "metadata": {}
        },
        {
          "output_type": "stream",
          "name": "stdout",
          "text": [
            "For project \"Final\" the train_test_split_time is set at 2019-01-02 and transaction costs are set at 0.5%. If you wish to set another date or costs, use \"Test\" project\n"
          ]
        },
        {
          "output_type": "display_data",
          "data": {
            "text/plain": [
              "<IPython.core.display.HTML object>"
            ],
            "text/html": [
              "Tracking run with wandb version 0.13.5"
            ]
          },
          "metadata": {}
        },
        {
          "output_type": "display_data",
          "data": {
            "text/plain": [
              "<IPython.core.display.HTML object>"
            ],
            "text/html": [
              "Run data is saved locally in <code>/content/CreditDerivativesSimulator/wandb/run-20221204_192537-2e496v01</code>"
            ]
          },
          "metadata": {}
        },
        {
          "output_type": "display_data",
          "data": {
            "text/plain": [
              "<IPython.core.display.HTML object>"
            ],
            "text/html": [
              "Syncing run <strong><a href=\"https://wandb.ai/cmf-credit-derivatives/Final_v1-2/runs/2e496v01\" target=\"_blank\">PCA_Strategy_pca_SD_eur</a></strong> to <a href=\"https://wandb.ai/cmf-credit-derivatives/Final_v1-2\" target=\"_blank\">Weights & Biases</a> (<a href=\"https://wandb.me/run\" target=\"_blank\">docs</a>)<br/>"
            ]
          },
          "metadata": {}
        },
        {
          "output_type": "stream",
          "name": "stderr",
          "text": [
            "100%|██████████| 957/957 [00:45<00:00, 21.12it/s]"
          ]
        },
        {
          "output_type": "stream",
          "name": "stdout",
          "text": [
            "\n",
            "Final value of portfolio 1.0258226516890434\n",
            "Logging completed!\n"
          ]
        },
        {
          "output_type": "stream",
          "name": "stderr",
          "text": [
            "\n"
          ]
        },
        {
          "output_type": "display_data",
          "data": {
            "text/plain": [
              "<IPython.core.display.HTML object>"
            ],
            "text/html": [
              "Waiting for W&B process to finish... <strong style=\"color:green\">(success).</strong>"
            ]
          },
          "metadata": {}
        },
        {
          "output_type": "display_data",
          "data": {
            "text/plain": [
              "VBox(children=(Label(value='0.001 MB of 0.001 MB uploaded (0.000 MB deduped)\\r'), FloatProgress(value=1.0, max…"
            ],
            "application/vnd.jupyter.widget-view+json": {
              "version_major": 2,
              "version_minor": 0,
              "model_id": "ec47915c119048ffbd195b91265cf779"
            }
          },
          "metadata": {}
        },
        {
          "output_type": "display_data",
          "data": {
            "text/plain": [
              "<IPython.core.display.HTML object>"
            ],
            "text/html": [
              "<style>\n",
              "    table.wandb td:nth-child(1) { padding: 0 10px; text-align: left ; width: auto;} td:nth-child(2) {text-align: left ; width: 100%}\n",
              "    .wandb-row { display: flex; flex-direction: row; flex-wrap: wrap; justify-content: flex-start; width: 100% }\n",
              "    .wandb-col { display: flex; flex-direction: column; flex-basis: 100%; flex: 1; padding: 10px; }\n",
              "    </style>\n",
              "<div class=\"wandb-row\"><div class=\"wandb-col\"><h3>Run history:</h3><br/><table class=\"wandb\"><tr><td>1Y drawdown</td><td>████▇▇▇▇▇▇▆▆▆▁▁▁▁▁▁▁▁▁▁▆▇▇▇▇▇▇▇▇▇▆▆▅▅▅▅▅</td></tr><tr><td>1Y drawdown (clean)</td><td>█████▇▇▇▇▇▆▆▆▁▁▁▁▁▁▁▁▁▁▆▇▇▇▇▇▇▇▇▇▆▆▅▅▅▅▅</td></tr><tr><td>1Y return</td><td>▄▄▄▅▄▂▂▂▂▂▂▂▄▄▅▇█▇█▇███▁▅▄▃▃▃▄▃▃▄▇▆▇▆▆▆▆</td></tr><tr><td>1Y return (clean)</td><td>▄▄▄▅▄▁▂▂▂▂▂▂▃▄▅▇█▇█▇███▁▅▄▃▃▃▄▃▃▄▇▆█▆▇▇▆</td></tr><tr><td>1Y sharpe</td><td>  ▂▃▃▁▂▂▂▂▁▁▄▆▆▆▆▆▇▆▇▇▇▅▇▆▅▅▅▆▅▅▆█▇█▇▇▇▆</td></tr><tr><td>1Y sharpe (clean)</td><td>  ▃▃▂▁▂▂▂▂▁▂▅▆▆▆▇▇▇▇▇▇▇▅▇▆▅▅▅▅▅▅▆█▇█▇▇▇▇</td></tr><tr><td>accumulated transaction costs (clean)</td><td>▁▁▁▂▃▃▃▃▃▃▃▃▄▄▄▅▅▅▅▅▅▅▅▆▆▇▇▇▇▇▇▇▇▇▇▇▇▇██</td></tr><tr><td>annualised return</td><td>▅▅▅▇▅▁▂▁▂▂▁▂▄▆███▇█▇▇▇▆▇▇▆▆▆▆▆▆▆▆█▇█▇▇▇▇</td></tr><tr><td>annualised return (clean)</td><td>▆▆▆▆▅▁▂▂▂▂▂▂▄▆▇██▇█▇▇▇▆▇▇▆▆▆▆▆▆▆▇█▇█▇▇▇▇</td></tr><tr><td>cdx_ig_generic</td><td>▁▁▁▁▁▁▁▁▁▁▁▁▁▁▁▁▁▁▁▁▁▁▁▁▁▁▁▁▁▁▁▁▁▁▁▁▁▁▁▁</td></tr><tr><td>daily return</td><td>▆▆▆▆▆▆▆▆▆▆▆▆█▁▆▅▆▆▅▆▆▆▆▆▆▆▆▆▆▆▆▆▆▇▆▅▅▆▆▆</td></tr><tr><td>daily return (clean)</td><td>▆▆▆▆▆▆▆▆▆▆▆▆█▁▆▅▅▆▅▆▆▆▆▆▆▆▆▆▆▆▆▆▆▇▆▅▅▅▆▆</td></tr><tr><td>drawdown</td><td>████▇▇▇▇▇▇▆▆▆▁▁▁▁▁▁▁▁▁▁▁▁▁▁▁▁▁▁▁▁▁▁▁▁▁▁▁</td></tr><tr><td>drawdown (clean)</td><td>█████▇▇▇▇▇▆▆▆▁▁▁▁▁▁▁▁▁▁▁▁▁▁▁▁▁▁▁▁▁▁▁▁▁▁▁</td></tr><tr><td>er_cdx_ig_long</td><td>▁▁▁▁▁▁▁▁▁▁▁▁▁▁▁▁▁▁▁▁▁▁▁▁▁▁▁▁▁▁▁▁▁▁▁▁▁▁▁▁</td></tr><tr><td>er_cdx_ig_short</td><td>▁▁▁▁▁▁▁▁▁▁▁▁▁▁▁▁▁▁▁▁▁▁▁▁▁▁▁▁▁▁▁▁▁▁▁▁▁▁▁▁</td></tr><tr><td>er_itraxx_main_long</td><td>▅▅▇▆▅▂▂▅▅▂▂▂▁▁▁▆▂▂▂▅▅▅▁█▅▁▁▁▁▁▁▁▁▁▁▁▇▂▆▃</td></tr><tr><td>er_itraxx_main_short</td><td>▁▁▁▁▁▁▁▁▁▁▁▁▁▁▁▁▁▁▁▁▁▁▁▁▁▁▁▁▁▁▁▁▁▁▁▁▁▁▁▁</td></tr><tr><td>er_itraxx_xover_long</td><td>▅▅█▇▅▂▂▅▅▂▂▂▁▁▁▇▂▂▂▅▅▅▁█▅▁▁▁▁▁▁▁▁▁▁▁▇▂▇▃</td></tr><tr><td>er_itraxx_xover_short</td><td>▁▁▁▁▁▁▁▁▁▁▁▁▁▁▁▁▁▁▁▁▁▁▁▁▁▁▁▁▁▁▁▁▁▁▁▁▁▁▁▁</td></tr><tr><td>hyg</td><td>▁▁▁▁▁▁▁▁▁▁▁▁▁▁▁▁▁▁▁▁▁▁▁▁▁▁▁▁▁▁▁▁▁▁▁▁▁▁▁▁</td></tr><tr><td>ieac</td><td>▅▅█▆▅▂▂▅▅▄▄▄▁▁▁▆▁▁▁▅▅▅▁▆▅▂▂▂▂▂▂▂▂▂▂▂▆▃▆▄</td></tr><tr><td>ihyg</td><td>▅▅██▅▁▁▅▅▁▁▁▁▁▁▆▂▂▂▅▅▅▁█▅▂▂▂▂▂▂▂▂▂▂▂▇▂▆▃</td></tr><tr><td>itraxx_main_generic</td><td>▁▁▁▁▁▁▁▁▁▁▁▁▁▁▁▁▁▁▁▁▁▁▁▁▁▁▁▁▁▁▁▁▁▁▁▁▁▁▁▁</td></tr><tr><td>itraxx_xover_generic</td><td>▁▁▁▁▁▁▁▁▁▁▁▁▁▁▁▁▁▁▁▁▁▁▁▁▁▁▁▁▁▁▁▁▁▁▁▁▁▁▁▁</td></tr><tr><td>lqd</td><td>▁▁▁▁▁▁▁▁▁▁▁▁▁▁▁▁▁▁▁▁▁▁▁▁▁▁▁▁▁▁▁▁▁▁▁▁▁▁▁▁</td></tr><tr><td>portfolio value</td><td>▃▃▃▃▃▂▂▂▂▂▁▁▃▄▅▅▅▅▅▅▅▅▄▅▅▅▄▄▄▅▄▄▅▇▇█▇▇▇▇</td></tr><tr><td>portfolio value (clean)</td><td>▃▃▃▄▃▂▂▂▂▂▁▁▃▄▅▅▅▅▅▅▅▅▄▄▅▄▄▄▄▄▄▄▅▇▇█▇▆▆▆</td></tr><tr><td>sharpe</td><td>  ▃▄▃▁▂▂▂▂▁▁▅▇██████████████████████████</td></tr><tr><td>sharpe (clean)</td><td>  ▃▄▃▁▂▂▂▂▁▂▅▇██████████████████████████</td></tr><tr><td>spx</td><td>▁▁▁▁▁▁▁▁▁▁▁▁▁▁▁▁▁▁▁▁▁▁▁▁▁▁▁▁▁▁▁▁▁▁▁▁▁▁▁▁</td></tr><tr><td>sx5e</td><td>▅▅▁▂▅██▅▅██████▁███▅▅▅█▂▅▇▇▇▇▇▇▇▇▇▇▇▂█▂█</td></tr><tr><td>transaction costs (clean)</td><td>▁▁▁▁▁▁▁▁▁▁▁▁▁▁▁▁▇▁▁▁▁▁▁▁▁▁▁▁▁▁▁▁▁▁▁▁▁▅█▁</td></tr><tr><td>vix</td><td>▁▁▁▁▁▁▁▁▁▁▁▁▁▁▁▁▁▁▁▁▁▁▁▁▁▁▁▁▁▁▁▁▁▁▁▁▁▁▁▁</td></tr></table><br/></div><div class=\"wandb-col\"><h3>Run summary:</h3><br/><table class=\"wandb\"><tr><td>1Y drawdown</td><td>-0.02651</td></tr><tr><td>1Y drawdown (clean)</td><td>-0.02651</td></tr><tr><td>1Y return</td><td>0.01452</td></tr><tr><td>1Y return (clean)</td><td>0.01303</td></tr><tr><td>1Y sharpe</td><td>0.56854</td></tr><tr><td>1Y sharpe (clean)</td><td>0.47038</td></tr><tr><td>accumulated transaction costs (clean)</td><td>0.00831</td></tr><tr><td>annualised return</td><td>0.00674</td></tr><tr><td>annualised return (clean)</td><td>0.00455</td></tr><tr><td>cdx_ig_generic</td><td>0.0</td></tr><tr><td>daily return</td><td>0.00022</td></tr><tr><td>daily return (clean)</td><td>0.00022</td></tr><tr><td>date</td><td>2022-10-12</td></tr><tr><td>date (clean)</td><td>2022-10-12</td></tr><tr><td>drawdown</td><td>-0.0591</td></tr><tr><td>drawdown (clean)</td><td>-0.05849</td></tr><tr><td>er_cdx_ig_long</td><td>0.0</td></tr><tr><td>er_cdx_ig_short</td><td>0.0</td></tr><tr><td>er_itraxx_main_long</td><td>-0.14548</td></tr><tr><td>er_itraxx_main_short</td><td>0.0</td></tr><tr><td>er_itraxx_xover_long</td><td>-0.02015</td></tr><tr><td>er_itraxx_xover_short</td><td>0.0</td></tr><tr><td>hyg</td><td>0.0</td></tr><tr><td>ieac</td><td>-0.03133</td></tr><tr><td>ihyg</td><td>-0.04472</td></tr><tr><td>itraxx_main_generic</td><td>0.0</td></tr><tr><td>itraxx_xover_generic</td><td>0.0</td></tr><tr><td>lqd</td><td>0.0</td></tr><tr><td>portfolio value</td><td>1.02582</td></tr><tr><td>portfolio value (clean)</td><td>1.01736</td></tr><tr><td>sharpe</td><td>0.0413</td></tr><tr><td>sharpe (clean)</td><td>-0.06372</td></tr><tr><td>spx</td><td>0.0</td></tr><tr><td>sx5e</td><td>0.0028</td></tr><tr><td>transaction costs (clean)</td><td>0.0</td></tr><tr><td>vix</td><td>0.0</td></tr></table><br/></div></div>"
            ]
          },
          "metadata": {}
        },
        {
          "output_type": "display_data",
          "data": {
            "text/plain": [
              "<IPython.core.display.HTML object>"
            ],
            "text/html": [
              "Synced <strong style=\"color:#cdcd00\">PCA_Strategy_pca_SD_eur</strong>: <a href=\"https://wandb.ai/cmf-credit-derivatives/Final_v1-2/runs/2e496v01\" target=\"_blank\">https://wandb.ai/cmf-credit-derivatives/Final_v1-2/runs/2e496v01</a><br/>Synced 5 W&B file(s), 0 media file(s), 0 artifact file(s) and 0 other file(s)"
            ]
          },
          "metadata": {}
        },
        {
          "output_type": "display_data",
          "data": {
            "text/plain": [
              "<IPython.core.display.HTML object>"
            ],
            "text/html": [
              "Find logs at: <code>./wandb/run-20221204_192537-2e496v01/logs</code>"
            ]
          },
          "metadata": {}
        },
        {
          "output_type": "stream",
          "name": "stdout",
          "text": [
            "For project \"Final\" the train_test_split_time is set at 2019-01-02 and transaction costs are set at 0.5%. If you wish to set another date or costs, use \"Test\" project\n"
          ]
        },
        {
          "output_type": "display_data",
          "data": {
            "text/plain": [
              "<IPython.core.display.HTML object>"
            ],
            "text/html": [
              "Tracking run with wandb version 0.13.5"
            ]
          },
          "metadata": {}
        },
        {
          "output_type": "display_data",
          "data": {
            "text/plain": [
              "<IPython.core.display.HTML object>"
            ],
            "text/html": [
              "Run data is saved locally in <code>/content/CreditDerivativesSimulator/wandb/run-20221204_192628-1lat79rh</code>"
            ]
          },
          "metadata": {}
        },
        {
          "output_type": "display_data",
          "data": {
            "text/plain": [
              "<IPython.core.display.HTML object>"
            ],
            "text/html": [
              "Syncing run <strong><a href=\"https://wandb.ai/cmf-credit-derivatives/Final_v1-2/runs/1lat79rh\" target=\"_blank\">PCA_Strategy_pca_ED_usd</a></strong> to <a href=\"https://wandb.ai/cmf-credit-derivatives/Final_v1-2\" target=\"_blank\">Weights & Biases</a> (<a href=\"https://wandb.me/run\" target=\"_blank\">docs</a>)<br/>"
            ]
          },
          "metadata": {}
        },
        {
          "output_type": "stream",
          "name": "stderr",
          "text": [
            "100%|██████████| 957/957 [01:29<00:00, 10.67it/s]"
          ]
        },
        {
          "output_type": "stream",
          "name": "stdout",
          "text": [
            "\n",
            "Final value of portfolio 0.828937282877425\n",
            "Logging completed!\n"
          ]
        },
        {
          "output_type": "stream",
          "name": "stderr",
          "text": [
            "\n"
          ]
        },
        {
          "output_type": "display_data",
          "data": {
            "text/plain": [
              "<IPython.core.display.HTML object>"
            ],
            "text/html": [
              "Waiting for W&B process to finish... <strong style=\"color:green\">(success).</strong>"
            ]
          },
          "metadata": {}
        },
        {
          "output_type": "display_data",
          "data": {
            "text/plain": [
              "VBox(children=(Label(value='0.001 MB of 0.001 MB uploaded (0.000 MB deduped)\\r'), FloatProgress(value=1.0, max…"
            ],
            "application/vnd.jupyter.widget-view+json": {
              "version_major": 2,
              "version_minor": 0,
              "model_id": "855e41d3c2424e50a2ec17847fa2dd8e"
            }
          },
          "metadata": {}
        },
        {
          "output_type": "display_data",
          "data": {
            "text/plain": [
              "<IPython.core.display.HTML object>"
            ],
            "text/html": [
              "<style>\n",
              "    table.wandb td:nth-child(1) { padding: 0 10px; text-align: left ; width: auto;} td:nth-child(2) {text-align: left ; width: 100%}\n",
              "    .wandb-row { display: flex; flex-direction: row; flex-wrap: wrap; justify-content: flex-start; width: 100% }\n",
              "    .wandb-col { display: flex; flex-direction: column; flex-basis: 100%; flex: 1; padding: 10px; }\n",
              "    </style>\n",
              "<div class=\"wandb-row\"><div class=\"wandb-col\"><h3>Run history:</h3><br/><table class=\"wandb\"><tr><td>1Y drawdown</td><td>█▇▆▆▆▆▆▆▆▆▆▅▅▅▅▂▂▂▂▃▃▃▃▃▃▃▃▃▇▆▆▃▂▁▁▁▁▁▁▁</td></tr><tr><td>1Y drawdown (clean)</td><td>█▇▆▆▆▆▆▆▆▆▆▅▅▅▅▂▂▂▂▃▃▃▃▃▃▃▃▃▇▆▆▃▂▁▁▁▁▁▁▁</td></tr><tr><td>1Y return</td><td>█▆▅▄▄▄▃▃▃▃▃▂▂▂▂▂▂▂▂▂▂▂▂▂▂▂▃▂▃▃▃▂▂▁▁▁▂▁▁▁</td></tr><tr><td>1Y return (clean)</td><td>█▇▆▄▄▄▃▃▃▃▃▂▂▂▂▂▂▂▂▂▂▂▂▂▂▂▃▂▃▃▃▃▂▁▁▁▂▁▁▁</td></tr><tr><td>1Y sharpe</td><td>█▅▅▄▃▃▃▃▃▃▂▁▁▁▂▁▂▂▂▂▂▂▂▂▂▂▂▂▃▃▃▂▂▁▁▁▂▁▁▁</td></tr><tr><td>1Y sharpe (clean)</td><td>█▅▅▄▃▃▃▃▃▃▂▁▁▁▂▁▂▂▂▂▂▂▂▂▂▂▂▂▃▃▃▂▂▁▁▂▂▁▁▁</td></tr><tr><td>accumulated transaction costs (clean)</td><td>▁▁▁▂▂▂▂▂▂▂▃▃▃▄▄▄▄▄▅▅▅▅▅▆▆▆▆▆▆▆▆▆▆▆▇▇████</td></tr><tr><td>annualised return</td><td>█▆▅▄▃▃▃▂▂▂▂▁▂▂▂▁▂▂▁▂▁▁▂▂▂▂▂▂▂▂▂▁▁▁▁▁▁▁▁▁</td></tr><tr><td>annualised return (clean)</td><td>█▆▅▄▃▃▃▂▂▂▂▁▂▂▂▁▂▂▁▂▁▁▂▂▂▂▂▂▂▂▂▂▁▁▁▁▁▁▁▁</td></tr><tr><td>cdx_ig_generic</td><td>▁▁▁▁▁▁▁▁▁▁▁▁▁▁▁▁▁▁▁▁▁▁▁▁▁▁▁▁▁▁▁▁▁▁▁▁▁▁▁▁</td></tr><tr><td>daily return</td><td>▄▅▅▅▅▅▅▅▅▅▅▁▅▃▇▆▁▂▅▅▅▅▅▆▅▅▅▅▅▅▅▆█▁▄▃█▅▅▇</td></tr><tr><td>daily return (clean)</td><td>▄▅▅▅▅▅▅▅▅▅▅▁▅▃▇▆▁▂▅▅▅▅▅▆▅▅▅▅▅▅▅▆█▁▄▃█▅▅▇</td></tr><tr><td>drawdown</td><td>█▇▇▇▇▇▇▇▇▇▇▆▆▅▅▃▃▃▃▃▃▃▃▃▃▃▃▃▃▃▃▃▂▁▁▁▁▁▁▁</td></tr><tr><td>drawdown (clean)</td><td>█▇▇▇▇▇▇▇▇▇▇▆▆▅▅▃▃▃▃▃▃▃▃▃▃▃▃▃▃▃▃▃▂▁▁▁▁▁▁▁</td></tr><tr><td>er_cdx_ig_long</td><td>▂▂▄▄▄▄▄▃▄▃▁▁█▁▂▅▅▅██▇▅▂▇▇█████▁▁▁▁▇▇▇▇█▇</td></tr><tr><td>er_cdx_ig_short</td><td>▁▁▁▁▁▁▁▁▁▁▁▁▁▁▁▁▁▁▁▁▁▁▁▁▁▁▁▁▁▁▁▁▁▁▁▁▁▁▁▁</td></tr><tr><td>er_itraxx_main_long</td><td>▁▁▁▁▁▁▁▁▁▁▁▁▁▁▁▁▁▁▁▁▁▁▁▁▁▁▁▁▁▁▁▁▁▁▁▁▁▁▁▁</td></tr><tr><td>er_itraxx_main_short</td><td>▁▁▁▁▁▁▁▁▁▁▁▁▁▁▁▁▁▁▁▁▁▁▁▁▁▁▁▁▁▁▁▁▁▁▁▁▁▁▁▁</td></tr><tr><td>er_itraxx_xover_long</td><td>▁▁▁▁▁▁▁▁▁▁▁▁▁▁▁▁▁▁▁▁▁▁▁▁▁▁▁▁▁▁▁▁▁▁▁▁▁▁▁▁</td></tr><tr><td>er_itraxx_xover_short</td><td>▁▁▁▁▁▁▁▁▁▁▁▁▁▁▁▁▁▁▁▁▁▁▁▁▁▁▁▁▁▁▁▁▁▁▁▁▁▁▁▁</td></tr><tr><td>hyg</td><td>▂▂▅▅▆▆▆▅▃▄▂▂█▂▁▃▃▃▆▆▇▃▅███████▂▃▂▃██▇▇▆▇</td></tr><tr><td>ieac</td><td>▁▁▁▁▁▁▁▁▁▁▁▁▁▁▁▁▁▁▁▁▁▁▁▁▁▁▁▁▁▁▁▁▁▁▁▁▁▁▁▁</td></tr><tr><td>ihyg</td><td>▁▁▁▁▁▁▁▁▁▁▁▁▁▁▁▁▁▁▁▁▁▁▁▁▁▁▁▁▁▁▁▁▁▁▁▁▁▁▁▁</td></tr><tr><td>itraxx_main_generic</td><td>▁▁▁▁▁▁▁▁▁▁▁▁▁▁▁▁▁▁▁▁▁▁▁▁▁▁▁▁▁▁▁▁▁▁▁▁▁▁▁▁</td></tr><tr><td>itraxx_xover_generic</td><td>▁▁▁▁▁▁▁▁▁▁▁▁▁▁▁▁▁▁▁▁▁▁▁▁▁▁▁▁▁▁▁▁▁▁▁▁▁▁▁▁</td></tr><tr><td>lqd</td><td>▂▁▃▃▃▃▃▇▇▇▅▅▄▃▃▃▃▃▇▇█▅▇▇▇▇▇▆▆▆▃▃▅▃▆▆▇▆▆▆</td></tr><tr><td>portfolio value</td><td>▇██████▇██▇▆▆▆▇▄▆▆▅▆▅▅▅▅▅▅▅▅▆▆▆▄▃▁▁▂▃▂▂▂</td></tr><tr><td>portfolio value (clean)</td><td>▇██████▇▇▇▇▆▆▆▇▄▆▆▅▅▄▅▅▅▅▅▅▅▆▆▆▄▃▁▁▂▃▂▂▂</td></tr><tr><td>sharpe</td><td>█▅▄▃▃▃▃▂▂▂▂▁▂▁▂▁▂▂▂▂▁▂▂▂▂▂▂▂▂▂▂▂▁▁▁▁▁▁▁▁</td></tr><tr><td>sharpe (clean)</td><td>█▅▅▃▃▃▃▂▂▂▂▁▂▁▂▁▂▂▂▂▂▂▂▂▂▂▂▂▂▂▂▂▁▁▁▁▂▁▁▁</td></tr><tr><td>spx</td><td>▃▃▅▅▅▅▅▆▆▆▅▅▅▁▂▄▄▄▆▆▆▆▆▇▇▇▇▆▆▆▂▂▃▂▇▇█▇▇▆</td></tr><tr><td>sx5e</td><td>▁▁▁▁▁▁▁▁▁▁▁▁▁▁▁▁▁▁▁▁▁▁▁▁▁▁▁▁▁▁▁▁▁▁▁▁▁▁▁▁</td></tr><tr><td>transaction costs (clean)</td><td>▂▁▁█▁▂▁▁▁▁▁▁▁▁▁▁▁▁▁▁▁▁▁▁▁▁▁▁▁▁▁▁▁▁▁▁▇▁▁▁</td></tr><tr><td>vix</td><td>▃▃▅▅▅▅▅▆▆▆▄▄▆▄▄▁▁▁▇▇▇▅▆▆▆▆▆▆▆▆▃▃▃▃▇▇██▇▇</td></tr></table><br/></div><div class=\"wandb-col\"><h3>Run summary:</h3><br/><table class=\"wandb\"><tr><td>1Y drawdown</td><td>-0.23078</td></tr><tr><td>1Y drawdown (clean)</td><td>-0.23205</td></tr><tr><td>1Y return</td><td>-0.13861</td></tr><tr><td>1Y return (clean)</td><td>-0.14425</td></tr><tr><td>1Y sharpe</td><td>-0.57243</td></tr><tr><td>1Y sharpe (clean)</td><td>-0.60176</td></tr><tr><td>accumulated transaction costs (clean)</td><td>0.01707</td></tr><tr><td>annualised return</td><td>-0.04825</td></tr><tr><td>annualised return (clean)</td><td>-0.05284</td></tr><tr><td>cdx_ig_generic</td><td>0.0</td></tr><tr><td>daily return</td><td>-0.00083</td></tr><tr><td>daily return (clean)</td><td>-0.00083</td></tr><tr><td>date</td><td>2022-10-12</td></tr><tr><td>date (clean)</td><td>2022-10-12</td></tr><tr><td>drawdown</td><td>-0.28847</td></tr><tr><td>drawdown (clean)</td><td>-0.29793</td></tr><tr><td>er_cdx_ig_long</td><td>0.59371</td></tr><tr><td>er_cdx_ig_short</td><td>0.0</td></tr><tr><td>er_itraxx_main_long</td><td>0.0</td></tr><tr><td>er_itraxx_main_short</td><td>0.0</td></tr><tr><td>er_itraxx_xover_long</td><td>0.0</td></tr><tr><td>er_itraxx_xover_short</td><td>0.0</td></tr><tr><td>hyg</td><td>0.2103</td></tr><tr><td>ieac</td><td>0.0</td></tr><tr><td>ihyg</td><td>0.0</td></tr><tr><td>itraxx_main_generic</td><td>0.0</td></tr><tr><td>itraxx_xover_generic</td><td>0.0</td></tr><tr><td>lqd</td><td>0.02632</td></tr><tr><td>portfolio value</td><td>0.82894</td></tr><tr><td>portfolio value (clean)</td><td>0.81388</td></tr><tr><td>sharpe</td><td>-0.1888</td></tr><tr><td>sharpe (clean)</td><td>-0.21372</td></tr><tr><td>spx</td><td>0.00032</td></tr><tr><td>sx5e</td><td>0.0</td></tr><tr><td>transaction costs (clean)</td><td>0.0</td></tr><tr><td>vix</td><td>0.16356</td></tr></table><br/></div></div>"
            ]
          },
          "metadata": {}
        },
        {
          "output_type": "display_data",
          "data": {
            "text/plain": [
              "<IPython.core.display.HTML object>"
            ],
            "text/html": [
              "Synced <strong style=\"color:#cdcd00\">PCA_Strategy_pca_ED_usd</strong>: <a href=\"https://wandb.ai/cmf-credit-derivatives/Final_v1-2/runs/1lat79rh\" target=\"_blank\">https://wandb.ai/cmf-credit-derivatives/Final_v1-2/runs/1lat79rh</a><br/>Synced 5 W&B file(s), 0 media file(s), 0 artifact file(s) and 0 other file(s)"
            ]
          },
          "metadata": {}
        },
        {
          "output_type": "display_data",
          "data": {
            "text/plain": [
              "<IPython.core.display.HTML object>"
            ],
            "text/html": [
              "Find logs at: <code>./wandb/run-20221204_192628-1lat79rh/logs</code>"
            ]
          },
          "metadata": {}
        },
        {
          "output_type": "stream",
          "name": "stdout",
          "text": [
            "For project \"Final\" the train_test_split_time is set at 2019-01-02 and transaction costs are set at 0.5%. If you wish to set another date or costs, use \"Test\" project\n"
          ]
        },
        {
          "output_type": "display_data",
          "data": {
            "text/plain": [
              "<IPython.core.display.HTML object>"
            ],
            "text/html": [
              "Tracking run with wandb version 0.13.5"
            ]
          },
          "metadata": {}
        },
        {
          "output_type": "display_data",
          "data": {
            "text/plain": [
              "<IPython.core.display.HTML object>"
            ],
            "text/html": [
              "Run data is saved locally in <code>/content/CreditDerivativesSimulator/wandb/run-20221204_192804-26umswsi</code>"
            ]
          },
          "metadata": {}
        },
        {
          "output_type": "display_data",
          "data": {
            "text/plain": [
              "<IPython.core.display.HTML object>"
            ],
            "text/html": [
              "Syncing run <strong><a href=\"https://wandb.ai/cmf-credit-derivatives/Final_v1-2/runs/26umswsi\" target=\"_blank\">PCA_Strategy_pca_ED_eur</a></strong> to <a href=\"https://wandb.ai/cmf-credit-derivatives/Final_v1-2\" target=\"_blank\">Weights & Biases</a> (<a href=\"https://wandb.me/run\" target=\"_blank\">docs</a>)<br/>"
            ]
          },
          "metadata": {}
        },
        {
          "output_type": "stream",
          "name": "stderr",
          "text": [
            "100%|██████████| 957/957 [01:31<00:00, 10.51it/s]"
          ]
        },
        {
          "output_type": "stream",
          "name": "stdout",
          "text": [
            "\n",
            "Final value of portfolio 1.0159430382811332\n",
            "Logging completed!\n"
          ]
        },
        {
          "output_type": "stream",
          "name": "stderr",
          "text": [
            "\n"
          ]
        },
        {
          "output_type": "display_data",
          "data": {
            "text/plain": [
              "<IPython.core.display.HTML object>"
            ],
            "text/html": [
              "Waiting for W&B process to finish... <strong style=\"color:green\">(success).</strong>"
            ]
          },
          "metadata": {}
        },
        {
          "output_type": "display_data",
          "data": {
            "text/plain": [
              "VBox(children=(Label(value='0.001 MB of 0.001 MB uploaded (0.000 MB deduped)\\r'), FloatProgress(value=1.0, max…"
            ],
            "application/vnd.jupyter.widget-view+json": {
              "version_major": 2,
              "version_minor": 0,
              "model_id": "32badf1d3e39425ea32c0152de5fbf00"
            }
          },
          "metadata": {}
        },
        {
          "output_type": "display_data",
          "data": {
            "text/plain": [
              "<IPython.core.display.HTML object>"
            ],
            "text/html": [
              "<style>\n",
              "    table.wandb td:nth-child(1) { padding: 0 10px; text-align: left ; width: auto;} td:nth-child(2) {text-align: left ; width: 100%}\n",
              "    .wandb-row { display: flex; flex-direction: row; flex-wrap: wrap; justify-content: flex-start; width: 100% }\n",
              "    .wandb-col { display: flex; flex-direction: column; flex-basis: 100%; flex: 1; padding: 10px; }\n",
              "    </style>\n",
              "<div class=\"wandb-row\"><div class=\"wandb-col\"><h3>Run history:</h3><br/><table class=\"wandb\"><tr><td>1Y drawdown</td><td>██▇▆▆▅▅▅▅▅▅▅▅▁▁▁▁▁▁▁▁▁▂▄▆▆▆▆▆▇▇▇▇▆▆▆▃▃▃▂</td></tr><tr><td>1Y drawdown (clean)</td><td>█▇▇▇▇▆▆▆▆▆▆▆▆▁▁▁▁▁▁▁▁▁▁▃▅▅▅▄▅▆▆▆▆▅▅▅▃▃▃▂</td></tr><tr><td>1Y return</td><td>▄▁▄▇▇▇▆▇▆▆▅▅▆▆▇▇▇██▇▇▇▇▄▅▃▃▃▃▄▄▄▄▃▅▅▇▆▇█</td></tr><tr><td>1Y return (clean)</td><td>▅▁▄▆▆▆▅▆▅▅▅▅▆▅▆▆▇▇▆▆▆▆▆▃▄▃▃▃▃▄▄▄▄▃▄▄▆▆▆█</td></tr><tr><td>1Y sharpe</td><td> ▁▄▆▅▆▆▆▆▆▆▆▆▇███████████▇▇▇▇███████████</td></tr><tr><td>1Y sharpe (clean)</td><td> ▁▄▅▅▆▅▆▆▆▆▆▆▇███████████▇▇▇▇▇▇▇▇▇██████</td></tr><tr><td>accumulated transaction costs (clean)</td><td>▁▁▁▂▂▂▃▃▃▃▃▃▃▄▄▄▅▅▅▅▆▆▆▆▆▆▆▆▇▇▇▇▇▇▇█████</td></tr><tr><td>annualised return</td><td>▄▁▅█▇▇▆▇▆▆▆▅▆▇████▇▇▇▇▆▆▆▆▆▆▆▆▆▆▆▅▆▆▆▆▆▇</td></tr><tr><td>annualised return (clean)</td><td>▆▁▅█▇▇▆█▇▆▆▅▇▇███▇▇▇▇▇▆▆▆▆▆▆▆▆▆▆▆▅▆▆▇▆▆▇</td></tr><tr><td>cdx_ig_generic</td><td>▁▁▁▁▁▁▁▁▁▁▁▁▁▁▁▁▁▁▁▁▁▁▁▁▁▁▁▁▁▁▁▁▁▁▁▁▁▁▁▁</td></tr><tr><td>daily return</td><td>▇▇▇▇▇▇▇▇▇▇▇▇█▁▇▇▇▇▇▇▇▇▇▇▇▇▇▇▇▇▇▇▇▇▇▇█▇██</td></tr><tr><td>daily return (clean)</td><td>▇▇▇▇▇▇▇▇▇▇▇▇█▁▇▇▇▇▇█▇▇▇▇▇▇▇▇▇▇▇▇▇▇▇▇█▇██</td></tr><tr><td>drawdown</td><td>███▇▇▆▆▆▆▆▆▆▆▃▃▃▃▃▃▃▃▃▃▃▃▃▃▃▃▃▃▃▃▃▃▃▂▂▂▁</td></tr><tr><td>drawdown (clean)</td><td>█▇▇▇▇▆▆▆▆▆▆▆▆▂▂▂▂▂▂▂▂▂▂▂▂▂▂▂▂▂▂▂▂▁▁▁▁▁▁▁</td></tr><tr><td>er_cdx_ig_long</td><td>▁▁▁▁▁▁▁▁▁▁▁▁▁▁▁▁▁▁▁▁▁▁▁▁▁▁▁▁▁▁▁▁▁▁▁▁▁▁▁▁</td></tr><tr><td>er_cdx_ig_short</td><td>▁▁▁▁▁▁▁▁▁▁▁▁▁▁▁▁▁▁▁▁▁▁▁▁▁▁▁▁▁▁▁▁▁▁▁▁▁▁▁▁</td></tr><tr><td>er_itraxx_main_long</td><td>▅▆▆▃▃▅▂▂▂▃▄▆▂▄▂█▅▇▇▆▅▅▅▅█▆▇▅▆▃▁▅█▄▂▁▃▂▂▃</td></tr><tr><td>er_itraxx_main_short</td><td>▁▁▁▁▁▁▁▁▁▁▁▁▁▁▁▁▁▁▁▁▁▁▁▁▁▁▁▁▁▁▁▁▁▁▁▁▁▁▁▁</td></tr><tr><td>er_itraxx_xover_long</td><td>▄▄▁▄▅█▇▇▇▇▅▃▇█▃▂▇▂▅▄▄▄▄▂▃▂▆█▇▆▆▂▄▆▅▆█▇▇█</td></tr><tr><td>er_itraxx_xover_short</td><td>▁▁▁▁▁▁▁▁▁▁▁▁▁▁▁▁▁▁▁▁▁▁▁▁▁▁▁▁▁▁▁▁▁▁▁▁▁▁▁▁</td></tr><tr><td>hyg</td><td>▁▁▁▁▁▁▁▁▁▁▁▁▁▁▁▁▁▁▁▁▁▁▁▁▁▁▁▁▁▁▁▁▁▁▁▁▁▁▁▁</td></tr><tr><td>ieac</td><td>▅▄▄▇▇▂▁▁▁▃▃▃▃▆▄▃▁▆▅▂▆▆▆▇▃█▃▃▃▂▂▃▄▂▆▄▂▁▁▂</td></tr><tr><td>ihyg</td><td>▄▄▇▄▄▂▆▆▆▄▅▆▄▁▇▅▄▅▂▅▄▄▄▅▆▃▃▂▂▆▆█▄▆▅▆▄▇▇▄</td></tr><tr><td>itraxx_main_generic</td><td>▁▁▁▁▁▁▁▁▁▁▁▁▁▁▁▁▁▁▁▁▁▁▁▁▁▁▁▁▁▁▁▁▁▁▁▁▁▁▁▁</td></tr><tr><td>itraxx_xover_generic</td><td>▁▁▁▁▁▁▁▁▁▁▁▁▁▁▁▁▁▁▁▁▁▁▁▁▁▁▁▁▁▁▁▁▁▁▁▁▁▁▁▁</td></tr><tr><td>lqd</td><td>▁▁▁▁▁▁▁▁▁▁▁▁▁▁▁▁▁▁▁▁▁▁▁▁▁▁▁▁▁▁▁▁▁▁▁▁▁▁▁▁</td></tr><tr><td>portfolio value</td><td>▁▁▁▂▂▂▂▃▃▃▂▂▃▄▅▅▅▅▅▅▅▅▅▅▅▅▅▄▄▅▅▅▅▄▅▅▇▆▇█</td></tr><tr><td>portfolio value (clean)</td><td>▄▃▃▄▄▄▄▅▄▄▃▃▄▅▆▇▇▆▆▅▅▅▅▄▄▄▄▃▃▄▃▃▃▁▃▃▆▄▅█</td></tr><tr><td>sharpe</td><td> ▁▅▆▆▆▆▆▆▆▆▆▇███████████████████████████</td></tr><tr><td>sharpe (clean)</td><td> ▁▄▆▅▆▆▆▆▆▆▆▆███████████████████████████</td></tr><tr><td>spx</td><td>▁▁▁▁▁▁▁▁▁▁▁▁▁▁▁▁▁▁▁▁▁▁▁▁▁▁▁▁▁▁▁▁▁▁▁▁▁▁▁▁</td></tr><tr><td>sx5e</td><td>▅▅▆▇▆▃▄▄▄▅▅▅▅▆▆▃▄▅▅▄▆▆▆▇▄█▅▅▅▄▅▅▆▃▆▄▁▁▁▁</td></tr><tr><td>transaction costs (clean)</td><td>▁█▁▄▁▁▁▁▁▁▁▁▁▆▁▁▁▁▁▁▁▁▁▁▁▁▁▁▄▁▁▁▁▁█▁▁▁▁▁</td></tr><tr><td>vix</td><td>▁▁▁▁▁▁▁▁▁▁▁▁▁▁▁▁▁▁▁▁▁▁▁▁▁▁▁▁▁▁▁▁▁▁▁▁▁▁▁▁</td></tr></table><br/></div><div class=\"wandb-col\"><h3>Run summary:</h3><br/><table class=\"wandb\"><tr><td>1Y drawdown</td><td>-0.01015</td></tr><tr><td>1Y drawdown (clean)</td><td>-0.00923</td></tr><tr><td>1Y return</td><td>0.00818</td></tr><tr><td>1Y return (clean)</td><td>0.00629</td></tr><tr><td>1Y sharpe</td><td>0.44755</td></tr><tr><td>1Y sharpe (clean)</td><td>0.07544</td></tr><tr><td>accumulated transaction costs (clean)</td><td>0.0098</td></tr><tr><td>annualised return</td><td>0.00418</td></tr><tr><td>annualised return (clean)</td><td>0.00159</td></tr><tr><td>cdx_ig_generic</td><td>0.0</td></tr><tr><td>daily return</td><td>0.00015</td></tr><tr><td>daily return (clean)</td><td>0.00015</td></tr><tr><td>date</td><td>2022-10-12</td></tr><tr><td>date (clean)</td><td>2022-10-12</td></tr><tr><td>drawdown</td><td>-0.0164</td></tr><tr><td>drawdown (clean)</td><td>-0.01091</td></tr><tr><td>er_cdx_ig_long</td><td>0.0</td></tr><tr><td>er_cdx_ig_short</td><td>0.0</td></tr><tr><td>er_itraxx_main_long</td><td>-0.09774</td></tr><tr><td>er_itraxx_main_short</td><td>0.0</td></tr><tr><td>er_itraxx_xover_long</td><td>0.04748</td></tr><tr><td>er_itraxx_xover_short</td><td>0.0</td></tr><tr><td>hyg</td><td>0.0</td></tr><tr><td>ieac</td><td>-0.08035</td></tr><tr><td>ihyg</td><td>-0.00057</td></tr><tr><td>itraxx_main_generic</td><td>0.0</td></tr><tr><td>itraxx_xover_generic</td><td>0.0</td></tr><tr><td>lqd</td><td>0.0</td></tr><tr><td>portfolio value</td><td>1.01594</td></tr><tr><td>portfolio value (clean)</td><td>1.00605</td></tr><tr><td>sharpe</td><td>-0.38001</td></tr><tr><td>sharpe (clean)</td><td>-0.89101</td></tr><tr><td>spx</td><td>0.0</td></tr><tr><td>sx5e</td><td>-0.00047</td></tr><tr><td>transaction costs (clean)</td><td>0.0</td></tr><tr><td>vix</td><td>0.0</td></tr></table><br/></div></div>"
            ]
          },
          "metadata": {}
        },
        {
          "output_type": "display_data",
          "data": {
            "text/plain": [
              "<IPython.core.display.HTML object>"
            ],
            "text/html": [
              "Synced <strong style=\"color:#cdcd00\">PCA_Strategy_pca_ED_eur</strong>: <a href=\"https://wandb.ai/cmf-credit-derivatives/Final_v1-2/runs/26umswsi\" target=\"_blank\">https://wandb.ai/cmf-credit-derivatives/Final_v1-2/runs/26umswsi</a><br/>Synced 5 W&B file(s), 0 media file(s), 0 artifact file(s) and 0 other file(s)"
            ]
          },
          "metadata": {}
        },
        {
          "output_type": "display_data",
          "data": {
            "text/plain": [
              "<IPython.core.display.HTML object>"
            ],
            "text/html": [
              "Find logs at: <code>./wandb/run-20221204_192804-26umswsi/logs</code>"
            ]
          },
          "metadata": {}
        },
        {
          "output_type": "stream",
          "name": "stdout",
          "text": [
            "For project \"Final\" the train_test_split_time is set at 2019-01-02 and transaction costs are set at 0.5%. If you wish to set another date or costs, use \"Test\" project\n"
          ]
        },
        {
          "output_type": "display_data",
          "data": {
            "text/plain": [
              "<IPython.core.display.HTML object>"
            ],
            "text/html": [
              "Tracking run with wandb version 0.13.5"
            ]
          },
          "metadata": {}
        },
        {
          "output_type": "display_data",
          "data": {
            "text/plain": [
              "<IPython.core.display.HTML object>"
            ],
            "text/html": [
              "Run data is saved locally in <code>/content/CreditDerivativesSimulator/wandb/run-20221204_192942-1gkh1jnx</code>"
            ]
          },
          "metadata": {}
        },
        {
          "output_type": "display_data",
          "data": {
            "text/plain": [
              "<IPython.core.display.HTML object>"
            ],
            "text/html": [
              "Syncing run <strong><a href=\"https://wandb.ai/cmf-credit-derivatives/Final_v1-2/runs/1gkh1jnx\" target=\"_blank\">PCA_Strategy_no_pca_SD_usd</a></strong> to <a href=\"https://wandb.ai/cmf-credit-derivatives/Final_v1-2\" target=\"_blank\">Weights & Biases</a> (<a href=\"https://wandb.me/run\" target=\"_blank\">docs</a>)<br/>"
            ]
          },
          "metadata": {}
        },
        {
          "output_type": "stream",
          "name": "stderr",
          "text": [
            "100%|██████████| 957/957 [00:30<00:00, 31.07it/s]"
          ]
        },
        {
          "output_type": "stream",
          "name": "stdout",
          "text": [
            "\n",
            "Final value of portfolio 0.9526042121134114\n",
            "Logging completed!\n"
          ]
        },
        {
          "output_type": "stream",
          "name": "stderr",
          "text": [
            "\n"
          ]
        },
        {
          "output_type": "display_data",
          "data": {
            "text/plain": [
              "<IPython.core.display.HTML object>"
            ],
            "text/html": [
              "Waiting for W&B process to finish... <strong style=\"color:green\">(success).</strong>"
            ]
          },
          "metadata": {}
        },
        {
          "output_type": "display_data",
          "data": {
            "text/plain": [
              "VBox(children=(Label(value='0.001 MB of 0.001 MB uploaded (0.000 MB deduped)\\r'), FloatProgress(value=1.0, max…"
            ],
            "application/vnd.jupyter.widget-view+json": {
              "version_major": 2,
              "version_minor": 0,
              "model_id": "144304ec06a744ca89c28b80a98d78f3"
            }
          },
          "metadata": {}
        },
        {
          "output_type": "display_data",
          "data": {
            "text/plain": [
              "<IPython.core.display.HTML object>"
            ],
            "text/html": [
              "<style>\n",
              "    table.wandb td:nth-child(1) { padding: 0 10px; text-align: left ; width: auto;} td:nth-child(2) {text-align: left ; width: 100%}\n",
              "    .wandb-row { display: flex; flex-direction: row; flex-wrap: wrap; justify-content: flex-start; width: 100% }\n",
              "    .wandb-col { display: flex; flex-direction: column; flex-basis: 100%; flex: 1; padding: 10px; }\n",
              "    </style>\n",
              "<div class=\"wandb-row\"><div class=\"wandb-col\"><h3>Run history:</h3><br/><table class=\"wandb\"><tr><td>1Y drawdown</td><td>██▇▇▇▇▇▇▆▆▆▆▃▁▁▁▁▁▁▂▂▂▃▅▅▅▆▆▆▆▆▆▇▆▆▆▆▆▅▅</td></tr><tr><td>1Y drawdown (clean)</td><td>██▇▇▇▇▇▇▆▆▆▆▃▁▁▁▁▁▁▂▂▂▃▆▆▆▆▆▆▆▆▆▇▆▆▆▆▆▅▅</td></tr><tr><td>1Y return</td><td>▆▆▂▆▆▆▆▆▆▆▆▅▂▁▁▂▂▂▁▁▂▂▂▇▅▆▅▅▅▄▄▄▆▇▇█▇██▇</td></tr><tr><td>1Y return (clean)</td><td>▆▆▂▆▆▆▆▆▆▆▆▅▂▁▂▂▂▂▁▁▂▂▂▆▅▆▄▅▅▄▄▄▆▇▇█▇██▇</td></tr><tr><td>1Y sharpe</td><td>  ▁▅▅▅▅▅▅▅▅▄▃▄▄▄▄▄▄▄▅▅▅▇▆▇▅▅▆▅▅▅▆▇▇█▇██▇</td></tr><tr><td>1Y sharpe (clean)</td><td>  ▁▅▅▅▅▄▅▅▅▄▃▄▄▄▄▄▄▄▄▅▄▇▆▆▅▅▅▅▅▅▆▇▇█▇██▇</td></tr><tr><td>accumulated transaction costs (clean)</td><td>▁▁▁▃▃▃▃▃▃▃▃▄▄▄▄▅▅▅▆▆▆▆▇▇▇▇▇▇▇▇▇▇▇▇▇▇████</td></tr><tr><td>annualised return</td><td>██▁███████▇▆▂▁▂▃▃▃▄▃▅▅▄▄▄▄▄▄▄▄▅▅▅▆▅▆▆▆▆▆</td></tr><tr><td>annualised return (clean)</td><td>██▁███████▇▆▁▁▂▃▃▃▄▃▅▅▄▄▄▄▄▄▄▄▅▅▅▆▅▆▆▆▆▆</td></tr><tr><td>cdx_ig_generic</td><td>▁▁▁▁▁▁▁▁▁▁▁▁▁▁▁▁▁▁▁▁▁▁▁▁▁▁▁▁▁▁▁▁▁▁▁▁▁▁▁▁</td></tr><tr><td>daily return</td><td>▅▅▅▅▅▅▅▄▅▅▄▁▂█▄▅▅▅▅▆▅▅▅▅▄▄▄▅▅▅▅▄▄▆▅▄▅▅▄▃</td></tr><tr><td>daily return (clean)</td><td>▅▅▅▅▅▅▅▄▅▅▄▁▂█▄▅▅▅▅▆▅▅▅▅▄▄▄▅▅▅▅▄▄▆▅▄▅▅▄▃</td></tr><tr><td>drawdown</td><td>██▇▇▇▇▇▇▆▆▆▆▃▁▁▁▁▁▁▁▁▁▁▁▁▁▁▁▁▁▁▁▁▁▁▁▁▁▁▁</td></tr><tr><td>drawdown (clean)</td><td>██▇▇▇▇▇▇▆▆▆▆▃▁▁▁▁▁▁▁▁▁▁▁▁▁▁▁▁▁▁▁▁▁▁▁▁▁▁▁</td></tr><tr><td>er_cdx_ig_long</td><td>▄▄▇▄▄▄▄▂▂▂▂███▃▄▄▄████▄▁▁▁▁▁▁▁▁▁▁▁▁▁▄███</td></tr><tr><td>er_cdx_ig_short</td><td>▁▁▁▁▁▁▁▁▁▁▁▁▁▁▁▁▁▁▁▁▁▁▁▁▁▁▁▁▁▁▁▁▁▁▁▁▁▁▁▁</td></tr><tr><td>er_itraxx_main_long</td><td>▁▁▁▁▁▁▁▁▁▁▁▁▁▁▁▁▁▁▁▁▁▁▁▁▁▁▁▁▁▁▁▁▁▁▁▁▁▁▁▁</td></tr><tr><td>er_itraxx_main_short</td><td>▁▁▁▁▁▁▁▁▁▁▁▁▁▁▁▁▁▁▁▁▁▁▁▁▁▁▁▁▁▁▁▁▁▁▁▁▁▁▁▁</td></tr><tr><td>er_itraxx_xover_long</td><td>▁▁▁▁▁▁▁▁▁▁▁▁▁▁▁▁▁▁▁▁▁▁▁▁▁▁▁▁▁▁▁▁▁▁▁▁▁▁▁▁</td></tr><tr><td>er_itraxx_xover_short</td><td>▁▁▁▁▁▁▁▁▁▁▁▁▁▁▁▁▁▁▁▁▁▁▁▁▁▁▁▁▁▁▁▁▁▁▁▁▁▁▁▁</td></tr><tr><td>hyg</td><td>▅▅█▅▅▅▅▂▂▂▂▅▅▅▁▅▅▅▇▇▇█▅▂▂▂▂▂▂▂▂▂▂▂▂▂▅███</td></tr><tr><td>ieac</td><td>▁▁▁▁▁▁▁▁▁▁▁▁▁▁▁▁▁▁▁▁▁▁▁▁▁▁▁▁▁▁▁▁▁▁▁▁▁▁▁▁</td></tr><tr><td>ihyg</td><td>▁▁▁▁▁▁▁▁▁▁▁▁▁▁▁▁▁▁▁▁▁▁▁▁▁▁▁▁▁▁▁▁▁▁▁▁▁▁▁▁</td></tr><tr><td>itraxx_main_generic</td><td>▁▁▁▁▁▁▁▁▁▁▁▁▁▁▁▁▁▁▁▁▁▁▁▁▁▁▁▁▁▁▁▁▁▁▁▁▁▁▁▁</td></tr><tr><td>itraxx_xover_generic</td><td>▁▁▁▁▁▁▁▁▁▁▁▁▁▁▁▁▁▁▁▁▁▁▁▁▁▁▁▁▁▁▁▁▁▁▁▁▁▁▁▁</td></tr><tr><td>lqd</td><td>▅▅▃▅▅▅▅▇▇▇▇▄▄▄█▅▅▅▅▅▅▄▅▆▆▆▆▆▆▆▆▆▆▆▆▆▅▁▁▁</td></tr><tr><td>portfolio value</td><td>██▇████████▆▃▂▂▃▃▃▃▂▄▃▂▂▁▁▁▁▁▁▁▁▂▃▃▄▃▄▄▃</td></tr><tr><td>portfolio value (clean)</td><td>██▇████████▆▃▂▃▃▃▃▃▂▄▃▂▂▁▁▁▁▁▁▁▁▂▃▃▄▃▄▄▃</td></tr><tr><td>sharpe</td><td>  ▁█▇▇▇▇█▇▇▆▄▆▆▆▆▇▇▇▇▇▇▇▇▇▇▇▇▇▇▇▇███████</td></tr><tr><td>sharpe (clean)</td><td>  ▁▇▇▇▇▆▇▇▇▆▄▆▆▆▆▇▇▇▇▇▇▇▇▇▇▇▇▇▇▇▇███████</td></tr><tr><td>spx</td><td>▅▅▁▅▅▅▅████▁▁▁█▅▅▅▂▂▂▂▅▇▇▇▇▇▇▇▇▇▇▇▇▇▅▂▂▂</td></tr><tr><td>sx5e</td><td>▁▁▁▁▁▁▁▁▁▁▁▁▁▁▁▁▁▁▁▁▁▁▁▁▁▁▁▁▁▁▁▁▁▁▁▁▁▁▁▁</td></tr><tr><td>transaction costs (clean)</td><td>▁▁▁▁▁▁▁█▁▁▁▁▁▁▁▁▁▁▁▁▁▁▁▁▁▁▁▁▁▁▁▁▁▁▁▁▁▁▁▁</td></tr><tr><td>vix</td><td>▅▅▁▅▅▅▅████▃▃▃█▅▅▅▃▃▃▃▅▆▆▆▆▆▆▆▆▆▆▆▆▆▅▃▃▃</td></tr></table><br/></div><div class=\"wandb-col\"><h3>Run summary:</h3><br/><table class=\"wandb\"><tr><td>1Y drawdown</td><td>-0.03529</td></tr><tr><td>1Y drawdown (clean)</td><td>-0.03461</td></tr><tr><td>1Y return</td><td>0.01269</td></tr><tr><td>1Y return (clean)</td><td>0.01197</td></tr><tr><td>1Y sharpe</td><td>0.24135</td></tr><tr><td>1Y sharpe (clean)</td><td>0.21737</td></tr><tr><td>accumulated transaction costs (clean)</td><td>0.00569</td></tr><tr><td>annualised return</td><td>-0.01272</td></tr><tr><td>annualised return (clean)</td><td>-0.01425</td></tr><tr><td>cdx_ig_generic</td><td>0.0</td></tr><tr><td>daily return</td><td>0.00014</td></tr><tr><td>daily return (clean)</td><td>0.00014</td></tr><tr><td>date</td><td>2022-10-12</td></tr><tr><td>date (clean)</td><td>2022-10-12</td></tr><tr><td>drawdown</td><td>-0.08989</td></tr><tr><td>drawdown (clean)</td><td>-0.0904</td></tr><tr><td>er_cdx_ig_long</td><td>0.52849</td></tr><tr><td>er_cdx_ig_short</td><td>0.0</td></tr><tr><td>er_itraxx_main_long</td><td>0.0</td></tr><tr><td>er_itraxx_main_short</td><td>0.0</td></tr><tr><td>er_itraxx_xover_long</td><td>0.0</td></tr><tr><td>er_itraxx_xover_short</td><td>0.0</td></tr><tr><td>hyg</td><td>0.09931</td></tr><tr><td>ieac</td><td>0.0</td></tr><tr><td>ihyg</td><td>0.0</td></tr><tr><td>itraxx_main_generic</td><td>0.0</td></tr><tr><td>itraxx_xover_generic</td><td>0.0</td></tr><tr><td>lqd</td><td>-0.06075</td></tr><tr><td>portfolio value</td><td>0.9526</td></tr><tr><td>portfolio value (clean)</td><td>0.94702</td></tr><tr><td>sharpe</td><td>-0.54606</td></tr><tr><td>sharpe (clean)</td><td>-0.59074</td></tr><tr><td>spx</td><td>-0.00256</td></tr><tr><td>sx5e</td><td>0.0</td></tr><tr><td>transaction costs (clean)</td><td>0.0</td></tr><tr><td>vix</td><td>-0.0272</td></tr></table><br/></div></div>"
            ]
          },
          "metadata": {}
        },
        {
          "output_type": "display_data",
          "data": {
            "text/plain": [
              "<IPython.core.display.HTML object>"
            ],
            "text/html": [
              "Synced <strong style=\"color:#cdcd00\">PCA_Strategy_no_pca_SD_usd</strong>: <a href=\"https://wandb.ai/cmf-credit-derivatives/Final_v1-2/runs/1gkh1jnx\" target=\"_blank\">https://wandb.ai/cmf-credit-derivatives/Final_v1-2/runs/1gkh1jnx</a><br/>Synced 5 W&B file(s), 0 media file(s), 0 artifact file(s) and 0 other file(s)"
            ]
          },
          "metadata": {}
        },
        {
          "output_type": "display_data",
          "data": {
            "text/plain": [
              "<IPython.core.display.HTML object>"
            ],
            "text/html": [
              "Find logs at: <code>./wandb/run-20221204_192942-1gkh1jnx/logs</code>"
            ]
          },
          "metadata": {}
        },
        {
          "output_type": "stream",
          "name": "stdout",
          "text": [
            "For project \"Final\" the train_test_split_time is set at 2019-01-02 and transaction costs are set at 0.5%. If you wish to set another date or costs, use \"Test\" project\n"
          ]
        },
        {
          "output_type": "display_data",
          "data": {
            "text/plain": [
              "<IPython.core.display.HTML object>"
            ],
            "text/html": [
              "Tracking run with wandb version 0.13.5"
            ]
          },
          "metadata": {}
        },
        {
          "output_type": "display_data",
          "data": {
            "text/plain": [
              "<IPython.core.display.HTML object>"
            ],
            "text/html": [
              "Run data is saved locally in <code>/content/CreditDerivativesSimulator/wandb/run-20221204_193018-1w3l3sjr</code>"
            ]
          },
          "metadata": {}
        },
        {
          "output_type": "display_data",
          "data": {
            "text/plain": [
              "<IPython.core.display.HTML object>"
            ],
            "text/html": [
              "Syncing run <strong><a href=\"https://wandb.ai/cmf-credit-derivatives/Final_v1-2/runs/1w3l3sjr\" target=\"_blank\">PCA_Strategy_no_pca_SD_eur</a></strong> to <a href=\"https://wandb.ai/cmf-credit-derivatives/Final_v1-2\" target=\"_blank\">Weights & Biases</a> (<a href=\"https://wandb.me/run\" target=\"_blank\">docs</a>)<br/>"
            ]
          },
          "metadata": {}
        },
        {
          "output_type": "stream",
          "name": "stderr",
          "text": [
            "100%|██████████| 957/957 [00:32<00:00, 29.89it/s]"
          ]
        },
        {
          "output_type": "stream",
          "name": "stdout",
          "text": [
            "\n",
            "Final value of portfolio 1.0054593397631786\n",
            "Logging completed!\n"
          ]
        },
        {
          "output_type": "stream",
          "name": "stderr",
          "text": [
            "\n"
          ]
        },
        {
          "output_type": "display_data",
          "data": {
            "text/plain": [
              "<IPython.core.display.HTML object>"
            ],
            "text/html": [
              "Waiting for W&B process to finish... <strong style=\"color:green\">(success).</strong>"
            ]
          },
          "metadata": {}
        },
        {
          "output_type": "display_data",
          "data": {
            "text/plain": [
              "<IPython.core.display.HTML object>"
            ],
            "text/html": [
              "<style>\n",
              "    table.wandb td:nth-child(1) { padding: 0 10px; text-align: left ; width: auto;} td:nth-child(2) {text-align: left ; width: 100%}\n",
              "    .wandb-row { display: flex; flex-direction: row; flex-wrap: wrap; justify-content: flex-start; width: 100% }\n",
              "    .wandb-col { display: flex; flex-direction: column; flex-basis: 100%; flex: 1; padding: 10px; }\n",
              "    </style>\n",
              "<div class=\"wandb-row\"><div class=\"wandb-col\"><h3>Run history:</h3><br/><table class=\"wandb\"><tr><td>1Y drawdown</td><td>███████████▇▆▁▁▁▁▁▁▁▁▁▁▄▆▇█████▇▇▆▆▅▅▅▅▅</td></tr><tr><td>1Y drawdown (clean)</td><td>█████▇▇▇▇▇▇▇▆▁▁▁▁▁▁▁▂▂▂▄▆▇▇█▇▇▇▇▇▆▆▅▅▅▅▅</td></tr><tr><td>1Y return</td><td>▄▄▄▅▄▄▄▄▄▄▄▄▃▂▁▃▃▃▃▃▃▄▄█▆▄▄▄▄▄▄▄▄▆▅▆▆▆▆▆</td></tr><tr><td>1Y return (clean)</td><td>▅▅▄▅▄▄▄▄▄▄▄▄▂▂▁▃▃▃▃▃▃▄▄█▆▄▄▄▄▄▄▄▄▆▅▇▆▆▆▆</td></tr><tr><td>1Y sharpe</td><td>  ▁▄▃▂▃▃▃▃▂▂▃▅▅▆▆▆▆▆▆▆▆█▇▆▅▅▅▆▆▅▆█▇█▇▇▇▇</td></tr><tr><td>1Y sharpe (clean)</td><td>  ▁▃▂▁▂▂▂▂▁▂▃▅▅▆▆▆▆▆▆▆▆█▇▆▄▅▄▅▅▅▆█▇█▇▇▇▇</td></tr><tr><td>accumulated transaction costs (clean)</td><td>▁▁▁▂▂▃▃▃▃▃▄▄▅▅▅▅▆▆▆▆▆▆▆▆▇▇██████████████</td></tr><tr><td>annualised return</td><td>▇▇▆█▇▆▇▇▇▇▆▆▃▂▁▅▅▅▅▅▅▅▅▅▅▅▅▅▅▆▅▅▆▇▆▇▇▇▇▇</td></tr><tr><td>annualised return (clean)</td><td>▇▇▆█▇▆▆▇▇▇▆▆▃▂▁▅▅▅▅▅▅▅▅▅▅▅▅▅▅▅▅▅▆▇▇▇▇▇▇▇</td></tr><tr><td>cdx_ig_generic</td><td>▁▁▁▁▁▁▁▁▁▁▁▁▁▁▁▁▁▁▁▁▁▁▁▁▁▁▁▁▁▁▁▁▁▁▁▁▁▁▁▁</td></tr><tr><td>daily return</td><td>▃▃▄▄▃▄▄▃▃▃▃▄▁█▃▃▃▃▃▃▃▃▄▃▃▄▃▄▃▄▄▃▃▄▄▃▃▃▃▃</td></tr><tr><td>daily return (clean)</td><td>▃▃▄▄▃▄▄▃▃▃▃▄▁█▃▃▃▃▃▃▃▃▄▃▃▄▃▄▃▄▄▃▃▄▄▃▃▃▃▃</td></tr><tr><td>drawdown</td><td>███████████▇▆▂▂▂▂▂▂▂▂▂▂▂▂▂▂▂▂▂▂▂▂▁▁▁▁▁▁▁</td></tr><tr><td>drawdown (clean)</td><td>█████▇▇▇▇▇▇▇▆▁▁▁▁▁▁▁▁▁▁▁▁▁▁▁▁▁▁▁▁▁▁▁▁▁▁▁</td></tr><tr><td>er_cdx_ig_long</td><td>▁▁▁▁▁▁▁▁▁▁▁▁▁▁▁▁▁▁▁▁▁▁▁▁▁▁▁▁▁▁▁▁▁▁▁▁▁▁▁▁</td></tr><tr><td>er_cdx_ig_short</td><td>▁▁▁▁▁▁▁▁▁▁▁▁▁▁▁▁▁▁▁▁▁▁▁▁▁▁▁▁▁▁▁▁▁▁▁▁▁▁▁▁</td></tr><tr><td>er_itraxx_main_long</td><td>▄▄▆▄▄▅▅▄▄▇▁▁████▄▄▄▄▄▄▇▄▄▃▁▁▁▁▁▁▁▁▁▁▄▄▄▄</td></tr><tr><td>er_itraxx_main_short</td><td>▁▁▁▁▁▁▁▁▁▁▁▁▁▁▁▁▁▁▁▁▁▁▁▁▁▁▁▁▁▁▁▁▁▁▁▁▁▁▁▁</td></tr><tr><td>er_itraxx_xover_long</td><td>▅▅█▇▅▁▁▅▅▅▆▆▆▆▆▆▅▅▅▅▅▅▅▅▅▂▃▃▃▃▃▃▃▃▃▃▅▅▅▅</td></tr><tr><td>er_itraxx_xover_short</td><td>▁▁▁▁▁▁▁▁▁▁▁▁▁▁▁▁▁▁▁▁▁▁▁▁▁▁▁▁▁▁▁▁▁▁▁▁▁▁▁▁</td></tr><tr><td>hyg</td><td>▁▁▁▁▁▁▁▁▁▁▁▁▁▁▁▁▁▁▁▁▁▁▁▁▁▁▁▁▁▁▁▁▁▁▁▁▁▁▁▁</td></tr><tr><td>ieac</td><td>▃▃▂▂▃▂▂▃▃▁▄▄▅▅▅▅▃▃▃▃▃▃▁▃▃█▆▆▆▆▆▆▆▆▆▆▃▃▃▃</td></tr><tr><td>ihyg</td><td>▅▅▅█▅▃▃▅▅▆▃▃▇▇▇▇▅▅▅▅▅▅█▅▅▃▁▁▁▁▁▁▁▁▁▁▅▅▅▅</td></tr><tr><td>itraxx_main_generic</td><td>▁▁▁▁▁▁▁▁▁▁▁▁▁▁▁▁▁▁▁▁▁▁▁▁▁▁▁▁▁▁▁▁▁▁▁▁▁▁▁▁</td></tr><tr><td>itraxx_xover_generic</td><td>▁▁▁▁▁▁▁▁▁▁▁▁▁▁▁▁▁▁▁▁▁▁▁▁▁▁▁▁▁▁▁▁▁▁▁▁▁▁▁▁</td></tr><tr><td>lqd</td><td>▁▁▁▁▁▁▁▁▁▁▁▁▁▁▁▁▁▁▁▁▁▁▁▁▁▁▁▁▁▁▁▁▁▁▁▁▁▁▁▁</td></tr><tr><td>portfolio value</td><td>▇▇▆▇▇▆▇▇▇▇▆▆▃▂▁▅▅▅▅▅▅▅▄▅▅▄▄▄▄▄▄▄▅█▆█████</td></tr><tr><td>portfolio value (clean)</td><td>█████▇▇▇▇▇▇▇▃▃▁▅▅▅▅▅▅▅▄▄▄▄▄▄▃▄▃▃▄█▆█▇▇▇▇</td></tr><tr><td>sharpe</td><td>  ▁▅▃▃▄▃▃▃▂▃▄▇▇▇▇▇▇▇▇█▇█████▇███████████</td></tr><tr><td>sharpe (clean)</td><td>  ▁▄▂▁▃▂▂▂▁▂▄▇▇▇▇▇▇█████████▇███████████</td></tr><tr><td>spx</td><td>▁▁▁▁▁▁▁▁▁▁▁▁▁▁▁▁▁▁▁▁▁▁▁▁▁▁▁▁▁▁▁▁▁▁▁▁▁▁▁▁</td></tr><tr><td>sx5e</td><td>▅▅▁▁▅██▅▅▁██▂▂▂▂▅▅▅▅▅▅▁▅▅▇▇▇▇▇▇▇▇▇▇▇▅▅▅▅</td></tr><tr><td>transaction costs (clean)</td><td>▁▁▁▁▁▁▁▁▁▁▁▁▁▁▁▁▁▁▁▁▁▁▁▁█▁▁▁▁▁▁▁▁▁▁▁▁▁▁▁</td></tr><tr><td>vix</td><td>▁▁▁▁▁▁▁▁▁▁▁▁▁▁▁▁▁▁▁▁▁▁▁▁▁▁▁▁▁▁▁▁▁▁▁▁▁▁▁▁</td></tr></table><br/></div><div class=\"wandb-col\"><h3>Run summary:</h3><br/><table class=\"wandb\"><tr><td>1Y drawdown</td><td>-0.03106</td></tr><tr><td>1Y drawdown (clean)</td><td>-0.03106</td></tr><tr><td>1Y return</td><td>0.01806</td></tr><tr><td>1Y return (clean)</td><td>0.01759</td></tr><tr><td>1Y sharpe</td><td>0.63375</td></tr><tr><td>1Y sharpe (clean)</td><td>0.60955</td></tr><tr><td>accumulated transaction costs (clean)</td><td>0.01002</td></tr><tr><td>annualised return</td><td>0.00144</td></tr><tr><td>annualised return (clean)</td><td>-0.00123</td></tr><tr><td>cdx_ig_generic</td><td>0.0</td></tr><tr><td>daily return</td><td>0.0</td></tr><tr><td>daily return (clean)</td><td>0.0</td></tr><tr><td>date</td><td>2022-10-12</td></tr><tr><td>date (clean)</td><td>2022-10-12</td></tr><tr><td>drawdown</td><td>-0.08601</td></tr><tr><td>drawdown (clean)</td><td>-0.08183</td></tr><tr><td>er_cdx_ig_long</td><td>0.0</td></tr><tr><td>er_cdx_ig_short</td><td>0.0</td></tr><tr><td>er_itraxx_main_long</td><td>0</td></tr><tr><td>er_itraxx_main_short</td><td>0.0</td></tr><tr><td>er_itraxx_xover_long</td><td>0</td></tr><tr><td>er_itraxx_xover_short</td><td>0.0</td></tr><tr><td>hyg</td><td>0.0</td></tr><tr><td>ieac</td><td>0</td></tr><tr><td>ihyg</td><td>0</td></tr><tr><td>itraxx_main_generic</td><td>0.0</td></tr><tr><td>itraxx_xover_generic</td><td>0.0</td></tr><tr><td>lqd</td><td>0.0</td></tr><tr><td>portfolio value</td><td>1.00546</td></tr><tr><td>portfolio value (clean)</td><td>0.99534</td></tr><tr><td>sharpe</td><td>-0.16019</td></tr><tr><td>sharpe (clean)</td><td>-0.25959</td></tr><tr><td>spx</td><td>0.0</td></tr><tr><td>sx5e</td><td>0</td></tr><tr><td>transaction costs (clean)</td><td>0.0</td></tr><tr><td>vix</td><td>0.0</td></tr></table><br/></div></div>"
            ]
          },
          "metadata": {}
        },
        {
          "output_type": "display_data",
          "data": {
            "text/plain": [
              "<IPython.core.display.HTML object>"
            ],
            "text/html": [
              "Synced <strong style=\"color:#cdcd00\">PCA_Strategy_no_pca_SD_eur</strong>: <a href=\"https://wandb.ai/cmf-credit-derivatives/Final_v1-2/runs/1w3l3sjr\" target=\"_blank\">https://wandb.ai/cmf-credit-derivatives/Final_v1-2/runs/1w3l3sjr</a><br/>Synced 5 W&B file(s), 0 media file(s), 0 artifact file(s) and 0 other file(s)"
            ]
          },
          "metadata": {}
        },
        {
          "output_type": "display_data",
          "data": {
            "text/plain": [
              "<IPython.core.display.HTML object>"
            ],
            "text/html": [
              "Find logs at: <code>./wandb/run-20221204_193018-1w3l3sjr/logs</code>"
            ]
          },
          "metadata": {}
        },
        {
          "output_type": "stream",
          "name": "stdout",
          "text": [
            "For project \"Final\" the train_test_split_time is set at 2019-01-02 and transaction costs are set at 0.5%. If you wish to set another date or costs, use \"Test\" project\n"
          ]
        },
        {
          "output_type": "display_data",
          "data": {
            "text/plain": [
              "<IPython.core.display.HTML object>"
            ],
            "text/html": [
              "Tracking run with wandb version 0.13.5"
            ]
          },
          "metadata": {}
        },
        {
          "output_type": "display_data",
          "data": {
            "text/plain": [
              "<IPython.core.display.HTML object>"
            ],
            "text/html": [
              "Run data is saved locally in <code>/content/CreditDerivativesSimulator/wandb/run-20221204_193059-p0m0p2eu</code>"
            ]
          },
          "metadata": {}
        },
        {
          "output_type": "display_data",
          "data": {
            "text/plain": [
              "<IPython.core.display.HTML object>"
            ],
            "text/html": [
              "Syncing run <strong><a href=\"https://wandb.ai/cmf-credit-derivatives/Final_v1-2/runs/p0m0p2eu\" target=\"_blank\">PCA_Strategy_no_pca_ED_usd</a></strong> to <a href=\"https://wandb.ai/cmf-credit-derivatives/Final_v1-2\" target=\"_blank\">Weights & Biases</a> (<a href=\"https://wandb.me/run\" target=\"_blank\">docs</a>)<br/>"
            ]
          },
          "metadata": {}
        },
        {
          "output_type": "stream",
          "name": "stderr",
          "text": [
            "100%|██████████| 957/957 [01:14<00:00, 12.80it/s]"
          ]
        },
        {
          "output_type": "stream",
          "name": "stdout",
          "text": [
            "\n",
            "Final value of portfolio 0.1019764513998263\n",
            "Logging completed!\n"
          ]
        },
        {
          "output_type": "stream",
          "name": "stderr",
          "text": [
            "\n"
          ]
        },
        {
          "output_type": "display_data",
          "data": {
            "text/plain": [
              "<IPython.core.display.HTML object>"
            ],
            "text/html": [
              "Waiting for W&B process to finish... <strong style=\"color:green\">(success).</strong>"
            ]
          },
          "metadata": {}
        },
        {
          "output_type": "display_data",
          "data": {
            "text/plain": [
              "VBox(children=(Label(value='0.001 MB of 0.001 MB uploaded (0.000 MB deduped)\\r'), FloatProgress(value=1.0, max…"
            ],
            "application/vnd.jupyter.widget-view+json": {
              "version_major": 2,
              "version_minor": 0,
              "model_id": "ec5cdbe09f0b43f89f3f4aa1e1d1b06d"
            }
          },
          "metadata": {}
        },
        {
          "output_type": "display_data",
          "data": {
            "text/plain": [
              "<IPython.core.display.HTML object>"
            ],
            "text/html": [
              "<style>\n",
              "    table.wandb td:nth-child(1) { padding: 0 10px; text-align: left ; width: auto;} td:nth-child(2) {text-align: left ; width: 100%}\n",
              "    .wandb-row { display: flex; flex-direction: row; flex-wrap: wrap; justify-content: flex-start; width: 100% }\n",
              "    .wandb-col { display: flex; flex-direction: column; flex-basis: 100%; flex: 1; padding: 10px; }\n",
              "    </style>\n",
              "<div class=\"wandb-row\"><div class=\"wandb-col\"><h3>Run history:</h3><br/><table class=\"wandb\"><tr><td>1Y drawdown</td><td>██▆▆▅▅▃▂▂▂▂▂▂▁▂▂▂▄▄▄▄▄▅▆▆▄▄▄▄▄▄▂▂▂▂▂▂▃▃▃</td></tr><tr><td>1Y drawdown (clean)</td><td>██▆▆▅▅▃▂▂▂▂▂▂▁▂▂▂▄▄▄▄▄▅▆▆▄▄▄▄▄▄▂▂▂▂▂▂▃▃▃</td></tr><tr><td>1Y return</td><td>▁▇▆█▃▄▃▂▂▂▃▂▂▂▃▂▂▄▄▄▄▄▄▅▄▄▄▃▃▃▃▃▃▂▃▃▄▃▄▃</td></tr><tr><td>1Y return (clean)</td><td>▁▇▆█▃▄▃▂▂▂▃▂▂▂▃▂▂▄▄▄▄▄▄▅▄▄▄▃▃▃▃▃▃▂▃▃▄▃▄▃</td></tr><tr><td>1Y sharpe</td><td>▁█▇█▆▇▆▆▆▆▆▆▆▅▆▆▆▆▆▆▆▆▆▇▆▆▆▆▆▆▆▆▆▅▆▆▆▆▆▆</td></tr><tr><td>1Y sharpe (clean)</td><td>▁█▇█▆▇▆▆▆▆▆▆▆▆▆▆▆▆▆▆▆▆▆▇▆▆▆▆▆▆▆▆▆▅▆▆▆▆▆▆</td></tr><tr><td>accumulated transaction costs (clean)</td><td>▁▂▃▄▄▄▅▅▆▆▆▆▇▇▇▇▇▇▇▇▇▇▇▇▇███████████████</td></tr><tr><td>annualised return</td><td>▁▇▆█▃▄▃▂▂▂▃▂▃▃▃▃▃▃▃▃▃▃▃▃▃▃▃▃▃▃▃▃▃▃▃▃▃▃▃▃</td></tr><tr><td>annualised return (clean)</td><td>▁▇▆█▃▄▃▂▂▂▃▂▃▃▃▃▃▃▃▃▃▃▃▃▃▃▃▃▃▃▃▃▃▃▃▃▃▃▃▃</td></tr><tr><td>cdx_ig_generic</td><td>▁▁▁▁▁▁▁▁▁▁▁▁▁▁▁▁▁▁▁▁▁▁▁▁▁▁▁▁▁▁▁▁▁▁▁▁▁▁▁▁</td></tr><tr><td>daily return</td><td>▇▆▆▆▆▅▅▆▆▆▆▁▆▇▇▆▅▆▆▆▆▇▆▇▆▇▆▆▆▆▆▆█▄▆▅█▆▆▅</td></tr><tr><td>daily return (clean)</td><td>▇▆▆▆▆▅▅▆▆▆▆▁▆▇▇▆▅▆▆▆▆▇▆▇▆▇▆▆▆▆▆▆█▄▆▅█▆▆▅</td></tr><tr><td>drawdown</td><td>██▇▇▅▅▄▄▄▃▃▃▃▂▂▂▂▂▂▂▂▂▂▂▂▂▂▂▂▂▂▁▁▁▁▁▁▁▁▁</td></tr><tr><td>drawdown (clean)</td><td>██▇▇▅▅▄▄▄▃▃▃▃▂▂▂▂▂▂▂▂▂▂▂▂▂▂▂▂▂▂▁▁▁▁▁▁▁▁▁</td></tr><tr><td>er_cdx_ig_long</td><td>▄▄████▄▁▁▁▁▁██▄▁██████▄▄▄▄▄▄▄▄▄▄▄███████</td></tr><tr><td>er_cdx_ig_short</td><td>▁▁▁▁▁▁▁▁▁▁▁▁▁▁▁▁▁▁▁▁▁▁▁▁▁▁▁▁▁▁▁▁▁▁▁▁▁▁▁▁</td></tr><tr><td>er_itraxx_main_long</td><td>▁▁▁▁▁▁▁▁▁▁▁▁▁▁▁▁▁▁▁▁▁▁▁▁▁▁▁▁▁▁▁▁▁▁▁▁▁▁▁▁</td></tr><tr><td>er_itraxx_main_short</td><td>▁▁▁▁▁▁▁▁▁▁▁▁▁▁▁▁▁▁▁▁▁▁▁▁▁▁▁▁▁▁▁▁▁▁▁▁▁▁▁▁</td></tr><tr><td>er_itraxx_xover_long</td><td>▁▁▁▁▁▁▁▁▁▁▁▁▁▁▁▁▁▁▁▁▁▁▁▁▁▁▁▁▁▁▁▁▁▁▁▁▁▁▁▁</td></tr><tr><td>er_itraxx_xover_short</td><td>▁▁▁▁▁▁▁▁▁▁▁▁▁▁▁▁▁▁▁▁▁▁▁▁▁▁▁▁▁▁▁▁▁▁▁▁▁▁▁▁</td></tr><tr><td>hyg</td><td>▄▄███▄▄▄▄▄▄▄▄█▁▁▄▄▄▁▁▁███▁▁▁▁▄▄▄▄▄██▁▁▁█</td></tr><tr><td>ieac</td><td>▁▁▁▁▁▁▁▁▁▁▁▁▁▁▁▁▁▁▁▁▁▁▁▁▁▁▁▁▁▁▁▁▁▁▁▁▁▁▁▁</td></tr><tr><td>ihyg</td><td>▁▁▁▁▁▁▁▁▁▁▁▁▁▁▁▁▁▁▁▁▁▁▁▁▁▁▁▁▁▁▁▁▁▁▁▁▁▁▁▁</td></tr><tr><td>itraxx_main_generic</td><td>▁▁▁▁▁▁▁▁▁▁▁▁▁▁▁▁▁▁▁▁▁▁▁▁▁▁▁▁▁▁▁▁▁▁▁▁▁▁▁▁</td></tr><tr><td>itraxx_xover_generic</td><td>▁▁▁▁▁▁▁▁▁▁▁▁▁▁▁▁▁▁▁▁▁▁▁▁▁▁▁▁▁▁▁▁▁▁▁▁▁▁▁▁</td></tr><tr><td>lqd</td><td>▄▄▄▄▄▄▄▄██▁▁▁▁▁▁████▄▄▄▄▄▄▁████▁██▄█████</td></tr><tr><td>portfolio value</td><td>▇▇▇█▅▆▄▄▃▃▃▃▃▃▃▃▃▃▃▂▃▃▂▂▂▂▂▂▂▂▂▁▁▁▁▁▁▁▁▁</td></tr><tr><td>portfolio value (clean)</td><td>▇▇▇█▅▆▄▄▃▃▃▃▃▃▃▃▃▃▃▂▃▃▂▂▂▂▂▂▂▂▂▁▁▁▁▁▁▁▁▁</td></tr><tr><td>sharpe</td><td>▁█▇█▆▇▆▆▆▆▆▆▆▆▆▆▆▆▆▆▆▆▆▆▆▆▆▆▆▆▆▆▆▆▆▆▆▆▆▆</td></tr><tr><td>sharpe (clean)</td><td>▁█▇█▆▇▆▆▆▆▆▆▆▆▆▆▆▆▆▆▆▆▆▆▆▆▆▆▆▆▆▆▆▆▆▆▆▆▆▆</td></tr><tr><td>spx</td><td>▇▂▃▄▂▂▂▅███▁▂▁▂▂▂▂▂▂▂▂▂█▃▃▃▃▅▄▄▂▂▂▆▆▆▄▄▃</td></tr><tr><td>sx5e</td><td>▁▁▁▁▁▁▁▁▁▁▁▁▁▁▁▁▁▁▁▁▁▁▁▁▁▁▁▁▁▁▁▁▁▁▁▁▁▁▁▁</td></tr><tr><td>transaction costs (clean)</td><td>▁▁▁▁▁▁▁▁▁▁▁▁▁▁▁▂▁▁▁▁▁▁▁▁█▁▁▁▁▁▁▁▁▁▁▁▁▄▁▁</td></tr><tr><td>vix</td><td>▇▂▂▅▁▁▁▅███▁▃▃▃▃▃▃▃▃▃▃▃▆▂▂▂▂▅▅▅▂▂▂▇▇▇▃▃▃</td></tr></table><br/></div><div class=\"wandb-col\"><h3>Run summary:</h3><br/><table class=\"wandb\"><tr><td>1Y drawdown</td><td>-0.54224</td></tr><tr><td>1Y drawdown (clean)</td><td>-0.54259</td></tr><tr><td>1Y return</td><td>-0.4517</td></tr><tr><td>1Y return (clean)</td><td>-0.45342</td></tr><tr><td>1Y sharpe</td><td>-0.56995</td></tr><tr><td>1Y sharpe (clean)</td><td>-0.57464</td></tr><tr><td>accumulated transaction costs (clean)</td><td>0.0089</td></tr><tr><td>annualised return</td><td>-0.45217</td></tr><tr><td>annualised return (clean)</td><td>-0.45473</td></tr><tr><td>cdx_ig_generic</td><td>0.0</td></tr><tr><td>daily return</td><td>0.00206</td></tr><tr><td>daily return (clean)</td><td>0.00206</td></tr><tr><td>date</td><td>2022-10-12</td></tr><tr><td>date (clean)</td><td>2022-10-12</td></tr><tr><td>drawdown</td><td>-0.93091</td></tr><tr><td>drawdown (clean)</td><td>-0.93178</td></tr><tr><td>er_cdx_ig_long</td><td>0.08968</td></tr><tr><td>er_cdx_ig_short</td><td>0.0</td></tr><tr><td>er_itraxx_main_long</td><td>0.0</td></tr><tr><td>er_itraxx_main_short</td><td>0.0</td></tr><tr><td>er_itraxx_xover_long</td><td>0.0</td></tr><tr><td>er_itraxx_xover_short</td><td>0.0</td></tr><tr><td>hyg</td><td>0.14099</td></tr><tr><td>ieac</td><td>0.0</td></tr><tr><td>ihyg</td><td>0.0</td></tr><tr><td>itraxx_main_generic</td><td>0.0</td></tr><tr><td>itraxx_xover_generic</td><td>0.0</td></tr><tr><td>lqd</td><td>0.08806</td></tr><tr><td>portfolio value</td><td>0.10198</td></tr><tr><td>portfolio value (clean)</td><td>0.10018</td></tr><tr><td>sharpe</td><td>-0.5794</td></tr><tr><td>sharpe (clean)</td><td>-0.58653</td></tr><tr><td>spx</td><td>-0.0106</td></tr><tr><td>sx5e</td><td>0.0</td></tr><tr><td>transaction costs (clean)</td><td>0.0</td></tr><tr><td>vix</td><td>-0.40816</td></tr></table><br/></div></div>"
            ]
          },
          "metadata": {}
        },
        {
          "output_type": "display_data",
          "data": {
            "text/plain": [
              "<IPython.core.display.HTML object>"
            ],
            "text/html": [
              "Synced <strong style=\"color:#cdcd00\">PCA_Strategy_no_pca_ED_usd</strong>: <a href=\"https://wandb.ai/cmf-credit-derivatives/Final_v1-2/runs/p0m0p2eu\" target=\"_blank\">https://wandb.ai/cmf-credit-derivatives/Final_v1-2/runs/p0m0p2eu</a><br/>Synced 5 W&B file(s), 0 media file(s), 0 artifact file(s) and 0 other file(s)"
            ]
          },
          "metadata": {}
        },
        {
          "output_type": "display_data",
          "data": {
            "text/plain": [
              "<IPython.core.display.HTML object>"
            ],
            "text/html": [
              "Find logs at: <code>./wandb/run-20221204_193059-p0m0p2eu/logs</code>"
            ]
          },
          "metadata": {}
        },
        {
          "output_type": "stream",
          "name": "stdout",
          "text": [
            "For project \"Final\" the train_test_split_time is set at 2019-01-02 and transaction costs are set at 0.5%. If you wish to set another date or costs, use \"Test\" project\n"
          ]
        },
        {
          "output_type": "display_data",
          "data": {
            "text/plain": [
              "<IPython.core.display.HTML object>"
            ],
            "text/html": [
              "Tracking run with wandb version 0.13.5"
            ]
          },
          "metadata": {}
        },
        {
          "output_type": "display_data",
          "data": {
            "text/plain": [
              "<IPython.core.display.HTML object>"
            ],
            "text/html": [
              "Run data is saved locally in <code>/content/CreditDerivativesSimulator/wandb/run-20221204_193220-14uo264h</code>"
            ]
          },
          "metadata": {}
        },
        {
          "output_type": "display_data",
          "data": {
            "text/plain": [
              "<IPython.core.display.HTML object>"
            ],
            "text/html": [
              "Syncing run <strong><a href=\"https://wandb.ai/cmf-credit-derivatives/Final_v1-2/runs/14uo264h\" target=\"_blank\">PCA_Strategy_no_pca_ED_eur</a></strong> to <a href=\"https://wandb.ai/cmf-credit-derivatives/Final_v1-2\" target=\"_blank\">Weights & Biases</a> (<a href=\"https://wandb.me/run\" target=\"_blank\">docs</a>)<br/>"
            ]
          },
          "metadata": {}
        },
        {
          "output_type": "stream",
          "name": "stderr",
          "text": [
            "100%|██████████| 957/957 [01:13<00:00, 12.96it/s]"
          ]
        },
        {
          "output_type": "stream",
          "name": "stdout",
          "text": [
            "\n",
            "Final value of portfolio 1.0016352816347258\n",
            "Logging completed!\n"
          ]
        },
        {
          "output_type": "stream",
          "name": "stderr",
          "text": [
            "\n"
          ]
        },
        {
          "output_type": "display_data",
          "data": {
            "text/plain": [
              "<IPython.core.display.HTML object>"
            ],
            "text/html": [
              "Waiting for W&B process to finish... <strong style=\"color:green\">(success).</strong>"
            ]
          },
          "metadata": {}
        },
        {
          "output_type": "display_data",
          "data": {
            "text/plain": [
              "<IPython.core.display.HTML object>"
            ],
            "text/html": [
              "<style>\n",
              "    table.wandb td:nth-child(1) { padding: 0 10px; text-align: left ; width: auto;} td:nth-child(2) {text-align: left ; width: 100%}\n",
              "    .wandb-row { display: flex; flex-direction: row; flex-wrap: wrap; justify-content: flex-start; width: 100% }\n",
              "    .wandb-col { display: flex; flex-direction: column; flex-basis: 100%; flex: 1; padding: 10px; }\n",
              "    </style>\n",
              "<div class=\"wandb-row\"><div class=\"wandb-col\"><h3>Run history:</h3><br/><table class=\"wandb\"><tr><td>1Y drawdown</td><td>████▇▇▇▇▇▇▇▇▆▁▁▁▁▁▁▁▁▁▁▃▅▆▆▆▆▆▇▇▇▅▅▅▅▅▄▄</td></tr><tr><td>1Y drawdown (clean)</td><td>████▇▇▇▇▇▇▇▇▆▁▁▁▁▁▁▁▁▁▁▃▅▆▆▆▆▆▇▇▇▅▅▅▅▅▄▄</td></tr><tr><td>1Y return</td><td>▃▃▃▄▂▄▄▄▃▃▄▄▂▂▂▂▃▃▃▃▄▃▃█▆▅▅▅▄▄▄▄▃▁▁▁▃▂▂▄</td></tr><tr><td>1Y return (clean)</td><td>▄▄▃▄▂▄▄▄▃▃▄▄▂▂▂▂▃▃▃▃▄▃▃█▆▅▅▅▄▄▄▄▃▁▁▁▃▂▂▄</td></tr><tr><td>1Y sharpe</td><td>  ▁▄▅▆▆▆▆▆▆▆▆▇▇▇▇▇▇▇▇▇▇███████▇▇▇▇▇▇▇▇▇▇</td></tr><tr><td>1Y sharpe (clean)</td><td>  ▁▃▅▆▆▆▆▆▆▆▆▇▇▇▇▇▇▇▇▇▇███████▇▇▇▇▇▇▇▇▇▇</td></tr><tr><td>accumulated transaction costs (clean)</td><td>▁▁▁▂▂▂▃▃▃▃▃▄▄▄▄▄▄▄▅▅▅▅▅▆▆▆▆▆▇▇▇▇▇▇▇▇▇███</td></tr><tr><td>annualised return</td><td>▆▆▆█▂▇▇▇▆▆▇▆▂▃▁▃▄▅▄▅▆▆▆▆▆▆▆▆▆▆▆▆▅▄▄▄▅▅▄▆</td></tr><tr><td>annualised return (clean)</td><td>▆▆▆█▂▇█▇▆▆█▇▂▃▁▃▅▅▄▅▇▇▇▇▇▇▇▇▇▆▇▇▆▄▄▄▆▅▅▆</td></tr><tr><td>cdx_ig_generic</td><td>▁▁▁▁▁▁▁▁▁▁▁▁▁▁▁▁▁▁▁▁▁▁▁▁▁▁▁▁▁▁▁▁▁▁▁▁▁▁▁▁</td></tr><tr><td>daily return</td><td>▃▃▃▃▃▃▃▃▃▃▃▃▁█▃▃▄▃▄▄▄▄▃▄▃▃▃▃▃▃▃▃▃▂▃▃▄▃▃▄</td></tr><tr><td>daily return (clean)</td><td>▃▃▃▃▃▃▃▃▃▃▃▃▁█▃▃▄▃▄▄▄▄▃▄▃▃▃▃▃▃▃▃▃▂▃▃▄▃▃▄</td></tr><tr><td>drawdown</td><td>████▇▇▇▇▇▇▇▇▆▁▁▁▁▁▁▁▁▁▁▁▁▁▁▁▁▁▁▁▁▁▁▁▁▁▁▁</td></tr><tr><td>drawdown (clean)</td><td>████▇▇▇▇▇▇▇▇▆▁▁▁▁▁▁▁▁▁▁▁▁▁▁▁▁▁▁▁▁▁▁▁▁▁▁▁</td></tr><tr><td>er_cdx_ig_long</td><td>▁▁▁▁▁▁▁▁▁▁▁▁▁▁▁▁▁▁▁▁▁▁▁▁▁▁▁▁▁▁▁▁▁▁▁▁▁▁▁▁</td></tr><tr><td>er_cdx_ig_short</td><td>▁▁▁▁▁▁▁▁▁▁▁▁▁▁▁▁▁▁▁▁▁▁▁▁▁▁▁▁▁▁▁▁▁▁▁▁▁▁▁▁</td></tr><tr><td>er_itraxx_main_long</td><td>▅▅▅██▁▁▁██▅██▅▅█▅▅███▅▅▅▅▅▅▅▅▅█████████▁</td></tr><tr><td>er_itraxx_main_short</td><td>▁▁▁▁▁▁▁▁▁▁▁▁▁▁▁▁▁▁▁▁▁▁▁▁▁▁▁▁▁▁▁▁▁▁▁▁▁▁▁▁</td></tr><tr><td>er_itraxx_xover_long</td><td>▅▅▅██▁▁███████▅▅█▅█████▅▁▁▁▁▁████████▁▁▁</td></tr><tr><td>er_itraxx_xover_short</td><td>▁▁▁▁▁▁▁▁▁▁▁▁▁▁▁▁▁▁▁▁▁▁▁▁▁▁▁▁▁▁▁▁▁▁▁▁▁▁▁▁</td></tr><tr><td>hyg</td><td>▁▁▁▁▁▁▁▁▁▁▁▁▁▁▁▁▁▁▁▁▁▁▁▁▁▁▁▁▁▁▁▁▁▁▁▁▁▁▁▁</td></tr><tr><td>ieac</td><td>▅▅▅███▁███▅▁▁▅▅▅▅▅▅▅▅███▁███████████▁▁▁▁</td></tr><tr><td>ihyg</td><td>▄▄▄█████████████████▁████▁▄▄▁█████▁▁▁▁▁█</td></tr><tr><td>itraxx_main_generic</td><td>▁▁▁▁▁▁▁▁▁▁▁▁▁▁▁▁▁▁▁▁▁▁▁▁▁▁▁▁▁▁▁▁▁▁▁▁▁▁▁▁</td></tr><tr><td>itraxx_xover_generic</td><td>▁▁▁▁▁▁▁▁▁▁▁▁▁▁▁▁▁▁▁▁▁▁▁▁▁▁▁▁▁▁▁▁▁▁▁▁▁▁▁▁</td></tr><tr><td>lqd</td><td>▁▁▁▁▁▁▁▁▁▁▁▁▁▁▁▁▁▁▁▁▁▁▁▁▁▁▁▁▁▁▁▁▁▁▁▁▁▁▁▁</td></tr><tr><td>portfolio value</td><td>▆▆▆▇▅▇▇▇▆▆▇▇▃▃▁▃▅▅▄▅▇▇▇▇█████▇██▆▁▂▂▅▃▃▇</td></tr><tr><td>portfolio value (clean)</td><td>▇▇▇▇▆▇█▇▇▇█▇▄▄▂▄▅▆▄▅▇▇██████▇▇██▆▁▂▂▅▃▃▇</td></tr><tr><td>sharpe</td><td>  ▁▄▆▇▇▇▇▇▇▇▇███████████████████████████</td></tr><tr><td>sharpe (clean)</td><td>  ▁▄▆▇▇▇▇▇▇▇▇███████████████████████████</td></tr><tr><td>spx</td><td>▁▁▁▁▁▁▁▁▁▁▁▁▁▁▁▁▁▁▁▁▁▁▁▁▁▁▁▁▁▁▁▁▁▁▁▁▁▁▁▁</td></tr><tr><td>sx5e</td><td>▅▅▅▁▁▆▇▂▁▁▂▂▂▂▄▃▂▄▂▂▅▂▂▄▅▇▆▆▆▃▃▃▃▃▅▅▅██▅</td></tr><tr><td>transaction costs (clean)</td><td>▁▁▁▁▁▁▁▁▁▁▁▁▁▁▁▅▁▁▁▁▁▁▁▁▁▁▁▁▁▁▁▁▁▁▁▁▁█▁▁</td></tr><tr><td>vix</td><td>▁▁▁▁▁▁▁▁▁▁▁▁▁▁▁▁▁▁▁▁▁▁▁▁▁▁▁▁▁▁▁▁▁▁▁▁▁▁▁▁</td></tr></table><br/></div><div class=\"wandb-col\"><h3>Run summary:</h3><br/><table class=\"wandb\"><tr><td>1Y drawdown</td><td>-0.01733</td></tr><tr><td>1Y drawdown (clean)</td><td>-0.01756</td></tr><tr><td>1Y return</td><td>-0.00096</td></tr><tr><td>1Y return (clean)</td><td>-0.00144</td></tr><tr><td>1Y sharpe</td><td>-0.51714</td></tr><tr><td>1Y sharpe (clean)</td><td>-0.55292</td></tr><tr><td>accumulated transaction costs (clean)</td><td>0.00323</td></tr><tr><td>annualised return</td><td>0.00043</td></tr><tr><td>annualised return (clean)</td><td>-0.00042</td></tr><tr><td>cdx_ig_generic</td><td>0.0</td></tr><tr><td>daily return</td><td>-0.00027</td></tr><tr><td>daily return (clean)</td><td>-0.00027</td></tr><tr><td>date</td><td>2022-10-12</td></tr><tr><td>date (clean)</td><td>2022-10-12</td></tr><tr><td>drawdown</td><td>-0.03264</td></tr><tr><td>drawdown (clean)</td><td>-0.032</td></tr><tr><td>er_cdx_ig_long</td><td>0.0</td></tr><tr><td>er_cdx_ig_short</td><td>0.0</td></tr><tr><td>er_itraxx_main_long</td><td>-0.08788</td></tr><tr><td>er_itraxx_main_short</td><td>0.0</td></tr><tr><td>er_itraxx_xover_long</td><td>-0.05072</td></tr><tr><td>er_itraxx_xover_short</td><td>0.0</td></tr><tr><td>hyg</td><td>0.0</td></tr><tr><td>ieac</td><td>-0.08198</td></tr><tr><td>ihyg</td><td>0.11689</td></tr><tr><td>itraxx_main_generic</td><td>0.0</td></tr><tr><td>itraxx_xover_generic</td><td>0.0</td></tr><tr><td>lqd</td><td>0.0</td></tr><tr><td>portfolio value</td><td>1.00164</td></tr><tr><td>portfolio value (clean)</td><td>0.9984</td></tr><tr><td>sharpe</td><td>-0.43235</td></tr><tr><td>sharpe (clean)</td><td>-0.49841</td></tr><tr><td>spx</td><td>0.0</td></tr><tr><td>sx5e</td><td>-0.0002</td></tr><tr><td>transaction costs (clean)</td><td>0.0</td></tr><tr><td>vix</td><td>0.0</td></tr></table><br/></div></div>"
            ]
          },
          "metadata": {}
        },
        {
          "output_type": "display_data",
          "data": {
            "text/plain": [
              "<IPython.core.display.HTML object>"
            ],
            "text/html": [
              "Synced <strong style=\"color:#cdcd00\">PCA_Strategy_no_pca_ED_eur</strong>: <a href=\"https://wandb.ai/cmf-credit-derivatives/Final_v1-2/runs/14uo264h\" target=\"_blank\">https://wandb.ai/cmf-credit-derivatives/Final_v1-2/runs/14uo264h</a><br/>Synced 5 W&B file(s), 0 media file(s), 0 artifact file(s) and 0 other file(s)"
            ]
          },
          "metadata": {}
        },
        {
          "output_type": "display_data",
          "data": {
            "text/plain": [
              "<IPython.core.display.HTML object>"
            ],
            "text/html": [
              "Find logs at: <code>./wandb/run-20221204_193220-14uo264h/logs</code>"
            ]
          },
          "metadata": {}
        }
      ],
      "source": [
        "# Create an instance of your strategy and of simulator\n",
        "\n",
        "use_pc = [True, False]\n",
        "stock_dec = [True, False]\n",
        "currencies = ['usd', 'eur']\n",
        "\n",
        "strategies = {}\n",
        "for use_pca, stock_decomposed, currency in itertools.product(use_pc, stock_dec, currencies):\n",
        "  name = f'PCA_Strategy_{\"pca\" if use_pca else \"no_pca\"}_{\"SD\" if stock_decomposed else \"ED\"}_{currency}'\n",
        "  strategies[name] = PCA_strategy(regression_period = 60, res_estimation_period = 60, \n",
        "                                  use_pca = use_pca, n_components=1, stock_decomposed = stock_decomposed, \n",
        "                                  currency = currency, scale_factor=10)\n",
        "\n",
        "simulators = {}\n",
        "for name in strategies:\n",
        "  # If you use wandb, you will need to past an API key from your wandb account\n",
        "  simulators[name] = Simulator(use_wandb=True, \n",
        "                  debug_mode=False, \n",
        "                  train_test_split_time='2019-01-02', # submit date in format 'yyyy-mm-dd'\n",
        "                  transaction_costs=0.0005, # Fraction of changes in portfolio that goes into transaction costs\n",
        "                  run_name=name,\n",
        "                  project_name='Final') # or 'Final'\n",
        "  simulators[name].simulate(strategy=strategies[name])\n",
        "  \n",
        "\n",
        "\n"
      ]
    }
  ],
  "metadata": {
    "colab": {
      "provenance": [],
      "include_colab_link": true
    },
    "kernelspec": {
      "display_name": "Python 3",
      "name": "python3"
    },
    "language_info": {
      "name": "python"
    },
    "widgets": {
      "application/vnd.jupyter.widget-state+json": {
        "9d2bfb0f6696497d997201b5973b44ff": {
          "model_module": "@jupyter-widgets/controls",
          "model_name": "VBoxModel",
          "model_module_version": "1.5.0",
          "state": {
            "_dom_classes": [],
            "_model_module": "@jupyter-widgets/controls",
            "_model_module_version": "1.5.0",
            "_model_name": "VBoxModel",
            "_view_count": null,
            "_view_module": "@jupyter-widgets/controls",
            "_view_module_version": "1.5.0",
            "_view_name": "VBoxView",
            "box_style": "",
            "children": [
              "IPY_MODEL_2d1a0a6b2f224f0bb4a7b55eec1d4723",
              "IPY_MODEL_0591b978e8aa4b81873b162f61a1e352"
            ],
            "layout": "IPY_MODEL_598f7df750754483b3bc46b7ad56538b"
          }
        },
        "2d1a0a6b2f224f0bb4a7b55eec1d4723": {
          "model_module": "@jupyter-widgets/controls",
          "model_name": "LabelModel",
          "model_module_version": "1.5.0",
          "state": {
            "_dom_classes": [],
            "_model_module": "@jupyter-widgets/controls",
            "_model_module_version": "1.5.0",
            "_model_name": "LabelModel",
            "_view_count": null,
            "_view_module": "@jupyter-widgets/controls",
            "_view_module_version": "1.5.0",
            "_view_name": "LabelView",
            "description": "",
            "description_tooltip": null,
            "layout": "IPY_MODEL_658faefdd8de436fb50d2fad2b9286fb",
            "placeholder": "​",
            "style": "IPY_MODEL_97a0056b80414e17a9875edd6171f06d",
            "value": "0.001 MB of 0.001 MB uploaded (0.000 MB deduped)\r"
          }
        },
        "0591b978e8aa4b81873b162f61a1e352": {
          "model_module": "@jupyter-widgets/controls",
          "model_name": "FloatProgressModel",
          "model_module_version": "1.5.0",
          "state": {
            "_dom_classes": [],
            "_model_module": "@jupyter-widgets/controls",
            "_model_module_version": "1.5.0",
            "_model_name": "FloatProgressModel",
            "_view_count": null,
            "_view_module": "@jupyter-widgets/controls",
            "_view_module_version": "1.5.0",
            "_view_name": "ProgressView",
            "bar_style": "",
            "description": "",
            "description_tooltip": null,
            "layout": "IPY_MODEL_681ac97813f84281a40efae62eae2927",
            "max": 1,
            "min": 0,
            "orientation": "horizontal",
            "style": "IPY_MODEL_bcd2e9bc5e9141ceac82ebe85a608fd6",
            "value": 0.9693757361601885
          }
        },
        "598f7df750754483b3bc46b7ad56538b": {
          "model_module": "@jupyter-widgets/base",
          "model_name": "LayoutModel",
          "model_module_version": "1.2.0",
          "state": {
            "_model_module": "@jupyter-widgets/base",
            "_model_module_version": "1.2.0",
            "_model_name": "LayoutModel",
            "_view_count": null,
            "_view_module": "@jupyter-widgets/base",
            "_view_module_version": "1.2.0",
            "_view_name": "LayoutView",
            "align_content": null,
            "align_items": null,
            "align_self": null,
            "border": null,
            "bottom": null,
            "display": null,
            "flex": null,
            "flex_flow": null,
            "grid_area": null,
            "grid_auto_columns": null,
            "grid_auto_flow": null,
            "grid_auto_rows": null,
            "grid_column": null,
            "grid_gap": null,
            "grid_row": null,
            "grid_template_areas": null,
            "grid_template_columns": null,
            "grid_template_rows": null,
            "height": null,
            "justify_content": null,
            "justify_items": null,
            "left": null,
            "margin": null,
            "max_height": null,
            "max_width": null,
            "min_height": null,
            "min_width": null,
            "object_fit": null,
            "object_position": null,
            "order": null,
            "overflow": null,
            "overflow_x": null,
            "overflow_y": null,
            "padding": null,
            "right": null,
            "top": null,
            "visibility": null,
            "width": null
          }
        },
        "658faefdd8de436fb50d2fad2b9286fb": {
          "model_module": "@jupyter-widgets/base",
          "model_name": "LayoutModel",
          "model_module_version": "1.2.0",
          "state": {
            "_model_module": "@jupyter-widgets/base",
            "_model_module_version": "1.2.0",
            "_model_name": "LayoutModel",
            "_view_count": null,
            "_view_module": "@jupyter-widgets/base",
            "_view_module_version": "1.2.0",
            "_view_name": "LayoutView",
            "align_content": null,
            "align_items": null,
            "align_self": null,
            "border": null,
            "bottom": null,
            "display": null,
            "flex": null,
            "flex_flow": null,
            "grid_area": null,
            "grid_auto_columns": null,
            "grid_auto_flow": null,
            "grid_auto_rows": null,
            "grid_column": null,
            "grid_gap": null,
            "grid_row": null,
            "grid_template_areas": null,
            "grid_template_columns": null,
            "grid_template_rows": null,
            "height": null,
            "justify_content": null,
            "justify_items": null,
            "left": null,
            "margin": null,
            "max_height": null,
            "max_width": null,
            "min_height": null,
            "min_width": null,
            "object_fit": null,
            "object_position": null,
            "order": null,
            "overflow": null,
            "overflow_x": null,
            "overflow_y": null,
            "padding": null,
            "right": null,
            "top": null,
            "visibility": null,
            "width": null
          }
        },
        "97a0056b80414e17a9875edd6171f06d": {
          "model_module": "@jupyter-widgets/controls",
          "model_name": "DescriptionStyleModel",
          "model_module_version": "1.5.0",
          "state": {
            "_model_module": "@jupyter-widgets/controls",
            "_model_module_version": "1.5.0",
            "_model_name": "DescriptionStyleModel",
            "_view_count": null,
            "_view_module": "@jupyter-widgets/base",
            "_view_module_version": "1.2.0",
            "_view_name": "StyleView",
            "description_width": ""
          }
        },
        "681ac97813f84281a40efae62eae2927": {
          "model_module": "@jupyter-widgets/base",
          "model_name": "LayoutModel",
          "model_module_version": "1.2.0",
          "state": {
            "_model_module": "@jupyter-widgets/base",
            "_model_module_version": "1.2.0",
            "_model_name": "LayoutModel",
            "_view_count": null,
            "_view_module": "@jupyter-widgets/base",
            "_view_module_version": "1.2.0",
            "_view_name": "LayoutView",
            "align_content": null,
            "align_items": null,
            "align_self": null,
            "border": null,
            "bottom": null,
            "display": null,
            "flex": null,
            "flex_flow": null,
            "grid_area": null,
            "grid_auto_columns": null,
            "grid_auto_flow": null,
            "grid_auto_rows": null,
            "grid_column": null,
            "grid_gap": null,
            "grid_row": null,
            "grid_template_areas": null,
            "grid_template_columns": null,
            "grid_template_rows": null,
            "height": null,
            "justify_content": null,
            "justify_items": null,
            "left": null,
            "margin": null,
            "max_height": null,
            "max_width": null,
            "min_height": null,
            "min_width": null,
            "object_fit": null,
            "object_position": null,
            "order": null,
            "overflow": null,
            "overflow_x": null,
            "overflow_y": null,
            "padding": null,
            "right": null,
            "top": null,
            "visibility": null,
            "width": null
          }
        },
        "bcd2e9bc5e9141ceac82ebe85a608fd6": {
          "model_module": "@jupyter-widgets/controls",
          "model_name": "ProgressStyleModel",
          "model_module_version": "1.5.0",
          "state": {
            "_model_module": "@jupyter-widgets/controls",
            "_model_module_version": "1.5.0",
            "_model_name": "ProgressStyleModel",
            "_view_count": null,
            "_view_module": "@jupyter-widgets/base",
            "_view_module_version": "1.2.0",
            "_view_name": "StyleView",
            "bar_color": null,
            "description_width": ""
          }
        },
        "1af6857bdd27453ea387c4e6275416cf": {
          "model_module": "@jupyter-widgets/controls",
          "model_name": "VBoxModel",
          "model_module_version": "1.5.0",
          "state": {
            "_dom_classes": [],
            "_model_module": "@jupyter-widgets/controls",
            "_model_module_version": "1.5.0",
            "_model_name": "VBoxModel",
            "_view_count": null,
            "_view_module": "@jupyter-widgets/controls",
            "_view_module_version": "1.5.0",
            "_view_name": "VBoxView",
            "box_style": "",
            "children": [
              "IPY_MODEL_b296aef644de4dedadc04ac7c67eb93f",
              "IPY_MODEL_559a9e4cec49403eb421a6aa2d3fe5df"
            ],
            "layout": "IPY_MODEL_6c41f553e2cf4d01bf02b9c9158c4510"
          }
        },
        "b296aef644de4dedadc04ac7c67eb93f": {
          "model_module": "@jupyter-widgets/controls",
          "model_name": "LabelModel",
          "model_module_version": "1.5.0",
          "state": {
            "_dom_classes": [],
            "_model_module": "@jupyter-widgets/controls",
            "_model_module_version": "1.5.0",
            "_model_name": "LabelModel",
            "_view_count": null,
            "_view_module": "@jupyter-widgets/controls",
            "_view_module_version": "1.5.0",
            "_view_name": "LabelView",
            "description": "",
            "description_tooltip": null,
            "layout": "IPY_MODEL_e6479d7fe2ab4a4f90d9d3320b10d92d",
            "placeholder": "​",
            "style": "IPY_MODEL_4a6eae92014c4834b71580ef8a407a79",
            "value": "0.001 MB of 0.001 MB uploaded (0.000 MB deduped)\r"
          }
        },
        "559a9e4cec49403eb421a6aa2d3fe5df": {
          "model_module": "@jupyter-widgets/controls",
          "model_name": "FloatProgressModel",
          "model_module_version": "1.5.0",
          "state": {
            "_dom_classes": [],
            "_model_module": "@jupyter-widgets/controls",
            "_model_module_version": "1.5.0",
            "_model_name": "FloatProgressModel",
            "_view_count": null,
            "_view_module": "@jupyter-widgets/controls",
            "_view_module_version": "1.5.0",
            "_view_name": "ProgressView",
            "bar_style": "",
            "description": "",
            "description_tooltip": null,
            "layout": "IPY_MODEL_5616b614e2a34e399b5d17c8087af422",
            "max": 1,
            "min": 0,
            "orientation": "horizontal",
            "style": "IPY_MODEL_caef7ff6b02441d0acef8326d825d920",
            "value": 1
          }
        },
        "6c41f553e2cf4d01bf02b9c9158c4510": {
          "model_module": "@jupyter-widgets/base",
          "model_name": "LayoutModel",
          "model_module_version": "1.2.0",
          "state": {
            "_model_module": "@jupyter-widgets/base",
            "_model_module_version": "1.2.0",
            "_model_name": "LayoutModel",
            "_view_count": null,
            "_view_module": "@jupyter-widgets/base",
            "_view_module_version": "1.2.0",
            "_view_name": "LayoutView",
            "align_content": null,
            "align_items": null,
            "align_self": null,
            "border": null,
            "bottom": null,
            "display": null,
            "flex": null,
            "flex_flow": null,
            "grid_area": null,
            "grid_auto_columns": null,
            "grid_auto_flow": null,
            "grid_auto_rows": null,
            "grid_column": null,
            "grid_gap": null,
            "grid_row": null,
            "grid_template_areas": null,
            "grid_template_columns": null,
            "grid_template_rows": null,
            "height": null,
            "justify_content": null,
            "justify_items": null,
            "left": null,
            "margin": null,
            "max_height": null,
            "max_width": null,
            "min_height": null,
            "min_width": null,
            "object_fit": null,
            "object_position": null,
            "order": null,
            "overflow": null,
            "overflow_x": null,
            "overflow_y": null,
            "padding": null,
            "right": null,
            "top": null,
            "visibility": null,
            "width": null
          }
        },
        "e6479d7fe2ab4a4f90d9d3320b10d92d": {
          "model_module": "@jupyter-widgets/base",
          "model_name": "LayoutModel",
          "model_module_version": "1.2.0",
          "state": {
            "_model_module": "@jupyter-widgets/base",
            "_model_module_version": "1.2.0",
            "_model_name": "LayoutModel",
            "_view_count": null,
            "_view_module": "@jupyter-widgets/base",
            "_view_module_version": "1.2.0",
            "_view_name": "LayoutView",
            "align_content": null,
            "align_items": null,
            "align_self": null,
            "border": null,
            "bottom": null,
            "display": null,
            "flex": null,
            "flex_flow": null,
            "grid_area": null,
            "grid_auto_columns": null,
            "grid_auto_flow": null,
            "grid_auto_rows": null,
            "grid_column": null,
            "grid_gap": null,
            "grid_row": null,
            "grid_template_areas": null,
            "grid_template_columns": null,
            "grid_template_rows": null,
            "height": null,
            "justify_content": null,
            "justify_items": null,
            "left": null,
            "margin": null,
            "max_height": null,
            "max_width": null,
            "min_height": null,
            "min_width": null,
            "object_fit": null,
            "object_position": null,
            "order": null,
            "overflow": null,
            "overflow_x": null,
            "overflow_y": null,
            "padding": null,
            "right": null,
            "top": null,
            "visibility": null,
            "width": null
          }
        },
        "4a6eae92014c4834b71580ef8a407a79": {
          "model_module": "@jupyter-widgets/controls",
          "model_name": "DescriptionStyleModel",
          "model_module_version": "1.5.0",
          "state": {
            "_model_module": "@jupyter-widgets/controls",
            "_model_module_version": "1.5.0",
            "_model_name": "DescriptionStyleModel",
            "_view_count": null,
            "_view_module": "@jupyter-widgets/base",
            "_view_module_version": "1.2.0",
            "_view_name": "StyleView",
            "description_width": ""
          }
        },
        "5616b614e2a34e399b5d17c8087af422": {
          "model_module": "@jupyter-widgets/base",
          "model_name": "LayoutModel",
          "model_module_version": "1.2.0",
          "state": {
            "_model_module": "@jupyter-widgets/base",
            "_model_module_version": "1.2.0",
            "_model_name": "LayoutModel",
            "_view_count": null,
            "_view_module": "@jupyter-widgets/base",
            "_view_module_version": "1.2.0",
            "_view_name": "LayoutView",
            "align_content": null,
            "align_items": null,
            "align_self": null,
            "border": null,
            "bottom": null,
            "display": null,
            "flex": null,
            "flex_flow": null,
            "grid_area": null,
            "grid_auto_columns": null,
            "grid_auto_flow": null,
            "grid_auto_rows": null,
            "grid_column": null,
            "grid_gap": null,
            "grid_row": null,
            "grid_template_areas": null,
            "grid_template_columns": null,
            "grid_template_rows": null,
            "height": null,
            "justify_content": null,
            "justify_items": null,
            "left": null,
            "margin": null,
            "max_height": null,
            "max_width": null,
            "min_height": null,
            "min_width": null,
            "object_fit": null,
            "object_position": null,
            "order": null,
            "overflow": null,
            "overflow_x": null,
            "overflow_y": null,
            "padding": null,
            "right": null,
            "top": null,
            "visibility": null,
            "width": null
          }
        },
        "caef7ff6b02441d0acef8326d825d920": {
          "model_module": "@jupyter-widgets/controls",
          "model_name": "ProgressStyleModel",
          "model_module_version": "1.5.0",
          "state": {
            "_model_module": "@jupyter-widgets/controls",
            "_model_module_version": "1.5.0",
            "_model_name": "ProgressStyleModel",
            "_view_count": null,
            "_view_module": "@jupyter-widgets/base",
            "_view_module_version": "1.2.0",
            "_view_name": "StyleView",
            "bar_color": null,
            "description_width": ""
          }
        },
        "ec47915c119048ffbd195b91265cf779": {
          "model_module": "@jupyter-widgets/controls",
          "model_name": "VBoxModel",
          "model_module_version": "1.5.0",
          "state": {
            "_dom_classes": [],
            "_model_module": "@jupyter-widgets/controls",
            "_model_module_version": "1.5.0",
            "_model_name": "VBoxModel",
            "_view_count": null,
            "_view_module": "@jupyter-widgets/controls",
            "_view_module_version": "1.5.0",
            "_view_name": "VBoxView",
            "box_style": "",
            "children": [
              "IPY_MODEL_a224374a38b84662a942ff60a8c3392e",
              "IPY_MODEL_83f87f97daa74210b807cd07f7d2d358"
            ],
            "layout": "IPY_MODEL_b7b3a98ac9bd4110b60da6dbb6ad0d32"
          }
        },
        "a224374a38b84662a942ff60a8c3392e": {
          "model_module": "@jupyter-widgets/controls",
          "model_name": "LabelModel",
          "model_module_version": "1.5.0",
          "state": {
            "_dom_classes": [],
            "_model_module": "@jupyter-widgets/controls",
            "_model_module_version": "1.5.0",
            "_model_name": "LabelModel",
            "_view_count": null,
            "_view_module": "@jupyter-widgets/controls",
            "_view_module_version": "1.5.0",
            "_view_name": "LabelView",
            "description": "",
            "description_tooltip": null,
            "layout": "IPY_MODEL_a435e6dd964341e19651a8cbdb11ec86",
            "placeholder": "​",
            "style": "IPY_MODEL_41b1436de0154c49b4f815a7d3257910",
            "value": "0.001 MB of 0.010 MB uploaded (0.000 MB deduped)\r"
          }
        },
        "83f87f97daa74210b807cd07f7d2d358": {
          "model_module": "@jupyter-widgets/controls",
          "model_name": "FloatProgressModel",
          "model_module_version": "1.5.0",
          "state": {
            "_dom_classes": [],
            "_model_module": "@jupyter-widgets/controls",
            "_model_module_version": "1.5.0",
            "_model_name": "FloatProgressModel",
            "_view_count": null,
            "_view_module": "@jupyter-widgets/controls",
            "_view_module_version": "1.5.0",
            "_view_name": "ProgressView",
            "bar_style": "",
            "description": "",
            "description_tooltip": null,
            "layout": "IPY_MODEL_236c1af8beeb495389b3dcd939b2e181",
            "max": 1,
            "min": 0,
            "orientation": "horizontal",
            "style": "IPY_MODEL_5d7c295a0a254a41ab623add5a0cbd80",
            "value": 0.08105180224542052
          }
        },
        "b7b3a98ac9bd4110b60da6dbb6ad0d32": {
          "model_module": "@jupyter-widgets/base",
          "model_name": "LayoutModel",
          "model_module_version": "1.2.0",
          "state": {
            "_model_module": "@jupyter-widgets/base",
            "_model_module_version": "1.2.0",
            "_model_name": "LayoutModel",
            "_view_count": null,
            "_view_module": "@jupyter-widgets/base",
            "_view_module_version": "1.2.0",
            "_view_name": "LayoutView",
            "align_content": null,
            "align_items": null,
            "align_self": null,
            "border": null,
            "bottom": null,
            "display": null,
            "flex": null,
            "flex_flow": null,
            "grid_area": null,
            "grid_auto_columns": null,
            "grid_auto_flow": null,
            "grid_auto_rows": null,
            "grid_column": null,
            "grid_gap": null,
            "grid_row": null,
            "grid_template_areas": null,
            "grid_template_columns": null,
            "grid_template_rows": null,
            "height": null,
            "justify_content": null,
            "justify_items": null,
            "left": null,
            "margin": null,
            "max_height": null,
            "max_width": null,
            "min_height": null,
            "min_width": null,
            "object_fit": null,
            "object_position": null,
            "order": null,
            "overflow": null,
            "overflow_x": null,
            "overflow_y": null,
            "padding": null,
            "right": null,
            "top": null,
            "visibility": null,
            "width": null
          }
        },
        "a435e6dd964341e19651a8cbdb11ec86": {
          "model_module": "@jupyter-widgets/base",
          "model_name": "LayoutModel",
          "model_module_version": "1.2.0",
          "state": {
            "_model_module": "@jupyter-widgets/base",
            "_model_module_version": "1.2.0",
            "_model_name": "LayoutModel",
            "_view_count": null,
            "_view_module": "@jupyter-widgets/base",
            "_view_module_version": "1.2.0",
            "_view_name": "LayoutView",
            "align_content": null,
            "align_items": null,
            "align_self": null,
            "border": null,
            "bottom": null,
            "display": null,
            "flex": null,
            "flex_flow": null,
            "grid_area": null,
            "grid_auto_columns": null,
            "grid_auto_flow": null,
            "grid_auto_rows": null,
            "grid_column": null,
            "grid_gap": null,
            "grid_row": null,
            "grid_template_areas": null,
            "grid_template_columns": null,
            "grid_template_rows": null,
            "height": null,
            "justify_content": null,
            "justify_items": null,
            "left": null,
            "margin": null,
            "max_height": null,
            "max_width": null,
            "min_height": null,
            "min_width": null,
            "object_fit": null,
            "object_position": null,
            "order": null,
            "overflow": null,
            "overflow_x": null,
            "overflow_y": null,
            "padding": null,
            "right": null,
            "top": null,
            "visibility": null,
            "width": null
          }
        },
        "41b1436de0154c49b4f815a7d3257910": {
          "model_module": "@jupyter-widgets/controls",
          "model_name": "DescriptionStyleModel",
          "model_module_version": "1.5.0",
          "state": {
            "_model_module": "@jupyter-widgets/controls",
            "_model_module_version": "1.5.0",
            "_model_name": "DescriptionStyleModel",
            "_view_count": null,
            "_view_module": "@jupyter-widgets/base",
            "_view_module_version": "1.2.0",
            "_view_name": "StyleView",
            "description_width": ""
          }
        },
        "236c1af8beeb495389b3dcd939b2e181": {
          "model_module": "@jupyter-widgets/base",
          "model_name": "LayoutModel",
          "model_module_version": "1.2.0",
          "state": {
            "_model_module": "@jupyter-widgets/base",
            "_model_module_version": "1.2.0",
            "_model_name": "LayoutModel",
            "_view_count": null,
            "_view_module": "@jupyter-widgets/base",
            "_view_module_version": "1.2.0",
            "_view_name": "LayoutView",
            "align_content": null,
            "align_items": null,
            "align_self": null,
            "border": null,
            "bottom": null,
            "display": null,
            "flex": null,
            "flex_flow": null,
            "grid_area": null,
            "grid_auto_columns": null,
            "grid_auto_flow": null,
            "grid_auto_rows": null,
            "grid_column": null,
            "grid_gap": null,
            "grid_row": null,
            "grid_template_areas": null,
            "grid_template_columns": null,
            "grid_template_rows": null,
            "height": null,
            "justify_content": null,
            "justify_items": null,
            "left": null,
            "margin": null,
            "max_height": null,
            "max_width": null,
            "min_height": null,
            "min_width": null,
            "object_fit": null,
            "object_position": null,
            "order": null,
            "overflow": null,
            "overflow_x": null,
            "overflow_y": null,
            "padding": null,
            "right": null,
            "top": null,
            "visibility": null,
            "width": null
          }
        },
        "5d7c295a0a254a41ab623add5a0cbd80": {
          "model_module": "@jupyter-widgets/controls",
          "model_name": "ProgressStyleModel",
          "model_module_version": "1.5.0",
          "state": {
            "_model_module": "@jupyter-widgets/controls",
            "_model_module_version": "1.5.0",
            "_model_name": "ProgressStyleModel",
            "_view_count": null,
            "_view_module": "@jupyter-widgets/base",
            "_view_module_version": "1.2.0",
            "_view_name": "StyleView",
            "bar_color": null,
            "description_width": ""
          }
        },
        "855e41d3c2424e50a2ec17847fa2dd8e": {
          "model_module": "@jupyter-widgets/controls",
          "model_name": "VBoxModel",
          "model_module_version": "1.5.0",
          "state": {
            "_dom_classes": [],
            "_model_module": "@jupyter-widgets/controls",
            "_model_module_version": "1.5.0",
            "_model_name": "VBoxModel",
            "_view_count": null,
            "_view_module": "@jupyter-widgets/controls",
            "_view_module_version": "1.5.0",
            "_view_name": "VBoxView",
            "box_style": "",
            "children": [
              "IPY_MODEL_7f14fd47ad9e47ce83fb0df41aa03b90",
              "IPY_MODEL_365aba158c2c4a97849fd8d154979f1e"
            ],
            "layout": "IPY_MODEL_41ffa8deb9d64491be4d9f13fc80e025"
          }
        },
        "7f14fd47ad9e47ce83fb0df41aa03b90": {
          "model_module": "@jupyter-widgets/controls",
          "model_name": "LabelModel",
          "model_module_version": "1.5.0",
          "state": {
            "_dom_classes": [],
            "_model_module": "@jupyter-widgets/controls",
            "_model_module_version": "1.5.0",
            "_model_name": "LabelModel",
            "_view_count": null,
            "_view_module": "@jupyter-widgets/controls",
            "_view_module_version": "1.5.0",
            "_view_name": "LabelView",
            "description": "",
            "description_tooltip": null,
            "layout": "IPY_MODEL_91050da017f340b4a7ab2b6b62f083b0",
            "placeholder": "​",
            "style": "IPY_MODEL_017885c77a2c400ab9d778521521a0b0",
            "value": "0.001 MB of 0.001 MB uploaded (0.000 MB deduped)\r"
          }
        },
        "365aba158c2c4a97849fd8d154979f1e": {
          "model_module": "@jupyter-widgets/controls",
          "model_name": "FloatProgressModel",
          "model_module_version": "1.5.0",
          "state": {
            "_dom_classes": [],
            "_model_module": "@jupyter-widgets/controls",
            "_model_module_version": "1.5.0",
            "_model_name": "FloatProgressModel",
            "_view_count": null,
            "_view_module": "@jupyter-widgets/controls",
            "_view_module_version": "1.5.0",
            "_view_name": "ProgressView",
            "bar_style": "",
            "description": "",
            "description_tooltip": null,
            "layout": "IPY_MODEL_79b13bf780c347a38fe610c46afe88b0",
            "max": 1,
            "min": 0,
            "orientation": "horizontal",
            "style": "IPY_MODEL_329e0b2f8205443d9a1b78417d365b55",
            "value": 1
          }
        },
        "41ffa8deb9d64491be4d9f13fc80e025": {
          "model_module": "@jupyter-widgets/base",
          "model_name": "LayoutModel",
          "model_module_version": "1.2.0",
          "state": {
            "_model_module": "@jupyter-widgets/base",
            "_model_module_version": "1.2.0",
            "_model_name": "LayoutModel",
            "_view_count": null,
            "_view_module": "@jupyter-widgets/base",
            "_view_module_version": "1.2.0",
            "_view_name": "LayoutView",
            "align_content": null,
            "align_items": null,
            "align_self": null,
            "border": null,
            "bottom": null,
            "display": null,
            "flex": null,
            "flex_flow": null,
            "grid_area": null,
            "grid_auto_columns": null,
            "grid_auto_flow": null,
            "grid_auto_rows": null,
            "grid_column": null,
            "grid_gap": null,
            "grid_row": null,
            "grid_template_areas": null,
            "grid_template_columns": null,
            "grid_template_rows": null,
            "height": null,
            "justify_content": null,
            "justify_items": null,
            "left": null,
            "margin": null,
            "max_height": null,
            "max_width": null,
            "min_height": null,
            "min_width": null,
            "object_fit": null,
            "object_position": null,
            "order": null,
            "overflow": null,
            "overflow_x": null,
            "overflow_y": null,
            "padding": null,
            "right": null,
            "top": null,
            "visibility": null,
            "width": null
          }
        },
        "91050da017f340b4a7ab2b6b62f083b0": {
          "model_module": "@jupyter-widgets/base",
          "model_name": "LayoutModel",
          "model_module_version": "1.2.0",
          "state": {
            "_model_module": "@jupyter-widgets/base",
            "_model_module_version": "1.2.0",
            "_model_name": "LayoutModel",
            "_view_count": null,
            "_view_module": "@jupyter-widgets/base",
            "_view_module_version": "1.2.0",
            "_view_name": "LayoutView",
            "align_content": null,
            "align_items": null,
            "align_self": null,
            "border": null,
            "bottom": null,
            "display": null,
            "flex": null,
            "flex_flow": null,
            "grid_area": null,
            "grid_auto_columns": null,
            "grid_auto_flow": null,
            "grid_auto_rows": null,
            "grid_column": null,
            "grid_gap": null,
            "grid_row": null,
            "grid_template_areas": null,
            "grid_template_columns": null,
            "grid_template_rows": null,
            "height": null,
            "justify_content": null,
            "justify_items": null,
            "left": null,
            "margin": null,
            "max_height": null,
            "max_width": null,
            "min_height": null,
            "min_width": null,
            "object_fit": null,
            "object_position": null,
            "order": null,
            "overflow": null,
            "overflow_x": null,
            "overflow_y": null,
            "padding": null,
            "right": null,
            "top": null,
            "visibility": null,
            "width": null
          }
        },
        "017885c77a2c400ab9d778521521a0b0": {
          "model_module": "@jupyter-widgets/controls",
          "model_name": "DescriptionStyleModel",
          "model_module_version": "1.5.0",
          "state": {
            "_model_module": "@jupyter-widgets/controls",
            "_model_module_version": "1.5.0",
            "_model_name": "DescriptionStyleModel",
            "_view_count": null,
            "_view_module": "@jupyter-widgets/base",
            "_view_module_version": "1.2.0",
            "_view_name": "StyleView",
            "description_width": ""
          }
        },
        "79b13bf780c347a38fe610c46afe88b0": {
          "model_module": "@jupyter-widgets/base",
          "model_name": "LayoutModel",
          "model_module_version": "1.2.0",
          "state": {
            "_model_module": "@jupyter-widgets/base",
            "_model_module_version": "1.2.0",
            "_model_name": "LayoutModel",
            "_view_count": null,
            "_view_module": "@jupyter-widgets/base",
            "_view_module_version": "1.2.0",
            "_view_name": "LayoutView",
            "align_content": null,
            "align_items": null,
            "align_self": null,
            "border": null,
            "bottom": null,
            "display": null,
            "flex": null,
            "flex_flow": null,
            "grid_area": null,
            "grid_auto_columns": null,
            "grid_auto_flow": null,
            "grid_auto_rows": null,
            "grid_column": null,
            "grid_gap": null,
            "grid_row": null,
            "grid_template_areas": null,
            "grid_template_columns": null,
            "grid_template_rows": null,
            "height": null,
            "justify_content": null,
            "justify_items": null,
            "left": null,
            "margin": null,
            "max_height": null,
            "max_width": null,
            "min_height": null,
            "min_width": null,
            "object_fit": null,
            "object_position": null,
            "order": null,
            "overflow": null,
            "overflow_x": null,
            "overflow_y": null,
            "padding": null,
            "right": null,
            "top": null,
            "visibility": null,
            "width": null
          }
        },
        "329e0b2f8205443d9a1b78417d365b55": {
          "model_module": "@jupyter-widgets/controls",
          "model_name": "ProgressStyleModel",
          "model_module_version": "1.5.0",
          "state": {
            "_model_module": "@jupyter-widgets/controls",
            "_model_module_version": "1.5.0",
            "_model_name": "ProgressStyleModel",
            "_view_count": null,
            "_view_module": "@jupyter-widgets/base",
            "_view_module_version": "1.2.0",
            "_view_name": "StyleView",
            "bar_color": null,
            "description_width": ""
          }
        },
        "32badf1d3e39425ea32c0152de5fbf00": {
          "model_module": "@jupyter-widgets/controls",
          "model_name": "VBoxModel",
          "model_module_version": "1.5.0",
          "state": {
            "_dom_classes": [],
            "_model_module": "@jupyter-widgets/controls",
            "_model_module_version": "1.5.0",
            "_model_name": "VBoxModel",
            "_view_count": null,
            "_view_module": "@jupyter-widgets/controls",
            "_view_module_version": "1.5.0",
            "_view_name": "VBoxView",
            "box_style": "",
            "children": [
              "IPY_MODEL_73850751b69446f4bc314db3e460da13",
              "IPY_MODEL_2a11138586c24fb1a26020c5f453f557"
            ],
            "layout": "IPY_MODEL_2c1728f8ed5c46f9a3ff72ba8195f67d"
          }
        },
        "73850751b69446f4bc314db3e460da13": {
          "model_module": "@jupyter-widgets/controls",
          "model_name": "LabelModel",
          "model_module_version": "1.5.0",
          "state": {
            "_dom_classes": [],
            "_model_module": "@jupyter-widgets/controls",
            "_model_module_version": "1.5.0",
            "_model_name": "LabelModel",
            "_view_count": null,
            "_view_module": "@jupyter-widgets/controls",
            "_view_module_version": "1.5.0",
            "_view_name": "LabelView",
            "description": "",
            "description_tooltip": null,
            "layout": "IPY_MODEL_5ca47b33cf9f4d2c9428d751a5e7145f",
            "placeholder": "​",
            "style": "IPY_MODEL_603caa6232b145309bd58c559d640456",
            "value": "0.001 MB of 0.010 MB uploaded (0.000 MB deduped)\r"
          }
        },
        "2a11138586c24fb1a26020c5f453f557": {
          "model_module": "@jupyter-widgets/controls",
          "model_name": "FloatProgressModel",
          "model_module_version": "1.5.0",
          "state": {
            "_dom_classes": [],
            "_model_module": "@jupyter-widgets/controls",
            "_model_module_version": "1.5.0",
            "_model_name": "FloatProgressModel",
            "_view_count": null,
            "_view_module": "@jupyter-widgets/controls",
            "_view_module_version": "1.5.0",
            "_view_name": "ProgressView",
            "bar_style": "",
            "description": "",
            "description_tooltip": null,
            "layout": "IPY_MODEL_f75382ab4348482fae7620f7a8241e1c",
            "max": 1,
            "min": 0,
            "orientation": "horizontal",
            "style": "IPY_MODEL_936a822fac6c4a2792ff7ffc4f46ff71",
            "value": 0.08083685296139868
          }
        },
        "2c1728f8ed5c46f9a3ff72ba8195f67d": {
          "model_module": "@jupyter-widgets/base",
          "model_name": "LayoutModel",
          "model_module_version": "1.2.0",
          "state": {
            "_model_module": "@jupyter-widgets/base",
            "_model_module_version": "1.2.0",
            "_model_name": "LayoutModel",
            "_view_count": null,
            "_view_module": "@jupyter-widgets/base",
            "_view_module_version": "1.2.0",
            "_view_name": "LayoutView",
            "align_content": null,
            "align_items": null,
            "align_self": null,
            "border": null,
            "bottom": null,
            "display": null,
            "flex": null,
            "flex_flow": null,
            "grid_area": null,
            "grid_auto_columns": null,
            "grid_auto_flow": null,
            "grid_auto_rows": null,
            "grid_column": null,
            "grid_gap": null,
            "grid_row": null,
            "grid_template_areas": null,
            "grid_template_columns": null,
            "grid_template_rows": null,
            "height": null,
            "justify_content": null,
            "justify_items": null,
            "left": null,
            "margin": null,
            "max_height": null,
            "max_width": null,
            "min_height": null,
            "min_width": null,
            "object_fit": null,
            "object_position": null,
            "order": null,
            "overflow": null,
            "overflow_x": null,
            "overflow_y": null,
            "padding": null,
            "right": null,
            "top": null,
            "visibility": null,
            "width": null
          }
        },
        "5ca47b33cf9f4d2c9428d751a5e7145f": {
          "model_module": "@jupyter-widgets/base",
          "model_name": "LayoutModel",
          "model_module_version": "1.2.0",
          "state": {
            "_model_module": "@jupyter-widgets/base",
            "_model_module_version": "1.2.0",
            "_model_name": "LayoutModel",
            "_view_count": null,
            "_view_module": "@jupyter-widgets/base",
            "_view_module_version": "1.2.0",
            "_view_name": "LayoutView",
            "align_content": null,
            "align_items": null,
            "align_self": null,
            "border": null,
            "bottom": null,
            "display": null,
            "flex": null,
            "flex_flow": null,
            "grid_area": null,
            "grid_auto_columns": null,
            "grid_auto_flow": null,
            "grid_auto_rows": null,
            "grid_column": null,
            "grid_gap": null,
            "grid_row": null,
            "grid_template_areas": null,
            "grid_template_columns": null,
            "grid_template_rows": null,
            "height": null,
            "justify_content": null,
            "justify_items": null,
            "left": null,
            "margin": null,
            "max_height": null,
            "max_width": null,
            "min_height": null,
            "min_width": null,
            "object_fit": null,
            "object_position": null,
            "order": null,
            "overflow": null,
            "overflow_x": null,
            "overflow_y": null,
            "padding": null,
            "right": null,
            "top": null,
            "visibility": null,
            "width": null
          }
        },
        "603caa6232b145309bd58c559d640456": {
          "model_module": "@jupyter-widgets/controls",
          "model_name": "DescriptionStyleModel",
          "model_module_version": "1.5.0",
          "state": {
            "_model_module": "@jupyter-widgets/controls",
            "_model_module_version": "1.5.0",
            "_model_name": "DescriptionStyleModel",
            "_view_count": null,
            "_view_module": "@jupyter-widgets/base",
            "_view_module_version": "1.2.0",
            "_view_name": "StyleView",
            "description_width": ""
          }
        },
        "f75382ab4348482fae7620f7a8241e1c": {
          "model_module": "@jupyter-widgets/base",
          "model_name": "LayoutModel",
          "model_module_version": "1.2.0",
          "state": {
            "_model_module": "@jupyter-widgets/base",
            "_model_module_version": "1.2.0",
            "_model_name": "LayoutModel",
            "_view_count": null,
            "_view_module": "@jupyter-widgets/base",
            "_view_module_version": "1.2.0",
            "_view_name": "LayoutView",
            "align_content": null,
            "align_items": null,
            "align_self": null,
            "border": null,
            "bottom": null,
            "display": null,
            "flex": null,
            "flex_flow": null,
            "grid_area": null,
            "grid_auto_columns": null,
            "grid_auto_flow": null,
            "grid_auto_rows": null,
            "grid_column": null,
            "grid_gap": null,
            "grid_row": null,
            "grid_template_areas": null,
            "grid_template_columns": null,
            "grid_template_rows": null,
            "height": null,
            "justify_content": null,
            "justify_items": null,
            "left": null,
            "margin": null,
            "max_height": null,
            "max_width": null,
            "min_height": null,
            "min_width": null,
            "object_fit": null,
            "object_position": null,
            "order": null,
            "overflow": null,
            "overflow_x": null,
            "overflow_y": null,
            "padding": null,
            "right": null,
            "top": null,
            "visibility": null,
            "width": null
          }
        },
        "936a822fac6c4a2792ff7ffc4f46ff71": {
          "model_module": "@jupyter-widgets/controls",
          "model_name": "ProgressStyleModel",
          "model_module_version": "1.5.0",
          "state": {
            "_model_module": "@jupyter-widgets/controls",
            "_model_module_version": "1.5.0",
            "_model_name": "ProgressStyleModel",
            "_view_count": null,
            "_view_module": "@jupyter-widgets/base",
            "_view_module_version": "1.2.0",
            "_view_name": "StyleView",
            "bar_color": null,
            "description_width": ""
          }
        },
        "144304ec06a744ca89c28b80a98d78f3": {
          "model_module": "@jupyter-widgets/controls",
          "model_name": "VBoxModel",
          "model_module_version": "1.5.0",
          "state": {
            "_dom_classes": [],
            "_model_module": "@jupyter-widgets/controls",
            "_model_module_version": "1.5.0",
            "_model_name": "VBoxModel",
            "_view_count": null,
            "_view_module": "@jupyter-widgets/controls",
            "_view_module_version": "1.5.0",
            "_view_name": "VBoxView",
            "box_style": "",
            "children": [
              "IPY_MODEL_5f3a84d9f9394ab7b8e68fe3716cae6c",
              "IPY_MODEL_9e904893028240cabe21a06cd7d1d29d"
            ],
            "layout": "IPY_MODEL_586e4002b79b40d396ce7360eff3cc3c"
          }
        },
        "5f3a84d9f9394ab7b8e68fe3716cae6c": {
          "model_module": "@jupyter-widgets/controls",
          "model_name": "LabelModel",
          "model_module_version": "1.5.0",
          "state": {
            "_dom_classes": [],
            "_model_module": "@jupyter-widgets/controls",
            "_model_module_version": "1.5.0",
            "_model_name": "LabelModel",
            "_view_count": null,
            "_view_module": "@jupyter-widgets/controls",
            "_view_module_version": "1.5.0",
            "_view_name": "LabelView",
            "description": "",
            "description_tooltip": null,
            "layout": "IPY_MODEL_2779833cee394e5188065a1dfd0a2d15",
            "placeholder": "​",
            "style": "IPY_MODEL_787963d69386484faff62d5b449d5f29",
            "value": "0.001 MB of 0.001 MB uploaded (0.000 MB deduped)\r"
          }
        },
        "9e904893028240cabe21a06cd7d1d29d": {
          "model_module": "@jupyter-widgets/controls",
          "model_name": "FloatProgressModel",
          "model_module_version": "1.5.0",
          "state": {
            "_dom_classes": [],
            "_model_module": "@jupyter-widgets/controls",
            "_model_module_version": "1.5.0",
            "_model_name": "FloatProgressModel",
            "_view_count": null,
            "_view_module": "@jupyter-widgets/controls",
            "_view_module_version": "1.5.0",
            "_view_name": "ProgressView",
            "bar_style": "",
            "description": "",
            "description_tooltip": null,
            "layout": "IPY_MODEL_392516f51351446495592afed188201e",
            "max": 1,
            "min": 0,
            "orientation": "horizontal",
            "style": "IPY_MODEL_3bd6e39a236a4fd8b74d3bff69e0afca",
            "value": 1
          }
        },
        "586e4002b79b40d396ce7360eff3cc3c": {
          "model_module": "@jupyter-widgets/base",
          "model_name": "LayoutModel",
          "model_module_version": "1.2.0",
          "state": {
            "_model_module": "@jupyter-widgets/base",
            "_model_module_version": "1.2.0",
            "_model_name": "LayoutModel",
            "_view_count": null,
            "_view_module": "@jupyter-widgets/base",
            "_view_module_version": "1.2.0",
            "_view_name": "LayoutView",
            "align_content": null,
            "align_items": null,
            "align_self": null,
            "border": null,
            "bottom": null,
            "display": null,
            "flex": null,
            "flex_flow": null,
            "grid_area": null,
            "grid_auto_columns": null,
            "grid_auto_flow": null,
            "grid_auto_rows": null,
            "grid_column": null,
            "grid_gap": null,
            "grid_row": null,
            "grid_template_areas": null,
            "grid_template_columns": null,
            "grid_template_rows": null,
            "height": null,
            "justify_content": null,
            "justify_items": null,
            "left": null,
            "margin": null,
            "max_height": null,
            "max_width": null,
            "min_height": null,
            "min_width": null,
            "object_fit": null,
            "object_position": null,
            "order": null,
            "overflow": null,
            "overflow_x": null,
            "overflow_y": null,
            "padding": null,
            "right": null,
            "top": null,
            "visibility": null,
            "width": null
          }
        },
        "2779833cee394e5188065a1dfd0a2d15": {
          "model_module": "@jupyter-widgets/base",
          "model_name": "LayoutModel",
          "model_module_version": "1.2.0",
          "state": {
            "_model_module": "@jupyter-widgets/base",
            "_model_module_version": "1.2.0",
            "_model_name": "LayoutModel",
            "_view_count": null,
            "_view_module": "@jupyter-widgets/base",
            "_view_module_version": "1.2.0",
            "_view_name": "LayoutView",
            "align_content": null,
            "align_items": null,
            "align_self": null,
            "border": null,
            "bottom": null,
            "display": null,
            "flex": null,
            "flex_flow": null,
            "grid_area": null,
            "grid_auto_columns": null,
            "grid_auto_flow": null,
            "grid_auto_rows": null,
            "grid_column": null,
            "grid_gap": null,
            "grid_row": null,
            "grid_template_areas": null,
            "grid_template_columns": null,
            "grid_template_rows": null,
            "height": null,
            "justify_content": null,
            "justify_items": null,
            "left": null,
            "margin": null,
            "max_height": null,
            "max_width": null,
            "min_height": null,
            "min_width": null,
            "object_fit": null,
            "object_position": null,
            "order": null,
            "overflow": null,
            "overflow_x": null,
            "overflow_y": null,
            "padding": null,
            "right": null,
            "top": null,
            "visibility": null,
            "width": null
          }
        },
        "787963d69386484faff62d5b449d5f29": {
          "model_module": "@jupyter-widgets/controls",
          "model_name": "DescriptionStyleModel",
          "model_module_version": "1.5.0",
          "state": {
            "_model_module": "@jupyter-widgets/controls",
            "_model_module_version": "1.5.0",
            "_model_name": "DescriptionStyleModel",
            "_view_count": null,
            "_view_module": "@jupyter-widgets/base",
            "_view_module_version": "1.2.0",
            "_view_name": "StyleView",
            "description_width": ""
          }
        },
        "392516f51351446495592afed188201e": {
          "model_module": "@jupyter-widgets/base",
          "model_name": "LayoutModel",
          "model_module_version": "1.2.0",
          "state": {
            "_model_module": "@jupyter-widgets/base",
            "_model_module_version": "1.2.0",
            "_model_name": "LayoutModel",
            "_view_count": null,
            "_view_module": "@jupyter-widgets/base",
            "_view_module_version": "1.2.0",
            "_view_name": "LayoutView",
            "align_content": null,
            "align_items": null,
            "align_self": null,
            "border": null,
            "bottom": null,
            "display": null,
            "flex": null,
            "flex_flow": null,
            "grid_area": null,
            "grid_auto_columns": null,
            "grid_auto_flow": null,
            "grid_auto_rows": null,
            "grid_column": null,
            "grid_gap": null,
            "grid_row": null,
            "grid_template_areas": null,
            "grid_template_columns": null,
            "grid_template_rows": null,
            "height": null,
            "justify_content": null,
            "justify_items": null,
            "left": null,
            "margin": null,
            "max_height": null,
            "max_width": null,
            "min_height": null,
            "min_width": null,
            "object_fit": null,
            "object_position": null,
            "order": null,
            "overflow": null,
            "overflow_x": null,
            "overflow_y": null,
            "padding": null,
            "right": null,
            "top": null,
            "visibility": null,
            "width": null
          }
        },
        "3bd6e39a236a4fd8b74d3bff69e0afca": {
          "model_module": "@jupyter-widgets/controls",
          "model_name": "ProgressStyleModel",
          "model_module_version": "1.5.0",
          "state": {
            "_model_module": "@jupyter-widgets/controls",
            "_model_module_version": "1.5.0",
            "_model_name": "ProgressStyleModel",
            "_view_count": null,
            "_view_module": "@jupyter-widgets/base",
            "_view_module_version": "1.2.0",
            "_view_name": "StyleView",
            "bar_color": null,
            "description_width": ""
          }
        },
        "ec5cdbe09f0b43f89f3f4aa1e1d1b06d": {
          "model_module": "@jupyter-widgets/controls",
          "model_name": "VBoxModel",
          "model_module_version": "1.5.0",
          "state": {
            "_dom_classes": [],
            "_model_module": "@jupyter-widgets/controls",
            "_model_module_version": "1.5.0",
            "_model_name": "VBoxModel",
            "_view_count": null,
            "_view_module": "@jupyter-widgets/controls",
            "_view_module_version": "1.5.0",
            "_view_name": "VBoxView",
            "box_style": "",
            "children": [
              "IPY_MODEL_4e8e270fedd14d549d11d8fa7e768fda",
              "IPY_MODEL_7aab126661bc407b81af37326159209f"
            ],
            "layout": "IPY_MODEL_6e4909a7793e427e9080bd93971afb09"
          }
        },
        "4e8e270fedd14d549d11d8fa7e768fda": {
          "model_module": "@jupyter-widgets/controls",
          "model_name": "LabelModel",
          "model_module_version": "1.5.0",
          "state": {
            "_dom_classes": [],
            "_model_module": "@jupyter-widgets/controls",
            "_model_module_version": "1.5.0",
            "_model_name": "LabelModel",
            "_view_count": null,
            "_view_module": "@jupyter-widgets/controls",
            "_view_module_version": "1.5.0",
            "_view_name": "LabelView",
            "description": "",
            "description_tooltip": null,
            "layout": "IPY_MODEL_56fa460784b64c0ab64f56875ba04bf4",
            "placeholder": "​",
            "style": "IPY_MODEL_b3f7178a3ec244eab7d4a4b657b96cff",
            "value": "0.001 MB of 0.001 MB uploaded (0.000 MB deduped)\r"
          }
        },
        "7aab126661bc407b81af37326159209f": {
          "model_module": "@jupyter-widgets/controls",
          "model_name": "FloatProgressModel",
          "model_module_version": "1.5.0",
          "state": {
            "_dom_classes": [],
            "_model_module": "@jupyter-widgets/controls",
            "_model_module_version": "1.5.0",
            "_model_name": "FloatProgressModel",
            "_view_count": null,
            "_view_module": "@jupyter-widgets/controls",
            "_view_module_version": "1.5.0",
            "_view_name": "ProgressView",
            "bar_style": "",
            "description": "",
            "description_tooltip": null,
            "layout": "IPY_MODEL_af581573d83a4bbba98e405a62776e4c",
            "max": 1,
            "min": 0,
            "orientation": "horizontal",
            "style": "IPY_MODEL_a2ea2f237c6749859ad0a624e41dd656",
            "value": 1
          }
        },
        "6e4909a7793e427e9080bd93971afb09": {
          "model_module": "@jupyter-widgets/base",
          "model_name": "LayoutModel",
          "model_module_version": "1.2.0",
          "state": {
            "_model_module": "@jupyter-widgets/base",
            "_model_module_version": "1.2.0",
            "_model_name": "LayoutModel",
            "_view_count": null,
            "_view_module": "@jupyter-widgets/base",
            "_view_module_version": "1.2.0",
            "_view_name": "LayoutView",
            "align_content": null,
            "align_items": null,
            "align_self": null,
            "border": null,
            "bottom": null,
            "display": null,
            "flex": null,
            "flex_flow": null,
            "grid_area": null,
            "grid_auto_columns": null,
            "grid_auto_flow": null,
            "grid_auto_rows": null,
            "grid_column": null,
            "grid_gap": null,
            "grid_row": null,
            "grid_template_areas": null,
            "grid_template_columns": null,
            "grid_template_rows": null,
            "height": null,
            "justify_content": null,
            "justify_items": null,
            "left": null,
            "margin": null,
            "max_height": null,
            "max_width": null,
            "min_height": null,
            "min_width": null,
            "object_fit": null,
            "object_position": null,
            "order": null,
            "overflow": null,
            "overflow_x": null,
            "overflow_y": null,
            "padding": null,
            "right": null,
            "top": null,
            "visibility": null,
            "width": null
          }
        },
        "56fa460784b64c0ab64f56875ba04bf4": {
          "model_module": "@jupyter-widgets/base",
          "model_name": "LayoutModel",
          "model_module_version": "1.2.0",
          "state": {
            "_model_module": "@jupyter-widgets/base",
            "_model_module_version": "1.2.0",
            "_model_name": "LayoutModel",
            "_view_count": null,
            "_view_module": "@jupyter-widgets/base",
            "_view_module_version": "1.2.0",
            "_view_name": "LayoutView",
            "align_content": null,
            "align_items": null,
            "align_self": null,
            "border": null,
            "bottom": null,
            "display": null,
            "flex": null,
            "flex_flow": null,
            "grid_area": null,
            "grid_auto_columns": null,
            "grid_auto_flow": null,
            "grid_auto_rows": null,
            "grid_column": null,
            "grid_gap": null,
            "grid_row": null,
            "grid_template_areas": null,
            "grid_template_columns": null,
            "grid_template_rows": null,
            "height": null,
            "justify_content": null,
            "justify_items": null,
            "left": null,
            "margin": null,
            "max_height": null,
            "max_width": null,
            "min_height": null,
            "min_width": null,
            "object_fit": null,
            "object_position": null,
            "order": null,
            "overflow": null,
            "overflow_x": null,
            "overflow_y": null,
            "padding": null,
            "right": null,
            "top": null,
            "visibility": null,
            "width": null
          }
        },
        "b3f7178a3ec244eab7d4a4b657b96cff": {
          "model_module": "@jupyter-widgets/controls",
          "model_name": "DescriptionStyleModel",
          "model_module_version": "1.5.0",
          "state": {
            "_model_module": "@jupyter-widgets/controls",
            "_model_module_version": "1.5.0",
            "_model_name": "DescriptionStyleModel",
            "_view_count": null,
            "_view_module": "@jupyter-widgets/base",
            "_view_module_version": "1.2.0",
            "_view_name": "StyleView",
            "description_width": ""
          }
        },
        "af581573d83a4bbba98e405a62776e4c": {
          "model_module": "@jupyter-widgets/base",
          "model_name": "LayoutModel",
          "model_module_version": "1.2.0",
          "state": {
            "_model_module": "@jupyter-widgets/base",
            "_model_module_version": "1.2.0",
            "_model_name": "LayoutModel",
            "_view_count": null,
            "_view_module": "@jupyter-widgets/base",
            "_view_module_version": "1.2.0",
            "_view_name": "LayoutView",
            "align_content": null,
            "align_items": null,
            "align_self": null,
            "border": null,
            "bottom": null,
            "display": null,
            "flex": null,
            "flex_flow": null,
            "grid_area": null,
            "grid_auto_columns": null,
            "grid_auto_flow": null,
            "grid_auto_rows": null,
            "grid_column": null,
            "grid_gap": null,
            "grid_row": null,
            "grid_template_areas": null,
            "grid_template_columns": null,
            "grid_template_rows": null,
            "height": null,
            "justify_content": null,
            "justify_items": null,
            "left": null,
            "margin": null,
            "max_height": null,
            "max_width": null,
            "min_height": null,
            "min_width": null,
            "object_fit": null,
            "object_position": null,
            "order": null,
            "overflow": null,
            "overflow_x": null,
            "overflow_y": null,
            "padding": null,
            "right": null,
            "top": null,
            "visibility": null,
            "width": null
          }
        },
        "a2ea2f237c6749859ad0a624e41dd656": {
          "model_module": "@jupyter-widgets/controls",
          "model_name": "ProgressStyleModel",
          "model_module_version": "1.5.0",
          "state": {
            "_model_module": "@jupyter-widgets/controls",
            "_model_module_version": "1.5.0",
            "_model_name": "ProgressStyleModel",
            "_view_count": null,
            "_view_module": "@jupyter-widgets/base",
            "_view_module_version": "1.2.0",
            "_view_name": "StyleView",
            "bar_color": null,
            "description_width": ""
          }
        }
      }
    }
  },
  "nbformat": 4,
  "nbformat_minor": 0
}